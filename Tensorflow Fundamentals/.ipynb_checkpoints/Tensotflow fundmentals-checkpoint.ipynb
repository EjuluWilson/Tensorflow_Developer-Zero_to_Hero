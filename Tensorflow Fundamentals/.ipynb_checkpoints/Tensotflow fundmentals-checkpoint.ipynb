{
 "cells": [
  {
   "cell_type": "markdown",
   "id": "14027f14",
   "metadata": {},
   "source": [
    "# This notebook covers the most fundamental concepts of tensors using Tensorflow"
   ]
  },
  {
   "cell_type": "code",
   "execution_count": 209,
   "id": "ab51a8c6",
   "metadata": {},
   "outputs": [],
   "source": [
    "import tensorflow as tf"
   ]
  },
  {
   "cell_type": "code",
   "execution_count": 210,
   "id": "b108f18a",
   "metadata": {},
   "outputs": [
    {
     "name": "stdout",
     "output_type": "stream",
     "text": [
      "2.3.0\n"
     ]
    }
   ],
   "source": [
    "print(tf.__version__)"
   ]
  },
  {
   "cell_type": "markdown",
   "id": "44bc7a3f",
   "metadata": {},
   "source": [
    "### >>Basic math operations"
   ]
  },
  {
   "cell_type": "code",
   "execution_count": 346,
   "id": "509cc252",
   "metadata": {},
   "outputs": [
    {
     "name": "stdout",
     "output_type": "stream",
     "text": [
      "16\n",
      "4.0\n",
      "2.7725887\n"
     ]
    }
   ],
   "source": [
    "print(tf.square(4).numpy()) #square\n",
    "print(tf.sqrt(tf.cast(16, tf.float32)).numpy())#reuires none int\n",
    "print(tf.math.log(tf.cast(16, tf.float32)).numpy()) #log"
   ]
  },
  {
   "cell_type": "markdown",
   "id": "eccba75d",
   "metadata": {},
   "source": [
    "## >> create a tensor from tf.constant\n",
    "- for creating tensors whose values cannot be edited"
   ]
  },
  {
   "cell_type": "code",
   "execution_count": 347,
   "id": "76ab1f39",
   "metadata": {},
   "outputs": [
    {
     "data": {
      "text/plain": [
       "<tf.Tensor: shape=(), dtype=int32, numpy=7>"
      ]
     },
     "execution_count": 347,
     "metadata": {},
     "output_type": "execute_result"
    }
   ],
   "source": [
    "# creatr a tensor from tf.constant\n",
    "scalar = tf.constant(7)\n",
    "scalar"
   ]
  },
  {
   "cell_type": "code",
   "execution_count": 348,
   "id": "2906373b",
   "metadata": {},
   "outputs": [
    {
     "data": {
      "text/plain": [
       "0"
      ]
     },
     "execution_count": 348,
     "metadata": {},
     "output_type": "execute_result"
    }
   ],
   "source": [
    "#check for number of dimentions\n",
    "scalar.ndim"
   ]
  },
  {
   "cell_type": "code",
   "execution_count": 213,
   "id": "46a7dcb8",
   "metadata": {},
   "outputs": [
    {
     "name": "stdout",
     "output_type": "stream",
     "text": [
      "tf.Tensor([10 10], shape=(2,), dtype=int32)\n"
     ]
    }
   ],
   "source": [
    "#create a vector\n",
    "vector = tf.constant([10,10])\n",
    "print(vector)"
   ]
  },
  {
   "cell_type": "code",
   "execution_count": 214,
   "id": "5de2e1a3",
   "metadata": {},
   "outputs": [
    {
     "data": {
      "text/plain": [
       "1"
      ]
     },
     "execution_count": 214,
     "metadata": {},
     "output_type": "execute_result"
    }
   ],
   "source": [
    "#check for number of dimentions\n",
    "vector.ndim"
   ]
  },
  {
   "cell_type": "code",
   "execution_count": 215,
   "id": "3b16e6db",
   "metadata": {},
   "outputs": [
    {
     "data": {
      "text/plain": [
       "<tf.Tensor: shape=(3, 2), dtype=int32, numpy=\n",
       "array([[1, 3],\n",
       "       [4, 5],\n",
       "       [6, 9]])>"
      ]
     },
     "execution_count": 215,
     "metadata": {},
     "output_type": "execute_result"
    }
   ],
   "source": [
    "#create a matrix\n",
    "matrix = tf.constant([[1,3],\n",
    "                      [4,5],\n",
    "                      [6,9]])\n",
    "matrix"
   ]
  },
  {
   "cell_type": "code",
   "execution_count": 216,
   "id": "bb64948a",
   "metadata": {},
   "outputs": [
    {
     "data": {
      "text/plain": [
       "2"
      ]
     },
     "execution_count": 216,
     "metadata": {},
     "output_type": "execute_result"
    }
   ],
   "source": [
    "#check for the number of dimentions\n",
    "matrix.ndim"
   ]
  },
  {
   "cell_type": "code",
   "execution_count": 217,
   "id": "af62c295",
   "metadata": {},
   "outputs": [
    {
     "data": {
      "text/plain": [
       "<tf.Tensor: shape=(3, 2, 3), dtype=int32, numpy=\n",
       "array([[[ 1,  2,  3],\n",
       "        [ 4,  5,  6]],\n",
       "\n",
       "       [[ 7,  8,  9],\n",
       "        [10, 11, 12]],\n",
       "\n",
       "       [[16, 17, 18],\n",
       "        [19, 20, 21]]])>"
      ]
     },
     "execution_count": 217,
     "metadata": {},
     "output_type": "execute_result"
    }
   ],
   "source": [
    "#create a tensor\n",
    "tensor = tf.constant([[[1,2,3],\n",
    "                      [4,5,6]],\n",
    "                     [[7,8,9],\n",
    "                      [10,11,12]],\n",
    "                     [[16,17,18],\n",
    "                      [19,20,21]]])\n",
    "tensor"
   ]
  },
  {
   "cell_type": "code",
   "execution_count": 218,
   "id": "81bfded6",
   "metadata": {
    "scrolled": true
   },
   "outputs": [
    {
     "data": {
      "text/plain": [
       "3"
      ]
     },
     "execution_count": 218,
     "metadata": {},
     "output_type": "execute_result"
    }
   ],
   "source": [
    "tensor.ndim"
   ]
  },
  {
   "cell_type": "markdown",
   "id": "307afad2",
   "metadata": {},
   "source": [
    "##### A constant is a single number, a vector is a 1D tensor, a matrix is a 2D tensor while a tensor is an n-dimrntional array"
   ]
  },
  {
   "cell_type": "code",
   "execution_count": 219,
   "id": "89c5fcc7",
   "metadata": {},
   "outputs": [
    {
     "data": {
      "text/plain": [
       "<tf.Tensor: shape=(3, 2), dtype=float16, numpy=\n",
       "array([[1., 3.],\n",
       "       [4., 5.],\n",
       "       [6., 9.]], dtype=float16)>"
      ]
     },
     "execution_count": 219,
     "metadata": {},
     "output_type": "execute_result"
    }
   ],
   "source": [
    "#chaging the tensor datatype\n",
    "#useful for reducing storage requirenmrent  \n",
    "a = tf.constant([[1,3],\n",
    "                [4,5],\n",
    "                [6,9]], dtype = tf.float16)\n",
    "a"
   ]
  },
  {
   "cell_type": "markdown",
   "id": "8508e1a8",
   "metadata": {},
   "source": [
    "## >> create a tensor from tf.Variable()\n",
    "- creates tensors whose values can be edited (like lists in python)"
   ]
  },
  {
   "cell_type": "code",
   "execution_count": 220,
   "id": "ec697282",
   "metadata": {},
   "outputs": [
    {
     "data": {
      "text/plain": [
       "<tf.Variable 'Variable:0' shape=(2,) dtype=int32, numpy=array([1, 3])>"
      ]
     },
     "execution_count": 220,
     "metadata": {},
     "output_type": "execute_result"
    }
   ],
   "source": [
    "a = tf.Variable([1,3])\n",
    "a"
   ]
  },
  {
   "cell_type": "code",
   "execution_count": 221,
   "id": "94d45444",
   "metadata": {},
   "outputs": [
    {
     "name": "stdout",
     "output_type": "stream",
     "text": [
      "tf.Tensor(1, shape=(), dtype=int32)\n"
     ]
    }
   ],
   "source": [
    "print(a[0])"
   ]
  },
  {
   "cell_type": "code",
   "execution_count": 222,
   "id": "db26a74f",
   "metadata": {},
   "outputs": [
    {
     "data": {
      "text/plain": [
       "<tf.Variable 'Variable:0' shape=(2,) dtype=int32, numpy=array([7, 3])>"
      ]
     },
     "execution_count": 222,
     "metadata": {},
     "output_type": "execute_result"
    }
   ],
   "source": [
    "#changing the tensor value(use assign)\n",
    "a[0].assign(7)\n",
    "a"
   ]
  },
  {
   "cell_type": "markdown",
   "id": "1d7f3795",
   "metadata": {},
   "source": [
    "**Note** Rarely will you need to decide between using tf.constant and tf.variable as tf does that for you"
   ]
  },
  {
   "cell_type": "markdown",
   "id": "a21df05b",
   "metadata": {},
   "source": [
    "## >> creating random tesors"
   ]
  },
  {
   "cell_type": "code",
   "execution_count": 223,
   "id": "ec983a1e",
   "metadata": {},
   "outputs": [
    {
     "data": {
      "text/plain": [
       "<tf.Tensor: shape=(3, 2), dtype=float32, numpy=\n",
       "array([[0.6645621 , 0.44100678],\n",
       "       [0.3528825 , 0.46448255],\n",
       "       [0.03366041, 0.68467236]], dtype=float32)>"
      ]
     },
     "execution_count": 223,
     "metadata": {},
     "output_type": "execute_result"
    }
   ],
   "source": [
    "rt1 = tf.random.Generator.from_seed(42)\n",
    "rt1 = tf.random.uniform(shape=(3,2)) #from random distribution\n",
    "rt1"
   ]
  },
  {
   "cell_type": "markdown",
   "id": "cc4a2118",
   "metadata": {},
   "source": [
    "## >> shuffling tesors"
   ]
  },
  {
   "cell_type": "code",
   "execution_count": 224,
   "id": "baa68250",
   "metadata": {},
   "outputs": [
    {
     "data": {
      "text/plain": [
       "<tf.Tensor: shape=(3, 2), dtype=float32, numpy=\n",
       "array([[0.6645621 , 0.44100678],\n",
       "       [0.3528825 , 0.46448255],\n",
       "       [0.03366041, 0.68467236]], dtype=float32)>"
      ]
     },
     "execution_count": 224,
     "metadata": {},
     "output_type": "execute_result"
    }
   ],
   "source": [
    "tf.random.set_seed(42) #global level seed \n",
    "tf.random.shuffle(rt1, seed = 42 ) #operation level  random seed"
   ]
  },
  {
   "cell_type": "markdown",
   "id": "7595a8ec",
   "metadata": {},
   "source": [
    "> **Rule 4:**  both seeds are required for no change. Seeding is important to ensure a consistent/reproducable experiments"
   ]
  },
  {
   "cell_type": "markdown",
   "id": "71decd26",
   "metadata": {},
   "source": [
    "## >> other ways to create tensors"
   ]
  },
  {
   "cell_type": "code",
   "execution_count": 225,
   "id": "a071a8ea",
   "metadata": {},
   "outputs": [
    {
     "data": {
      "text/plain": [
       "<tf.Tensor: shape=(3, 4), dtype=int16, numpy=\n",
       "array([[1, 1, 1, 1],\n",
       "       [1, 1, 1, 1],\n",
       "       [1, 1, 1, 1]], dtype=int16)>"
      ]
     },
     "execution_count": 225,
     "metadata": {},
     "output_type": "execute_result"
    }
   ],
   "source": [
    "# a tesor of ones\n",
    "tf.ones(shape=[3, 4], dtype=tf.int16)"
   ]
  },
  {
   "cell_type": "code",
   "execution_count": 226,
   "id": "0d7b38c3",
   "metadata": {},
   "outputs": [
    {
     "data": {
      "text/plain": [
       "<tf.Tensor: shape=(3, 4), dtype=int16, numpy=\n",
       "array([[0, 0, 0, 0],\n",
       "       [0, 0, 0, 0],\n",
       "       [0, 0, 0, 0]], dtype=int16)>"
      ]
     },
     "execution_count": 226,
     "metadata": {},
     "output_type": "execute_result"
    }
   ],
   "source": [
    "# a tesor of ones\n",
    "tf.zeros(shape=[3, 4], dtype=tf.int16)"
   ]
  },
  {
   "cell_type": "code",
   "execution_count": 227,
   "id": "6e2a9802",
   "metadata": {},
   "outputs": [
    {
     "name": "stdout",
     "output_type": "stream",
     "text": [
      "[ 1  2  3  4  5  6  7  8  9 10 11 12 13 14 15 16 17 18 19 20 21 22 23 24] \n",
      "\n",
      "tf.Tensor(\n",
      "[[[ 1  2  3  4]\n",
      "  [ 5  6  7  8]\n",
      "  [ 9 10 11 12]]\n",
      "\n",
      " [[13 14 15 16]\n",
      "  [17 18 19 20]\n",
      "  [21 22 23 24]]], shape=(2, 3, 4), dtype=int32)\n"
     ]
    }
   ],
   "source": [
    "# from numpy array\n",
    "import numpy as np \n",
    "np_array = np.arange(1,25)\n",
    "print(np_array,\"\\n\")\n",
    "\n",
    "tf_array = tf.constant(np_array,shape=(2,3,4)) # shape should relate to the number of elements in the numpy array\n",
    "print(tf_array)"
   ]
  },
  {
   "cell_type": "markdown",
   "id": "68ae641e",
   "metadata": {},
   "source": [
    "> **Difference between np arrays and tf tensors** tf tensors can run much faster on a GPU for numerical computing"
   ]
  },
  {
   "cell_type": "markdown",
   "id": "ea3d8d1f",
   "metadata": {},
   "source": [
    "### >> useful tensor attributes"
   ]
  },
  {
   "cell_type": "code",
   "execution_count": 228,
   "id": "909beca6",
   "metadata": {},
   "outputs": [
    {
     "name": "stdout",
     "output_type": "stream",
     "text": [
      "(3, 2, 3)\n",
      "tf.Tensor(18, shape=(), dtype=int32)\n",
      "3\n"
     ]
    }
   ],
   "source": [
    "tx = tf.constant([[[1,2,3],\n",
    "                      [4,5,6]],\n",
    "                     [[7,8,9],\n",
    "                      [10,11,12]],\n",
    "                     [[16,17,18],\n",
    "                      [19,20,21]]])\n",
    "\n",
    "#shape\n",
    "print(tx.shape)\n",
    "\n",
    "#size/number of elements\n",
    "print(tf.size(tx))\n",
    "\n",
    "#number of dimentions\n",
    "print(tx.ndim)"
   ]
  },
  {
   "cell_type": "code",
   "execution_count": 229,
   "id": "1b9ca258",
   "metadata": {},
   "outputs": [
    {
     "name": "stdout",
     "output_type": "stream",
     "text": [
      "(3, 2, 4)\n",
      "24\n",
      "3\n"
     ]
    }
   ],
   "source": [
    "#prettier\n",
    "tx = tf.constant([[[1,2,3,1],\n",
    "                      [4,5,6,2]],\n",
    "                  \n",
    "                     [[7,8,9,3],\n",
    "                      [10,11,12,4]],\n",
    "                  \n",
    "                     [[16,17,18,5],\n",
    "                      [19,20,21,6]]])\n",
    "\n",
    "#shape\n",
    "print(tx.shape)\n",
    "\n",
    "#size/number of elements\n",
    "print(tf.size(tx).numpy())\n",
    "\n",
    "#number of dimentions\n",
    "print(tx.ndim)"
   ]
  },
  {
   "cell_type": "markdown",
   "id": "a4b55fff",
   "metadata": {},
   "source": [
    "### >> indexing tensors\n",
    "- works like python lists"
   ]
  },
  {
   "cell_type": "code",
   "execution_count": 230,
   "id": "9f2fcab6",
   "metadata": {},
   "outputs": [
    {
     "name": "stdout",
     "output_type": "stream",
     "text": [
      "(3, 2, 4)\n",
      "24\n",
      "3\n"
     ]
    }
   ],
   "source": [
    "#prettier\n",
    "tx1 = tf.constant([[[1,2,3,1],\n",
    "                      [4,5,6,2]],\n",
    "                  \n",
    "                     [[7,8,9,3],\n",
    "                      [10,11,12,4]],\n",
    "                  \n",
    "                     [[16,17,18,5],\n",
    "                      [19,20,21,6]]])\n",
    "\n",
    "#shape\n",
    "print(tx.shape)\n",
    "\n",
    "#size/number of elements\n",
    "print(tf.size(tx).numpy())\n",
    "\n",
    "#number of dimentions\n",
    "print(tx.ndim)"
   ]
  },
  {
   "cell_type": "code",
   "execution_count": 231,
   "id": "93bc5d11",
   "metadata": {},
   "outputs": [
    {
     "data": {
      "text/plain": [
       "<tf.Tensor: shape=(2, 2, 2), dtype=int32, numpy=\n",
       "array([[[ 1,  2],\n",
       "        [ 4,  5]],\n",
       "\n",
       "       [[ 7,  8],\n",
       "        [10, 11]]])>"
      ]
     },
     "execution_count": 231,
     "metadata": {},
     "output_type": "execute_result"
    }
   ],
   "source": [
    "#first element of each dimention\n",
    "tx1[:2,:2,:2]"
   ]
  },
  {
   "cell_type": "code",
   "execution_count": 232,
   "id": "ac68d442",
   "metadata": {},
   "outputs": [
    {
     "data": {
      "text/plain": [
       "<tf.Tensor: shape=(3, 4), dtype=int32, numpy=\n",
       "array([[ 4,  5,  6,  2],\n",
       "       [10, 11, 12,  4],\n",
       "       [19, 20, 21,  6]])>"
      ]
     },
     "execution_count": 232,
     "metadata": {},
     "output_type": "execute_result"
    }
   ],
   "source": [
    "# last element of each of the 3 dimentions (should be a list)\n",
    "tx1[:,-1]"
   ]
  },
  {
   "cell_type": "code",
   "execution_count": 233,
   "id": "4e819ba4",
   "metadata": {},
   "outputs": [
    {
     "data": {
      "text/plain": [
       "<tf.Tensor: shape=(2, 2, 2), dtype=int32, numpy=\n",
       "array([[[ 1,  2],\n",
       "        [ 4,  5]],\n",
       "\n",
       "       [[ 7,  8],\n",
       "        [10, 11]]])>"
      ]
     },
     "execution_count": 233,
     "metadata": {},
     "output_type": "execute_result"
    }
   ],
   "source": [
    "tx1[:2,:,:2]"
   ]
  },
  {
   "cell_type": "code",
   "execution_count": 234,
   "id": "3a2f02b3",
   "metadata": {},
   "outputs": [
    {
     "data": {
      "text/plain": [
       "<tf.Tensor: shape=(3, 2, 4, 1), dtype=int32, numpy=\n",
       "array([[[[ 1],\n",
       "         [ 2],\n",
       "         [ 3],\n",
       "         [ 1]],\n",
       "\n",
       "        [[ 4],\n",
       "         [ 5],\n",
       "         [ 6],\n",
       "         [ 2]]],\n",
       "\n",
       "\n",
       "       [[[ 7],\n",
       "         [ 8],\n",
       "         [ 9],\n",
       "         [ 3]],\n",
       "\n",
       "        [[10],\n",
       "         [11],\n",
       "         [12],\n",
       "         [ 4]]],\n",
       "\n",
       "\n",
       "       [[[16],\n",
       "         [17],\n",
       "         [18],\n",
       "         [ 5]],\n",
       "\n",
       "        [[19],\n",
       "         [20],\n",
       "         [21],\n",
       "         [ 6]]]])>"
      ]
     },
     "execution_count": 234,
     "metadata": {},
     "output_type": "execute_result"
    }
   ],
   "source": [
    "#expanding axis\n",
    "tx2 = tx1[..., tf.newaxis]\n",
    "tx2"
   ]
  },
  {
   "cell_type": "code",
   "execution_count": 235,
   "id": "2a8bf6cb",
   "metadata": {},
   "outputs": [
    {
     "data": {
      "text/plain": [
       "<tf.Tensor: shape=(3, 2, 4, 1), dtype=int32, numpy=\n",
       "array([[[[ 1],\n",
       "         [ 2],\n",
       "         [ 3],\n",
       "         [ 1]],\n",
       "\n",
       "        [[ 4],\n",
       "         [ 5],\n",
       "         [ 6],\n",
       "         [ 2]]],\n",
       "\n",
       "\n",
       "       [[[ 7],\n",
       "         [ 8],\n",
       "         [ 9],\n",
       "         [ 3]],\n",
       "\n",
       "        [[10],\n",
       "         [11],\n",
       "         [12],\n",
       "         [ 4]]],\n",
       "\n",
       "\n",
       "       [[[16],\n",
       "         [17],\n",
       "         [18],\n",
       "         [ 5]],\n",
       "\n",
       "        [[19],\n",
       "         [20],\n",
       "         [21],\n",
       "         [ 6]]]])>"
      ]
     },
     "execution_count": 235,
     "metadata": {},
     "output_type": "execute_result"
    }
   ],
   "source": [
    "#expanding axis alternative\n",
    "tf.expand_dims(tx1,axis = -1) # new axis will be added at the end of the existiing one"
   ]
  },
  {
   "cell_type": "code",
   "execution_count": 236,
   "id": "9f7f19b4",
   "metadata": {},
   "outputs": [
    {
     "data": {
      "text/plain": [
       "<tf.Tensor: shape=(3, 2, 1, 4), dtype=int32, numpy=\n",
       "array([[[[ 1,  2,  3,  1]],\n",
       "\n",
       "        [[ 4,  5,  6,  2]]],\n",
       "\n",
       "\n",
       "       [[[ 7,  8,  9,  3]],\n",
       "\n",
       "        [[10, 11, 12,  4]]],\n",
       "\n",
       "\n",
       "       [[[16, 17, 18,  5]],\n",
       "\n",
       "        [[19, 20, 21,  6]]]])>"
      ]
     },
     "execution_count": 236,
     "metadata": {},
     "output_type": "execute_result"
    }
   ],
   "source": [
    "tf.expand_dims(tx1,axis = 2) # new axis will be the  third"
   ]
  },
  {
   "cell_type": "markdown",
   "id": "2a4460b7",
   "metadata": {},
   "source": [
    "### >> tensor operations"
   ]
  },
  {
   "cell_type": "code",
   "execution_count": 237,
   "id": "b740bef6",
   "metadata": {},
   "outputs": [
    {
     "data": {
      "text/plain": [
       "array([[1., 1., 1.],\n",
       "       [1., 1., 1.]], dtype=float32)"
      ]
     },
     "execution_count": 237,
     "metadata": {},
     "output_type": "execute_result"
    }
   ],
   "source": [
    "tx3 = tf.ones([2,3])\n",
    "tx3.numpy()"
   ]
  },
  {
   "cell_type": "code",
   "execution_count": 238,
   "id": "16efdafd",
   "metadata": {},
   "outputs": [
    {
     "name": "stdout",
     "output_type": "stream",
     "text": [
      "tf.Tensor(\n",
      "[[3. 3. 3.]\n",
      " [3. 3. 3.]], shape=(2, 3), dtype=float32)\n",
      "tf.Tensor(\n",
      "[[5. 5. 5.]\n",
      " [5. 5. 5.]], shape=(2, 3), dtype=float32)\n"
     ]
    }
   ],
   "source": [
    "#elementwise operations\n",
    "print(tx3+2)\n",
    "print(tf.multiply(tx3,5))#better for faster gpu numerical operations\n",
    "# the above applies to all the basic math operations and elementwise matrix multiplication"
   ]
  },
  {
   "cell_type": "code",
   "execution_count": 255,
   "id": "a6674989",
   "metadata": {},
   "outputs": [
    {
     "data": {
      "text/plain": [
       "<tf.Tensor: shape=(3, 2), dtype=int32, numpy=\n",
       "array([[13, 18],\n",
       "       [24, 37],\n",
       "       [42, 63]])>"
      ]
     },
     "execution_count": 255,
     "metadata": {},
     "output_type": "execute_result"
    }
   ],
   "source": [
    "#matix multipliction\n",
    "a = tf.constant([[1,3],\n",
    "                      [4,5],\n",
    "                      [6,9]])\n",
    "b = tf.constant([[1,3],\n",
    "                [4,5]])\n",
    "c = tf.matmul(a,b) # short for tf.linalg.matmul(a,b)\n",
    "c"
   ]
  },
  {
   "cell_type": "code",
   "execution_count": 256,
   "id": "6350ede2",
   "metadata": {},
   "outputs": [
    {
     "data": {
      "text/plain": [
       "<tf.Tensor: shape=(3, 2), dtype=int32, numpy=\n",
       "array([[13, 18],\n",
       "       [24, 37],\n",
       "       [42, 63]])>"
      ]
     },
     "execution_count": 256,
     "metadata": {},
     "output_type": "execute_result"
    }
   ],
   "source": [
    "#using python for matrix multiplication\n",
    "a@b"
   ]
  },
  {
   "cell_type": "code",
   "execution_count": 257,
   "id": "bd7ef716",
   "metadata": {},
   "outputs": [
    {
     "data": {
      "text/plain": [
       "<tf.Tensor: shape=(3, 2), dtype=int32, numpy=\n",
       "array([[13, 18],\n",
       "       [24, 37],\n",
       "       [42, 63]])>"
      ]
     },
     "execution_count": 257,
     "metadata": {},
     "output_type": "execute_result"
    }
   ],
   "source": [
    "#multiplication with tf.tensordot()\n",
    "tf.tensordot(a,b, axes =1)"
   ]
  },
  {
   "cell_type": "code",
   "execution_count": 258,
   "id": "6cda4e90",
   "metadata": {},
   "outputs": [
    {
     "name": "stdout",
     "output_type": "stream",
     "text": [
      "tf.Tensor(\n",
      "[[1 4 6]\n",
      " [3 5 9]], shape=(2, 3), dtype=int32)\n"
     ]
    }
   ],
   "source": [
    "#matrix transpose\n",
    "print(tf.transpose(a))"
   ]
  },
  {
   "cell_type": "code",
   "execution_count": 259,
   "id": "89cdef4d",
   "metadata": {},
   "outputs": [
    {
     "data": {
      "text/plain": [
       "<tf.Tensor: shape=(3, 8), dtype=int32, numpy=\n",
       "array([[ 1,  2,  3,  1,  4,  5,  6,  2],\n",
       "       [ 7,  8,  9,  3, 10, 11, 12,  4],\n",
       "       [16, 17, 18,  5, 19, 20, 21,  6]])>"
      ]
     },
     "execution_count": 259,
     "metadata": {},
     "output_type": "execute_result"
    }
   ],
   "source": [
    "#reshing matrices\n",
    "#prettier\n",
    "t3 = tf.constant([[[1,2,3,1],\n",
    "                      [4,5,6,2]],\n",
    "                  \n",
    "                     [[7,8,9,3],\n",
    "                      [10,11,12,4]],\n",
    "                  \n",
    "                     [[16,17,18,5],\n",
    "                      [19,20,21,6]]])\n",
    "#tf.size(t3)\n",
    "t4 = tf.reshape(t3,shape = (3,8))\n",
    "t4"
   ]
  },
  {
   "cell_type": "markdown",
   "id": "363c6c73",
   "metadata": {},
   "source": [
    "### >> changing tensor datatype\n",
    "- use tf.cast()\n",
    "- save space\n",
    "- train faster\n",
    "- mixed precision, keep certain parts of the model 32-bit for stability and others 16-bit, the model will have a lower step    time and train equally as well in terms of the evaluation matrices such as accuracy "
   ]
  },
  {
   "cell_type": "code",
   "execution_count": 264,
   "id": "b45d3383",
   "metadata": {},
   "outputs": [
    {
     "data": {
      "text/plain": [
       "<tf.Tensor: shape=(2, 4), dtype=float16, numpy=\n",
       "array([[1., 2., 3., 1.],\n",
       "       [4., 5., 6., 2.]], dtype=float16)>"
      ]
     },
     "execution_count": 264,
     "metadata": {},
     "output_type": "execute_result"
    }
   ],
   "source": [
    "t3 = tf.constant([[1,2,3,1],\n",
    "                      [4,5,6,2]], tf.float16)\n",
    "t3"
   ]
  },
  {
   "cell_type": "code",
   "execution_count": 266,
   "id": "ecc3e567",
   "metadata": {},
   "outputs": [
    {
     "data": {
      "text/plain": [
       "<tf.Tensor: shape=(2, 4), dtype=int16, numpy=\n",
       "array([[1, 2, 3, 1],\n",
       "       [4, 5, 6, 2]], dtype=int16)>"
      ]
     },
     "execution_count": 266,
     "metadata": {},
     "output_type": "execute_result"
    }
   ],
   "source": [
    "# cast to int16\n",
    "t4 = tf.cast(t3, dtype = tf.int16)\n",
    "t4"
   ]
  },
  {
   "cell_type": "markdown",
   "id": "2ce4ac24",
   "metadata": {},
   "source": [
    "### >> Aggregating tensors\n",
    "- condensing/reducing a tensor down to a single value\n",
    "- find min, max, std, variance, absolute value etc"
   ]
  },
  {
   "cell_type": "code",
   "execution_count": 281,
   "id": "933fb44b",
   "metadata": {},
   "outputs": [
    {
     "data": {
      "text/plain": [
       "<tf.Tensor: shape=(3, 3), dtype=int32, numpy=\n",
       "array([[-2,  4, -1],\n",
       "       [ 6,  0, 11],\n",
       "       [ 7,  3,  9]])>"
      ]
     },
     "execution_count": 281,
     "metadata": {},
     "output_type": "execute_result"
    }
   ],
   "source": [
    "t5 = tf.constant([[-2,4,-1],\n",
    "                  [6,0,11],\n",
    "                  [7,3,9]])\n",
    "t5"
   ]
  },
  {
   "cell_type": "code",
   "execution_count": 282,
   "id": "af7b0112",
   "metadata": {},
   "outputs": [
    {
     "name": "stdout",
     "output_type": "stream",
     "text": [
      "-2\n",
      "11\n",
      "37\n",
      "4\n",
      "0\n"
     ]
    }
   ],
   "source": [
    "#min\n",
    "print(tf.reduce_min(t5).numpy())\n",
    "print(tf.reduce_max(t5).numpy())\n",
    "print(tf.reduce_sum(t5).numpy())\n",
    "print(tf.reduce_mean(t5).numpy())\n",
    "print(tf.reduce_prod(t5).numpy())"
   ]
  },
  {
   "cell_type": "code",
   "execution_count": 295,
   "id": "f3b21c97",
   "metadata": {},
   "outputs": [
    {
     "data": {
      "text/plain": [
       "18.320988"
      ]
     },
     "execution_count": 295,
     "metadata": {},
     "output_type": "execute_result"
    }
   ],
   "source": [
    "#variance \n",
    "#frist convert to real or complex datatype\n",
    "tf.math.reduce_variance(tf.cast(t5, tf.float32)).numpy()"
   ]
  },
  {
   "cell_type": "code",
   "execution_count": 296,
   "id": "c6532b1e",
   "metadata": {},
   "outputs": [
    {
     "data": {
      "text/plain": [
       "4.2803025"
      ]
     },
     "execution_count": 296,
     "metadata": {},
     "output_type": "execute_result"
    }
   ],
   "source": [
    "#standard devaition\n",
    "#frist convert to real or complex datatype\n",
    "tf.math.reduce_std(tf.cast(t5, tf.float32)).numpy()"
   ]
  },
  {
   "cell_type": "markdown",
   "id": "024aa386",
   "metadata": {},
   "source": [
    "### >> positional maximum and minmum\n",
    "- finding the index of the maximum and minimum\n",
    "- us tf.argmax() and tf.argmin()\n"
   ]
  },
  {
   "cell_type": "code",
   "execution_count": 305,
   "id": "93d6aeda",
   "metadata": {},
   "outputs": [
    {
     "name": "stdout",
     "output_type": "stream",
     "text": [
      "1\n",
      "[2 0 1]\n",
      "[1 2 2]\n",
      "2\n"
     ]
    }
   ],
   "source": [
    "t6 = tf.constant([[-2,4,-1],\n",
    "                  [6,0,11],\n",
    "                  [7,3,9]])\n",
    "print(tf.argmax(t6[0]).numpy())#index for max item of the first item of t6\n",
    "print(tf.argmax(t6).numpy())#index for max item columnwise\n",
    "print(tf.argmax(t6, axis = 1).numpy())#index for max item rowise\n",
    "print(tf.argmax(t6[-1]).numpy())#index for max item of the last item of t6"
   ]
  },
  {
   "cell_type": "markdown",
   "id": "79b35129",
   "metadata": {},
   "source": [
    "### >> Squeezing tensors\n",
    "- Removing dimensions of size 1 from the shape of a tensor"
   ]
  },
  {
   "cell_type": "code",
   "execution_count": 318,
   "id": "33eb044c",
   "metadata": {},
   "outputs": [
    {
     "data": {
      "text/plain": [
       "array([[-2],\n",
       "       [ 4],\n",
       "       [-1]])"
      ]
     },
     "execution_count": 318,
     "metadata": {},
     "output_type": "execute_result"
    }
   ],
   "source": [
    "t7 = tf.constant([[-2],[4],[-1]])\n",
    "t7.numpy()"
   ]
  },
  {
   "cell_type": "code",
   "execution_count": 319,
   "id": "5b8f96ae",
   "metadata": {},
   "outputs": [
    {
     "data": {
      "text/plain": [
       "TensorShape([3, 1])"
      ]
     },
     "execution_count": 319,
     "metadata": {},
     "output_type": "execute_result"
    }
   ],
   "source": [
    "t7.shape"
   ]
  },
  {
   "cell_type": "code",
   "execution_count": 320,
   "id": "30ab3302",
   "metadata": {},
   "outputs": [
    {
     "data": {
      "text/plain": [
       "array([-2,  4, -1])"
      ]
     },
     "execution_count": 320,
     "metadata": {},
     "output_type": "execute_result"
    }
   ],
   "source": [
    "t8 = tf.squeeze(t7)\n",
    "t8.numpy()"
   ]
  },
  {
   "cell_type": "code",
   "execution_count": 321,
   "id": "1eee9c3c",
   "metadata": {},
   "outputs": [
    {
     "data": {
      "text/plain": [
       "TensorShape([3])"
      ]
     },
     "execution_count": 321,
     "metadata": {},
     "output_type": "execute_result"
    }
   ],
   "source": [
    "t8.shape"
   ]
  },
  {
   "cell_type": "markdown",
   "id": "201b3145",
   "metadata": {},
   "source": [
    "### >> one hot encoding"
   ]
  },
  {
   "cell_type": "code",
   "execution_count": 330,
   "id": "7a8b4341",
   "metadata": {},
   "outputs": [
    {
     "data": {
      "text/plain": [
       "<tf.Tensor: shape=(4, 5), dtype=float32, numpy=\n",
       "array([[0., 1., 0., 0., 0.],\n",
       "       [0., 0., 1., 0., 0.],\n",
       "       [0., 0., 0., 1., 0.],\n",
       "       [0., 0., 0., 0., 1.]], dtype=float32)>"
      ]
     },
     "execution_count": 330,
     "metadata": {},
     "output_type": "execute_result"
    }
   ],
   "source": [
    "some_list = [1,2,3,4]\n",
    "tf.one_hot(some_list,depth = 5 ) #depth is the number of digits that will represent an item"
   ]
  },
  {
   "cell_type": "code",
   "execution_count": 331,
   "id": "9b0c6a84",
   "metadata": {},
   "outputs": [
    {
     "data": {
      "text/plain": [
       "<tf.Tensor: shape=(4, 5), dtype=string, numpy=\n",
       "array([[b'11', b'5', b'11', b'11', b'11'],\n",
       "       [b'11', b'11', b'5', b'11', b'11'],\n",
       "       [b'11', b'11', b'11', b'5', b'11'],\n",
       "       [b'11', b'11', b'11', b'11', b'5']], dtype=object)>"
      ]
     },
     "execution_count": 331,
     "metadata": {},
     "output_type": "execute_result"
    }
   ],
   "source": [
    "some_list = [1,2,3,4]\n",
    "tf.one_hot(some_list, depth = 5 , on_value = \"5\", off_value = \"11\" ) # replace the zeros and ones with 5s and 11s"
   ]
  },
  {
   "cell_type": "markdown",
   "id": "5a42f762",
   "metadata": {},
   "source": [
    "> **Note** tesforflow is very compatible with numpy\n",
    "- a tensor can easily be converted to a numpy arraay and vs\n",
    "- this allows us to take advantage of both tools"
   ]
  },
  {
   "cell_type": "code",
   "execution_count": 351,
   "id": "fa001994",
   "metadata": {},
   "outputs": [
    {
     "data": {
      "text/plain": [
       "<tf.Tensor: shape=(4,), dtype=int32, numpy=array([1, 2, 3, 4])>"
      ]
     },
     "execution_count": 351,
     "metadata": {},
     "output_type": "execute_result"
    }
   ],
   "source": [
    "t9 = tf.constant(some_list)\n",
    "t9"
   ]
  },
  {
   "cell_type": "code",
   "execution_count": 355,
   "id": "2e6b9791",
   "metadata": {},
   "outputs": [
    {
     "name": "stdout",
     "output_type": "stream",
     "text": [
      "[1 2 3 4]\n",
      "<class 'numpy.ndarray'>\n"
     ]
    }
   ],
   "source": [
    "#tensor to numpy array\n",
    "na1 = np.array(t9)\n",
    "print(na1)\n",
    "print(type(na1))"
   ]
  },
  {
   "cell_type": "code",
   "execution_count": 356,
   "id": "a8e6a3c7",
   "metadata": {},
   "outputs": [
    {
     "data": {
      "text/plain": [
       "<tf.Tensor: shape=(4,), dtype=int32, numpy=array([1, 2, 3, 4])>"
      ]
     },
     "execution_count": 356,
     "metadata": {},
     "output_type": "execute_result"
    }
   ],
   "source": [
    "#numpy array to tensor\n",
    "t10 = tf.constant(na1)\n",
    "t10"
   ]
  },
  {
   "cell_type": "markdown",
   "id": "9db2d7af",
   "metadata": {},
   "source": [
    "### >> runon devices (CPUS, GPUS, TPUS)"
   ]
  },
  {
   "cell_type": "code",
   "execution_count": 361,
   "id": "9c22e848",
   "metadata": {},
   "outputs": [
    {
     "data": {
      "text/plain": [
       "<function tensorflow.python.framework.config.list_physical_devices(device_type=None)>"
      ]
     },
     "execution_count": 361,
     "metadata": {},
     "output_type": "execute_result"
    }
   ],
   "source": [
    "tf.config.list_physical_devices #list the devices on which tf is running on"
   ]
  },
  {
   "cell_type": "code",
   "execution_count": 362,
   "id": "63ea5970",
   "metadata": {},
   "outputs": [
    {
     "data": {
      "text/plain": [
       "[]"
      ]
     },
     "execution_count": 362,
     "metadata": {},
     "output_type": "execute_result"
    }
   ],
   "source": [
    "tf.config.list_physical_devices('GPU') ## check where a GPU is part of the devices"
   ]
  },
  {
   "cell_type": "markdown",
   "id": "4a40276d",
   "metadata": {},
   "source": [
    "> **NOTE** when a cuda enable GPU is available, tf will automatically use it whenever possible"
   ]
  },
  {
   "cell_type": "code",
   "execution_count": null,
   "id": "31d90e65",
   "metadata": {},
   "outputs": [],
   "source": []
  }
 ],
 "metadata": {
  "kernelspec": {
   "display_name": "Python 3 (ipykernel)",
   "language": "python",
   "name": "python3"
  },
  "language_info": {
   "codemirror_mode": {
    "name": "ipython",
    "version": 3
   },
   "file_extension": ".py",
   "mimetype": "text/x-python",
   "name": "python",
   "nbconvert_exporter": "python",
   "pygments_lexer": "ipython3",
   "version": "3.8.11"
  }
 },
 "nbformat": 4,
 "nbformat_minor": 5
}
