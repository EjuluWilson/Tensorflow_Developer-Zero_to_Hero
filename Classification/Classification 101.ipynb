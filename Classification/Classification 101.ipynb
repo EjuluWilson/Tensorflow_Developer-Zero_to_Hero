{
 "cells": [
  {
   "cell_type": "markdown",
   "id": "cff3ec2e",
   "metadata": {},
   "source": [
    "# <a  name = \"\"><font color = \"brown\"> Title 1</font></a>"
   ]
  },
  {
   "cell_type": "markdown",
   "id": "b17a4a0a",
   "metadata": {},
   "source": [
    "## <font color = \"purple\"> Title 2 </font>"
   ]
  },
  {
   "cell_type": "markdown",
   "id": "dd9a31bf",
   "metadata": {},
   "source": [
    "### <font color = \"green\"> Title 3 </font>"
   ]
  },
  {
   "cell_type": "markdown",
   "id": "fe78c1e9",
   "metadata": {},
   "source": [
    "#### <font color = \"orange\"> Title 4 </font>"
   ]
  },
  {
   "cell_type": "markdown",
   "id": "8d4814d1",
   "metadata": {},
   "source": [
    "##### <font color = \"darkcyan\"> Titltle 5 </font>"
   ]
  },
  {
   "cell_type": "markdown",
   "id": "3ecb1624",
   "metadata": {},
   "source": [
    "> **NOTE:** This is how we do it"
   ]
  },
  {
   "cell_type": "markdown",
   "id": "e39635e9",
   "metadata": {},
   "source": [
    "<a href = #bottom  style = \"text-decoration:none\"> go to bottom</a></br>\n",
    "<a name = \"top\"></a>"
   ]
  },
  {
   "cell_type": "markdown",
   "id": "171d7f1a",
   "metadata": {},
   "source": [
    "# <font color = \"brown\"> Content </font>"
   ]
  },
  {
   "cell_type": "markdown",
   "id": "97674920",
   "metadata": {},
   "source": [
    "<a href = #a0  style = \"text-decoration:none\"> Modelling steps</a></br>"
   ]
  },
  {
   "cell_type": "markdown",
   "id": "a955a7e5",
   "metadata": {},
   "source": [
    "<a href = #a1  style = \"text-decoration:none\">  Generate classification dataset from sklearn</a>"
   ]
  },
  {
   "cell_type": "markdown",
   "id": "79cbaad8",
   "metadata": {},
   "source": [
    "<a href = #a2  style = \"text-decoration:none\">  Modelling</a>"
   ]
  },
  {
   "cell_type": "markdown",
   "id": "79607b65",
   "metadata": {},
   "source": [
    "# <a  name = \"a0\"><font color = \"brown\"> Modelling steps </font></a>"
   ]
  },
  {
   "cell_type": "markdown",
   "id": "c93acb00",
   "metadata": {},
   "source": [
    "### <font color = \"green\"> 1. Create or import a model </font>"
   ]
  },
  {
   "cell_type": "markdown",
   "id": "d37715e5",
   "metadata": {},
   "source": [
    "### <font color = \"green\"> 2. Compile the model  </font>"
   ]
  },
  {
   "cell_type": "markdown",
   "id": "4891b273",
   "metadata": {},
   "source": [
    "### <font color = \"green\"> 3. Compile the model  </font>"
   ]
  },
  {
   "cell_type": "markdown",
   "id": "f51a1e87",
   "metadata": {},
   "source": [
    "### <font color = \"green\"> 4. Tweak the model  </font>"
   ]
  },
  {
   "cell_type": "markdown",
   "id": "a0700d3c",
   "metadata": {},
   "source": [
    "### <font color = \"green\"> 5. Evaluate the model  </font>"
   ]
  },
  {
   "cell_type": "markdown",
   "id": "e9f9d5cc",
   "metadata": {},
   "source": [
    "### <font color = \"green\"> 6. Alternate between step 5 and 6 to get the best results  </font>"
   ]
  },
  {
   "cell_type": "markdown",
   "id": "ea5c127b",
   "metadata": {},
   "source": [
    "# <a  name = \"a1\"><font color = \"brown\"> Generate classification dataset from sklearn</font></a>"
   ]
  },
  {
   "cell_type": "code",
   "execution_count": 13,
   "id": "33f04198",
   "metadata": {},
   "outputs": [],
   "source": [
    "from sklearn.datasets import make_circles\n",
    "n_samples = 1000 #number of samples \n",
    "#creating the circles \n",
    "x, y = make_circles(\n",
    "    n_samples=n_samples,\n",
    "    shuffle=True,\n",
    "    noise=0.03,\n",
    "    random_state=42\n",
    ")"
   ]
  },
  {
   "cell_type": "code",
   "execution_count": 7,
   "id": "77d01fb9",
   "metadata": {},
   "outputs": [
    {
     "data": {
      "text/plain": [
       "array([[ 0.75424625,  0.23148074],\n",
       "       [-0.75615888,  0.15325888],\n",
       "       [-0.81539193,  0.17328203],\n",
       "       ...,\n",
       "       [-0.13690036, -0.81001183],\n",
       "       [ 0.67036156, -0.76750154],\n",
       "       [ 0.28105665,  0.96382443]])"
      ]
     },
     "execution_count": 7,
     "metadata": {},
     "output_type": "execute_result"
    }
   ],
   "source": [
    "x"
   ]
  },
  {
   "cell_type": "code",
   "execution_count": 11,
   "id": "3a615c3a",
   "metadata": {},
   "outputs": [
    {
     "data": {
      "text/plain": [
       "array([1, 1, 1, 1, 0, 1, 1, 1, 1, 0, 1, 0, 1, 1, 1, 1, 0, 1, 1, 0, 1, 0,\n",
       "       0, 1, 0, 0, 0, 1, 1, 1, 0, 0, 1, 0, 0, 0, 1, 1, 1, 0, 0, 0, 0, 1,\n",
       "       0, 0, 1, 1, 0, 1, 1, 1, 0, 1, 0, 0, 1, 0, 0, 1, 0, 0, 1, 0, 1, 1,\n",
       "       1, 1, 0, 1, 0, 0, 1, 1, 0, 0, 1, 0, 1, 0, 1, 0, 0, 0, 0, 1, 1, 1,\n",
       "       1, 0, 0, 0, 1, 0, 1, 0, 1, 0, 0, 1, 1, 0, 1, 0, 1, 1, 1, 1, 0, 1,\n",
       "       1, 1, 1, 1, 0, 0, 0, 1, 1, 0, 1, 0, 1, 0, 0, 1, 1, 0, 1, 1, 1, 1,\n",
       "       0, 1, 1, 0, 0, 0, 0, 0, 0, 0, 1, 0, 1, 1, 1, 0, 1, 0, 1, 0, 1, 0,\n",
       "       1, 0, 0, 1, 0, 1, 1, 1, 1, 1, 1, 1, 0, 1, 0, 0, 0, 0, 0, 1, 0, 0,\n",
       "       0, 0, 1, 1, 0, 1, 0, 1, 1, 0, 0, 0, 1, 1, 1, 1, 1, 0, 0, 0, 0, 0,\n",
       "       1, 0, 0, 1, 1, 1, 1, 1, 0, 1, 0, 1, 0, 0, 1, 1, 1, 0, 1, 0, 1, 1,\n",
       "       0, 1, 1, 0, 1, 0, 1, 0, 1, 1, 0, 1, 0, 1, 0, 0, 0, 1, 0, 0, 0, 0,\n",
       "       1, 1, 0, 0, 0, 0, 0, 0, 0, 1, 1, 1, 0, 0, 1, 1, 1, 0, 1, 0, 0, 0,\n",
       "       0, 1, 1, 0, 1, 0, 0, 0, 1, 0, 1, 0, 0, 1, 0, 1, 1, 1, 0, 0, 0, 1,\n",
       "       0, 0, 0, 1, 1, 1, 1, 0, 0, 0, 1, 0, 0, 0, 1, 0, 0, 0, 1, 1, 0, 1,\n",
       "       1, 1, 1, 1, 1, 1, 0, 0, 0, 0, 1, 0, 0, 0, 0, 1, 1, 1, 0, 0, 1, 0,\n",
       "       1, 0, 1, 1, 0, 0, 1, 1, 1, 1, 0, 0, 0, 0, 0, 0, 1, 1, 0, 1, 0, 0,\n",
       "       1, 0, 0, 0, 0, 0, 0, 0, 0, 1, 0, 0, 0, 0, 1, 0, 0, 1, 0, 1, 0, 0,\n",
       "       0, 1, 0, 0, 1, 1, 0, 0, 1, 0, 0, 1, 1, 0, 1, 1, 0, 0, 1, 0, 1, 0,\n",
       "       0, 0, 1, 1, 0, 0, 1, 1, 1, 1, 1, 0, 0, 1, 1, 1, 1, 0, 1, 1, 1, 1,\n",
       "       1, 0, 0, 1, 0, 1, 0, 0, 0, 0, 1, 0, 0, 0, 0, 0, 0, 0, 0, 0, 1, 1,\n",
       "       0, 1, 1, 1, 1, 1, 1, 0, 1, 1, 1, 1, 0, 0, 0, 1, 1, 1, 0, 0, 0, 0,\n",
       "       1, 1, 0, 0, 0, 0, 1, 0, 0, 0, 1, 0, 0, 1, 1, 1, 1, 1, 1, 0, 0, 0,\n",
       "       1, 0, 0, 0, 0, 0, 1, 1, 1, 0, 0, 0, 0, 0, 1, 1, 1, 0, 0, 1, 1, 1,\n",
       "       1, 0, 1, 1, 0, 1, 0, 0, 0, 1, 0, 0, 1, 0, 0, 1, 1, 0, 0, 1, 1, 0,\n",
       "       1, 0, 1, 0, 1, 0, 1, 0, 0, 0, 1, 0, 0, 0, 0, 0, 0, 1, 1, 1, 1, 0,\n",
       "       0, 0, 1, 0, 1, 1, 0, 0, 0, 0, 0, 1, 1, 1, 0, 0, 1, 0, 0, 1, 0, 0,\n",
       "       1, 0, 0, 1, 0, 0, 0, 1, 0, 0, 1, 1, 1, 0, 1, 1, 0, 0, 0, 1, 1, 1,\n",
       "       1, 0, 0, 1, 1, 1, 0, 0, 0, 0, 1, 1, 0, 0, 1, 1, 0, 0, 1, 1, 1, 1,\n",
       "       1, 1, 1, 0, 1, 0, 1, 0, 0, 1, 0, 1, 1, 1, 1, 0, 0, 1, 1, 0, 0, 1,\n",
       "       0, 1, 0, 0, 0, 1, 0, 0, 1, 1, 1, 1, 0, 1, 1, 1, 1, 1, 1, 1, 0, 1,\n",
       "       0, 1, 1, 1, 0, 0, 1, 0, 0, 0, 1, 1, 1, 1, 0, 0, 0, 0, 1, 0, 1, 1,\n",
       "       1, 0, 1, 0, 0, 1, 0, 0, 1, 1, 1, 1, 1, 0, 1, 0, 0, 0, 1, 1, 1, 1,\n",
       "       1, 0, 0, 0, 1, 1, 1, 1, 0, 0, 0, 0, 0, 1, 1, 0, 1, 0, 1, 0, 0, 0,\n",
       "       0, 0, 0, 0, 0, 0, 1, 1, 1, 1, 1, 0, 1, 0, 1, 1, 1, 1, 0, 1, 1, 1,\n",
       "       1, 1, 1, 1, 1, 0, 1, 1, 0, 1, 0, 0, 0, 1, 0, 1, 1, 1, 0, 1, 1, 0,\n",
       "       1, 1, 0, 1, 0, 1, 1, 0, 0, 1, 1, 1, 0, 0, 0, 0, 1, 1, 0, 0, 1, 1,\n",
       "       1, 1, 1, 1, 1, 1, 1, 1, 1, 1, 1, 1, 0, 0, 1, 0, 1, 0, 1, 0, 1, 1,\n",
       "       1, 1, 1, 1, 0, 1, 0, 1, 1, 1, 0, 1, 1, 0, 0, 1, 0, 1, 1, 0, 0, 1,\n",
       "       1, 1, 1, 1, 1, 1, 1, 0, 1, 1, 1, 0, 1, 0, 0, 1, 1, 0, 0, 0, 1, 0,\n",
       "       0, 1, 0, 0, 0, 1, 0, 1, 0, 0, 0, 0, 1, 0, 1, 1, 1, 1, 0, 1, 0, 0,\n",
       "       0, 0, 0, 0, 1, 0, 1, 0, 1, 0, 1, 1, 1, 0, 1, 0, 1, 0, 0, 1, 1, 1,\n",
       "       0, 0, 0, 1, 1, 0, 1, 0, 1, 1, 0, 1, 0, 0, 1, 1, 1, 0, 0, 0, 1, 1,\n",
       "       0, 0, 0, 0, 0, 1, 1, 0, 1, 0, 0, 0, 1, 0, 0, 0, 1, 1, 1, 1, 0, 1,\n",
       "       1, 1, 0, 1, 1, 1, 1, 0, 1, 1, 0, 1, 1, 0, 0, 1, 1, 1, 0, 0, 0, 0,\n",
       "       0, 0, 1, 0, 0, 1, 0, 0, 0, 1, 0, 1, 0, 1, 1, 0, 0, 0, 0, 0, 0, 0,\n",
       "       0, 1, 0, 1, 0, 0, 0, 1, 0, 0], dtype=int64)"
      ]
     },
     "execution_count": 11,
     "metadata": {},
     "output_type": "execute_result"
    }
   ],
   "source": [
    "y"
   ]
  },
  {
   "cell_type": "markdown",
   "id": "3468a633",
   "metadata": {},
   "source": [
    "### <font color = \"green\"> Visualize the dataset </font>"
   ]
  },
  {
   "cell_type": "code",
   "execution_count": 18,
   "id": "0898bc0f",
   "metadata": {},
   "outputs": [],
   "source": [
    "import pandas as pd"
   ]
  },
  {
   "cell_type": "code",
   "execution_count": 32,
   "id": "284b07e2",
   "metadata": {},
   "outputs": [
    {
     "data": {
      "text/html": [
       "<div>\n",
       "<style scoped>\n",
       "    .dataframe tbody tr th:only-of-type {\n",
       "        vertical-align: middle;\n",
       "    }\n",
       "\n",
       "    .dataframe tbody tr th {\n",
       "        vertical-align: top;\n",
       "    }\n",
       "\n",
       "    .dataframe thead th {\n",
       "        text-align: right;\n",
       "    }\n",
       "</style>\n",
       "<table border=\"1\" class=\"dataframe\">\n",
       "  <thead>\n",
       "    <tr style=\"text-align: right;\">\n",
       "      <th></th>\n",
       "      <th>x0</th>\n",
       "      <th>x1</th>\n",
       "      <th>y</th>\n",
       "    </tr>\n",
       "  </thead>\n",
       "  <tbody>\n",
       "    <tr>\n",
       "      <th>0</th>\n",
       "      <td>0.754246</td>\n",
       "      <td>0.231481</td>\n",
       "      <td>1</td>\n",
       "    </tr>\n",
       "    <tr>\n",
       "      <th>1</th>\n",
       "      <td>-0.756159</td>\n",
       "      <td>0.153259</td>\n",
       "      <td>1</td>\n",
       "    </tr>\n",
       "    <tr>\n",
       "      <th>2</th>\n",
       "      <td>-0.815392</td>\n",
       "      <td>0.173282</td>\n",
       "      <td>1</td>\n",
       "    </tr>\n",
       "    <tr>\n",
       "      <th>3</th>\n",
       "      <td>-0.393731</td>\n",
       "      <td>0.692883</td>\n",
       "      <td>1</td>\n",
       "    </tr>\n",
       "    <tr>\n",
       "      <th>4</th>\n",
       "      <td>0.442208</td>\n",
       "      <td>-0.896723</td>\n",
       "      <td>0</td>\n",
       "    </tr>\n",
       "    <tr>\n",
       "      <th>...</th>\n",
       "      <td>...</td>\n",
       "      <td>...</td>\n",
       "      <td>...</td>\n",
       "    </tr>\n",
       "    <tr>\n",
       "      <th>995</th>\n",
       "      <td>0.244054</td>\n",
       "      <td>0.944125</td>\n",
       "      <td>0</td>\n",
       "    </tr>\n",
       "    <tr>\n",
       "      <th>996</th>\n",
       "      <td>-0.978655</td>\n",
       "      <td>-0.272373</td>\n",
       "      <td>0</td>\n",
       "    </tr>\n",
       "    <tr>\n",
       "      <th>997</th>\n",
       "      <td>-0.136900</td>\n",
       "      <td>-0.810012</td>\n",
       "      <td>1</td>\n",
       "    </tr>\n",
       "    <tr>\n",
       "      <th>998</th>\n",
       "      <td>0.670362</td>\n",
       "      <td>-0.767502</td>\n",
       "      <td>0</td>\n",
       "    </tr>\n",
       "    <tr>\n",
       "      <th>999</th>\n",
       "      <td>0.281057</td>\n",
       "      <td>0.963824</td>\n",
       "      <td>0</td>\n",
       "    </tr>\n",
       "  </tbody>\n",
       "</table>\n",
       "<p>1000 rows × 3 columns</p>\n",
       "</div>"
      ],
      "text/plain": [
       "           x0        x1  y\n",
       "0    0.754246  0.231481  1\n",
       "1   -0.756159  0.153259  1\n",
       "2   -0.815392  0.173282  1\n",
       "3   -0.393731  0.692883  1\n",
       "4    0.442208 -0.896723  0\n",
       "..        ...       ... ..\n",
       "995  0.244054  0.944125  0\n",
       "996 -0.978655 -0.272373  0\n",
       "997 -0.136900 -0.810012  1\n",
       "998  0.670362 -0.767502  0\n",
       "999  0.281057  0.963824  0\n",
       "\n",
       "[1000 rows x 3 columns]"
      ]
     },
     "execution_count": 32,
     "metadata": {},
     "output_type": "execute_result"
    }
   ],
   "source": [
    "circles_df = pd.DataFrame(data = {'x0': x[:,0], 'x1': x[:,1], 'y':y})\n",
    "circles_df"
   ]
  },
  {
   "cell_type": "code",
   "execution_count": 39,
   "id": "134d1346",
   "metadata": {},
   "outputs": [
    {
     "data": {
      "text/plain": [
       "<matplotlib.collections.PathCollection at 0x1b934b65b80>"
      ]
     },
     "execution_count": 39,
     "metadata": {},
     "output_type": "execute_result"
    },
    {
     "data": {
      "image/png": "[encoded data removed]",
      "text/plain": [
       "<Figure size 432x288 with 1 Axes>"
      ]
     },
     "metadata": {
      "needs_background": "light"
     },
     "output_type": "display_data"
    }
   ],
   "source": [
    "import matplotlib.pyplot as plt\n",
    "plt.scatter(x[:,0], x[:,1], c =y , cmap = plt.cm.RdYlBu)"
   ]
  },
  {
   "cell_type": "markdown",
   "id": "38120570",
   "metadata": {},
   "source": [
    "# <a  name = \"a2\"><font color = \"brown\"> Modelling</font></a>"
   ]
  },
  {
   "cell_type": "code",
   "execution_count": 41,
   "id": "b4906965",
   "metadata": {},
   "outputs": [
    {
     "data": {
      "text/plain": [
       "'2.3.0'"
      ]
     },
     "execution_count": 41,
     "metadata": {},
     "output_type": "execute_result"
    }
   ],
   "source": [
    "import tensorflow as tf\n",
    "tf.__version__"
   ]
  },
  {
   "cell_type": "markdown",
   "id": "a90f7625",
   "metadata": {},
   "source": [
    "## <font color = \"purple\"> model_1 </font>"
   ]
  },
  {
   "cell_type": "code",
   "execution_count": null,
   "id": "871b0363",
   "metadata": {},
   "outputs": [],
   "source": []
  },
  {
   "cell_type": "code",
   "execution_count": 55,
   "id": "7d3f1c77",
   "metadata": {},
   "outputs": [
    {
     "name": "stdout",
     "output_type": "stream",
     "text": [
      "Epoch 1/5\n",
      "32/32 [==============================] - 0s 1ms/step - loss: 2.8544 - accuracy: 0.4600\n",
      "Epoch 2/5\n",
      "32/32 [==============================] - 0s 884us/step - loss: 0.7131 - accuracy: 0.5430\n",
      "Epoch 3/5\n",
      "32/32 [==============================] - 0s 998us/step - loss: 0.6973 - accuracy: 0.5090\n",
      "Epoch 4/5\n",
      "32/32 [==============================] - 0s 1ms/step - loss: 0.6950 - accuracy: 0.5010\n",
      "Epoch 5/5\n",
      "32/32 [==============================] - 0s 1ms/step - loss: 0.6942 - accuracy: 0.4820\n"
     ]
    },
    {
     "data": {
      "text/plain": [
       "<tensorflow.python.keras.callbacks.History at 0x1b93c089d60>"
      ]
     },
     "execution_count": 55,
     "metadata": {},
     "output_type": "execute_result"
    }
   ],
   "source": [
    "tf.random.set_seed(42)\n",
    "# create a one layer model with the sequencial API\n",
    "model_1 = tf.keras.Sequential([\n",
    "        tf.keras.layers.Dense(1)\n",
    "    ]) \n",
    "# compile the model \n",
    "model_1.compile(loss = tf.keras.losses.BinaryCrossentropy(),\n",
    "               optimizer = tf.keras.optimizers.SGD(),\n",
    "               metrics = [\"accuracy\"])\n",
    "# fitting the model\n",
    "model_1.fit(x,y, epochs = 5)"
   ]
  },
  {
   "cell_type": "markdown",
   "id": "06fcc75c",
   "metadata": {},
   "source": [
    "### <font color = \"green\"> try more epochs</font>"
   ]
  },
  {
   "cell_type": "code",
   "execution_count": 60,
   "id": "c3e6a96a",
   "metadata": {},
   "outputs": [
    {
     "name": "stdout",
     "output_type": "stream",
     "text": [
      "32/32 [==============================] - 0s 2ms/step - loss: 0.6935 - accuracy: 0.5000\n"
     ]
    },
    {
     "data": {
      "text/plain": [
       "[0.6934829950332642, 0.5]"
      ]
     },
     "execution_count": 60,
     "metadata": {},
     "output_type": "execute_result"
    }
   ],
   "source": [
    "model_1.fit(x,y, epochs = 200, verbose = 0) #verbose determines how the training will be shown(0,1 0r 2)\n",
    "model_1.evaluate(x,y) # train set accuracy "
   ]
  },
  {
   "cell_type": "markdown",
   "id": "764a7d91",
   "metadata": {},
   "source": [
    "## <font color = \"purple\"> model_2 </font>"
   ]
  },
  {
   "cell_type": "markdown",
   "id": "6ed398cd",
   "metadata": {},
   "source": [
    "### <font color = \"green\"> try more layers</font>"
   ]
  },
  {
   "cell_type": "code",
   "execution_count": 68,
   "id": "d5b6400d",
   "metadata": {},
   "outputs": [
    {
     "data": {
      "text/plain": [
       "<tensorflow.python.keras.callbacks.History at 0x1b93e061250>"
      ]
     },
     "execution_count": 68,
     "metadata": {},
     "output_type": "execute_result"
    }
   ],
   "source": [
    "#Creat/define\n",
    "model_2 = tf.keras.Sequential([\n",
    "    tf.keras.layers.Dense(1),\n",
    "    tf.keras.layers.Dense(1)\n",
    "])\n",
    "#compile\n",
    "\n",
    "model_2.compile(\n",
    "    loss = tf.keras.losses.BinaryCrossentropy(),\n",
    "    optimizer = tf.keras.optimizers.SGD(),\n",
    "    metrics = [\"accuracy\"])\n",
    "#fit\n",
    "model_2.fit(x,y, epochs = 200, verbose = 0)"
   ]
  },
  {
   "cell_type": "code",
   "execution_count": 69,
   "id": "5e00f631",
   "metadata": {},
   "outputs": [
    {
     "name": "stdout",
     "output_type": "stream",
     "text": [
      "32/32 [==============================] - 0s 822us/step - loss: 0.6938 - accuracy: 0.5000\n"
     ]
    },
    {
     "data": {
      "text/plain": [
       "[0.6937825083732605, 0.5]"
      ]
     },
     "execution_count": 69,
     "metadata": {},
     "output_type": "execute_result"
    }
   ],
   "source": [
    "model_2.evaluate(x,y) # train set accuracy "
   ]
  },
  {
   "cell_type": "markdown",
   "id": "b7da5f52",
   "metadata": {},
   "source": [
    "> **Observe:** The model seems to be doing a 50% guess work"
   ]
  },
  {
   "cell_type": "markdown",
   "id": "d023cc26",
   "metadata": {},
   "source": [
    "### <font color = \"green\"> Visualistion function</font>"
   ]
  },
  {
   "cell_type": "code",
   "execution_count": 72,
   "id": "6cbf97c3",
   "metadata": {},
   "outputs": [],
   "source": [
    "import numpy as np"
   ]
  },
  {
   "cell_type": "code",
   "execution_count": 86,
   "id": "fa6c7f68",
   "metadata": {},
   "outputs": [],
   "source": [
    "def plot_decision_boundary(model, X, y):\n",
    "  \"\"\"\n",
    "  Plots the decision boundary created by a model predicting on X.\n",
    "  This function has been adapted from two phenomenal resources:\n",
    "   1. CS231n - https://cs231n.github.io/neural-networks-case-study/\n",
    "   2. Made with ML basics - https://github.com/GokuMohandas/MadeWithML/blob/main/notebooks/08_Neural_Networks.ipynb\n",
    "  \"\"\"\n",
    "  # Define the axis boundaries of the plot and create a meshgrid\n",
    "  x_min, x_max = X[:, 0].min() - 0.1, X[:, 0].max() + 0.1\n",
    "  y_min, y_max = X[:, 1].min() - 0.1, X[:, 1].max() + 0.1\n",
    "  xx, yy = np.meshgrid(np.linspace(x_min, x_max, 100),\n",
    "                       np.linspace(y_min, y_max, 100))\n",
    "  \n",
    "  # Create X values (we're going to predict on all of these)\n",
    "  x_in = np.c_[xx.ravel(), yy.ravel()] # stack 2D arrays together: https://numpy.org/devdocs/reference/generated/numpy.c_.html\n",
    "  \n",
    "  # Make predictions using the trained model\n",
    "  y_pred = model.predict(x_in)\n",
    "\n",
    "  # Check for multi-class\n",
    "  if len(y_pred[0]) > 1:\n",
    "    print(\"doing multiclass classification...\")\n",
    "    # We have to reshape our predictions to get them ready for plotting\n",
    "    y_pred = np.argmax(y_pred, axis=1).reshape(xx.shape)\n",
    "  else:\n",
    "    print(\"doing binary classifcation...\")\n",
    "    y_pred = np.round(y_pred).reshape(xx.shape)\n",
    "  \n",
    "  # Plot decision boundary\n",
    "  plt.contourf(xx, yy, y_pred, cmap=plt.cm.RdYlBu, alpha=0.7)\n",
    "  plt.scatter(X[:, 0], X[:, 1], c=y, s=40, cmap=plt.cm.RdYlBu)\n",
    "  plt.xlim(xx.min(), xx.max())\n",
    "  plt.ylim(yy.min(), yy.max())"
   ]
  },
  {
   "cell_type": "code",
   "execution_count": 87,
   "id": "b38ce326",
   "metadata": {},
   "outputs": [
    {
     "name": "stdout",
     "output_type": "stream",
     "text": [
      "doing binary classifcation...\n"
     ]
    },
    {
     "data": {
      "image/png": "[encoded data removed]",
      "text/plain": [
       "<Figure size 432x288 with 1 Axes>"
      ]
     },
     "metadata": {
      "needs_background": "light"
     },
     "output_type": "display_data"
    }
   ],
   "source": [
    "plot_decision_boundary(model_2,x,y)"
   ]
  },
  {
   "cell_type": "code",
   "execution_count": null,
   "id": "f8de1ef4",
   "metadata": {},
   "outputs": [],
   "source": []
  },
  {
   "cell_type": "code",
   "execution_count": 78,
   "id": "3e3c19ca",
   "metadata": {},
   "outputs": [
    {
     "data": {
      "text/plain": [
       "-1.0595024599098635"
      ]
     },
     "execution_count": 78,
     "metadata": {},
     "output_type": "execute_result"
    }
   ],
   "source": [
    "x[:,0].min()"
   ]
  },
  {
   "cell_type": "code",
   "execution_count": 71,
   "id": "124da9db",
   "metadata": {},
   "outputs": [
    {
     "data": {
      "text/plain": [
       "-1.0677683182718436"
      ]
     },
     "execution_count": 71,
     "metadata": {},
     "output_type": "execute_result"
    }
   ],
   "source": [
    "x[:,1].min()"
   ]
  },
  {
   "cell_type": "markdown",
   "id": "84102f5b",
   "metadata": {},
   "source": [
    "<a href = #top  style = \"text-decoration:none\" > go to top</a></br>\n",
    "<a name = \"bottom\"></a>"
   ]
  }
 ],
 "metadata": {
  "kernelspec": {
   "display_name": "Python 3 (ipykernel)",
   "language": "python",
   "name": "python3"
  },
  "language_info": {
   "codemirror_mode": {
    "name": "ipython",
    "version": 3
   },
   "file_extension": ".py",
   "mimetype": "text/x-python",
   "name": "python",
   "nbconvert_exporter": "python",
   "pygments_lexer": "ipython3",
   "version": "3.8.11"
  }
 },
 "nbformat": 4,
 "nbformat_minor": 5
}
