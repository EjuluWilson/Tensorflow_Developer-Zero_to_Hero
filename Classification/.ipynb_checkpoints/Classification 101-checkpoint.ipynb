{
 "cells": [
  {
   "cell_type": "markdown",
   "id": "cff3ec2e",
   "metadata": {},
   "source": [
    "# <a  name = \"\"><font color = \"brown\"> Title 1</font></a>"
   ]
  },
  {
   "cell_type": "markdown",
   "id": "b17a4a0a",
   "metadata": {},
   "source": [
    "## <a  name = \"\"><font color = \"purple\"> Title 2 </font></a>"
   ]
  },
  {
   "cell_type": "markdown",
   "id": "dd9a31bf",
   "metadata": {},
   "source": [
    "### <a  name = \"\"><font color = \"green\"> Title 3 </font></a>"
   ]
  },
  {
   "cell_type": "markdown",
   "id": "fe78c1e9",
   "metadata": {},
   "source": [
    "#### <a  name = \"\"><font color = \"orange\"> Title 2 </font></a>"
   ]
  },
  {
   "cell_type": "markdown",
   "id": "8d4814d1",
   "metadata": {},
   "source": [
    "##### <a  name = \"\"><font color = \"darkcyan\"> Titltle 4 </font></a>"
   ]
  },
  {
   "cell_type": "markdown",
   "id": "3ecb1624",
   "metadata": {},
   "source": [
    "> **NOTE:** This is how we do it"
   ]
  },
  {
   "cell_type": "markdown",
   "id": "e39635e9",
   "metadata": {},
   "source": [
    "<a href = #bottom  style = \"text-decoration:none\"> go to bottom</a></br>\n",
    "<a name = \"top\"></a>"
   ]
  },
  {
   "cell_type": "markdown",
   "id": "171d7f1a",
   "metadata": {},
   "source": [
    "# <font color = \"brown\"> Content </font>"
   ]
  },
  {
   "cell_type": "markdown",
   "id": "a955a7e5",
   "metadata": {},
   "source": [
    "<a href = #content1  style = \"text-decoration:none\"> content 1</a>"
   ]
  },
  {
   "cell_type": "markdown",
   "id": "97674920",
   "metadata": {},
   "source": [
    "<a href = #content2  style = \"text-decoration:none\"> content 2</a></br>"
   ]
  },
  {
   "cell_type": "code",
   "execution_count": null,
   "id": "d1d1df05",
   "metadata": {},
   "outputs": [],
   "source": []
  },
  {
   "cell_type": "code",
   "execution_count": null,
   "id": "33f04198",
   "metadata": {},
   "outputs": [],
   "source": []
  },
  {
   "cell_type": "code",
   "execution_count": null,
   "id": "77d01fb9",
   "metadata": {},
   "outputs": [],
   "source": []
  },
  {
   "cell_type": "markdown",
   "id": "84102f5b",
   "metadata": {},
   "source": [
    "<a href = #top  style = \"text-decoration:none\" > go to top</a></br>\n",
    "<a name = \"bottom\"></a>"
   ]
  }
 ],
 "metadata": {
  "kernelspec": {
   "display_name": "Python 3 (ipykernel)",
   "language": "python",
   "name": "python3"
  },
  "language_info": {
   "codemirror_mode": {
    "name": "ipython",
    "version": 3
   },
   "file_extension": ".py",
   "mimetype": "text/x-python",
   "name": "python",
   "nbconvert_exporter": "python",
   "pygments_lexer": "ipython3",
   "version": "3.8.11"
  }
 },
 "nbformat": 4,
 "nbformat_minor": 5
}
