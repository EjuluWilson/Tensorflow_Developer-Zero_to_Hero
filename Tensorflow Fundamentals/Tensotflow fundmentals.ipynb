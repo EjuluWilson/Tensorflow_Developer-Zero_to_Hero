{
 "cells": [
  {
   "cell_type": "markdown",
   "id": "14027f14",
   "metadata": {},
   "source": [
    "# This notebook covers the most fundamental concepts of tensors using Tensorflow"
   ]
  },
  {
   "cell_type": "code",
   "execution_count": 50,
   "id": "ab51a8c6",
   "metadata": {},
   "outputs": [],
   "source": [
    "import tensorflow as tf"
   ]
  },
  {
   "cell_type": "code",
   "execution_count": 51,
   "id": "b108f18a",
   "metadata": {},
   "outputs": [
    {
     "name": "stdout",
     "output_type": "stream",
     "text": [
      "2.3.0\n"
     ]
    }
   ],
   "source": [
    "print(tf.__version__)"
   ]
  },
  {
   "cell_type": "markdown",
   "id": "eccba75d",
   "metadata": {},
   "source": [
    "## >> create a tensor from tf.constant\n",
    "- for creating tensors whose values cannot be edited"
   ]
  },
  {
   "cell_type": "code",
   "execution_count": 52,
   "id": "76ab1f39",
   "metadata": {},
   "outputs": [
    {
     "data": {
      "text/plain": [
       "<tf.Tensor: shape=(), dtype=int32, numpy=7>"
      ]
     },
     "execution_count": 52,
     "metadata": {},
     "output_type": "execute_result"
    }
   ],
   "source": [
    "# creatr a tensor from tf.constant\n",
    "scalar = tf.constant(7)\n",
    "scalar"
   ]
  },
  {
   "cell_type": "code",
   "execution_count": 53,
   "id": "2906373b",
   "metadata": {},
   "outputs": [
    {
     "data": {
      "text/plain": [
       "0"
      ]
     },
     "execution_count": 53,
     "metadata": {},
     "output_type": "execute_result"
    }
   ],
   "source": [
    "#check for number of dimentions\n",
    "scalar.ndim"
   ]
  },
  {
   "cell_type": "code",
   "execution_count": 54,
   "id": "46a7dcb8",
   "metadata": {},
   "outputs": [
    {
     "name": "stdout",
     "output_type": "stream",
     "text": [
      "tf.Tensor([10 10], shape=(2,), dtype=int32)\n"
     ]
    }
   ],
   "source": [
    "#create a vector\n",
    "vector = tf.constant([10,10])\n",
    "print(vector)"
   ]
  },
  {
   "cell_type": "code",
   "execution_count": 55,
   "id": "5de2e1a3",
   "metadata": {},
   "outputs": [
    {
     "data": {
      "text/plain": [
       "1"
      ]
     },
     "execution_count": 55,
     "metadata": {},
     "output_type": "execute_result"
    }
   ],
   "source": [
    "#check for number of dimentions\n",
    "vector.ndim"
   ]
  },
  {
   "cell_type": "code",
   "execution_count": 56,
   "id": "3b16e6db",
   "metadata": {},
   "outputs": [
    {
     "data": {
      "text/plain": [
       "<tf.Tensor: shape=(3, 2), dtype=int32, numpy=\n",
       "array([[1, 3],\n",
       "       [4, 5],\n",
       "       [6, 9]])>"
      ]
     },
     "execution_count": 56,
     "metadata": {},
     "output_type": "execute_result"
    }
   ],
   "source": [
    "#create a matrix\n",
    "matrix = tf.constant([[1,3],\n",
    "                      [4,5],\n",
    "                      [6,9]])\n",
    "matrix"
   ]
  },
  {
   "cell_type": "code",
   "execution_count": 57,
   "id": "bb64948a",
   "metadata": {},
   "outputs": [
    {
     "data": {
      "text/plain": [
       "2"
      ]
     },
     "execution_count": 57,
     "metadata": {},
     "output_type": "execute_result"
    }
   ],
   "source": [
    "#check for the number of dimentions\n",
    "matrix.ndim"
   ]
  },
  {
   "cell_type": "code",
   "execution_count": 58,
   "id": "af62c295",
   "metadata": {},
   "outputs": [
    {
     "data": {
      "text/plain": [
       "<tf.Tensor: shape=(3, 2, 3), dtype=int32, numpy=\n",
       "array([[[ 1,  2,  3],\n",
       "        [ 4,  5,  6]],\n",
       "\n",
       "       [[ 7,  8,  9],\n",
       "        [10, 11, 12]],\n",
       "\n",
       "       [[16, 17, 18],\n",
       "        [19, 20, 21]]])>"
      ]
     },
     "execution_count": 58,
     "metadata": {},
     "output_type": "execute_result"
    }
   ],
   "source": [
    "#create a tensor\n",
    "tensor = tf.constant([[[1,2,3],\n",
    "                      [4,5,6]],\n",
    "                     [[7,8,9],\n",
    "                      [10,11,12]],\n",
    "                     [[16,17,18],\n",
    "                      [19,20,21]]])\n",
    "tensor"
   ]
  },
  {
   "cell_type": "code",
   "execution_count": 59,
   "id": "81bfded6",
   "metadata": {
    "scrolled": true
   },
   "outputs": [
    {
     "data": {
      "text/plain": [
       "3"
      ]
     },
     "execution_count": 59,
     "metadata": {},
     "output_type": "execute_result"
    }
   ],
   "source": [
    "tensor.ndim"
   ]
  },
  {
   "cell_type": "markdown",
   "id": "307afad2",
   "metadata": {},
   "source": [
    "##### A constant is a single number, a vector is a 1D tensor, a matrix is a 2D tensor while a tensor is an n-dimrntional array"
   ]
  },
  {
   "cell_type": "code",
   "execution_count": 60,
   "id": "89c5fcc7",
   "metadata": {},
   "outputs": [
    {
     "data": {
      "text/plain": [
       "<tf.Tensor: shape=(3, 2), dtype=float16, numpy=\n",
       "array([[1., 3.],\n",
       "       [4., 5.],\n",
       "       [6., 9.]], dtype=float16)>"
      ]
     },
     "execution_count": 60,
     "metadata": {},
     "output_type": "execute_result"
    }
   ],
   "source": [
    "#chaging the tensor datatype\n",
    "#useful for reducing storage requirenmrent  \n",
    "a = tf.constant([[1,3],\n",
    "                [4,5],\n",
    "                [6,9]], dtype = tf.float16)\n",
    "a"
   ]
  },
  {
   "cell_type": "markdown",
   "id": "8508e1a8",
   "metadata": {},
   "source": [
    "## >> create a tensor from tf.Variable()\n",
    "- creates tensors whose values can be edited (like lists in python)"
   ]
  },
  {
   "cell_type": "code",
   "execution_count": 61,
   "id": "ec697282",
   "metadata": {},
   "outputs": [
    {
     "data": {
      "text/plain": [
       "<tf.Variable 'Variable:0' shape=(2,) dtype=int32, numpy=array([1, 3])>"
      ]
     },
     "execution_count": 61,
     "metadata": {},
     "output_type": "execute_result"
    }
   ],
   "source": [
    "a = tf.Variable([1,3])\n",
    "a"
   ]
  },
  {
   "cell_type": "code",
   "execution_count": 62,
   "id": "94d45444",
   "metadata": {},
   "outputs": [
    {
     "name": "stdout",
     "output_type": "stream",
     "text": [
      "tf.Tensor(1, shape=(), dtype=int32)\n"
     ]
    }
   ],
   "source": [
    "print(a[0])"
   ]
  },
  {
   "cell_type": "code",
   "execution_count": 63,
   "id": "db26a74f",
   "metadata": {},
   "outputs": [
    {
     "data": {
      "text/plain": [
       "<tf.Variable 'Variable:0' shape=(2,) dtype=int32, numpy=array([7, 3])>"
      ]
     },
     "execution_count": 63,
     "metadata": {},
     "output_type": "execute_result"
    }
   ],
   "source": [
    "#changing the tensor value(use assign)\n",
    "a[0].assign(7)\n",
    "a"
   ]
  },
  {
   "cell_type": "markdown",
   "id": "1d7f3795",
   "metadata": {},
   "source": [
    "**Note** Rarely will you need to decide between using tf.constant and tf.variable as tf does that for you"
   ]
  },
  {
   "cell_type": "markdown",
   "id": "a21df05b",
   "metadata": {},
   "source": [
    "## >> creating random tesors"
   ]
  },
  {
   "cell_type": "code",
   "execution_count": 64,
   "id": "ec983a1e",
   "metadata": {},
   "outputs": [
    {
     "data": {
      "text/plain": [
       "<tf.Tensor: shape=(3, 2), dtype=float32, numpy=\n",
       "array([[0.6645621 , 0.44100678],\n",
       "       [0.3528825 , 0.46448255],\n",
       "       [0.03366041, 0.68467236]], dtype=float32)>"
      ]
     },
     "execution_count": 64,
     "metadata": {},
     "output_type": "execute_result"
    }
   ],
   "source": [
    "rt1 = tf.random.Generator.from_seed(42)\n",
    "rt1 = tf.random.uniform(shape=(3,2)) #from random distribution\n",
    "rt1"
   ]
  },
  {
   "cell_type": "markdown",
   "id": "cc4a2118",
   "metadata": {},
   "source": [
    "## >> shuffling tesors"
   ]
  },
  {
   "cell_type": "code",
   "execution_count": 122,
   "id": "ba832e36",
   "metadata": {},
   "outputs": [
    {
     "data": {
      "text/plain": [
       "<tf.Tensor: shape=(3, 2), dtype=float32, numpy=\n",
       "array([[0.6645621 , 0.44100678],\n",
       "       [0.3528825 , 0.46448255],\n",
       "       [0.03366041, 0.68467236]], dtype=float32)>"
      ]
     },
     "execution_count": 122,
     "metadata": {},
     "output_type": "execute_result"
    }
   ],
   "source": [
    "tf.random.set_seed(42) #global level seed \n",
    "tf.random.shuffle(rt1, seed = 42 ) #operation level  random seed"
   ]
  },
  {
   "cell_type": "markdown",
   "id": "86ee616d",
   "metadata": {},
   "source": [
    "> **Rule 4:**  both seeds are required for no change. Seeding is important to ensure a consistent/reproducable experiments"
   ]
  },
  {
   "cell_type": "markdown",
   "id": "bc187838",
   "metadata": {},
   "source": [
    "## >> other ways to create tensors"
   ]
  },
  {
   "cell_type": "code",
   "execution_count": 125,
   "id": "bbbdcea0",
   "metadata": {},
   "outputs": [
    {
     "data": {
      "text/plain": [
       "<tf.Tensor: shape=(3, 4), dtype=int16, numpy=\n",
       "array([[1, 1, 1, 1],\n",
       "       [1, 1, 1, 1],\n",
       "       [1, 1, 1, 1]], dtype=int16)>"
      ]
     },
     "execution_count": 125,
     "metadata": {},
     "output_type": "execute_result"
    }
   ],
   "source": [
    "# a tesor of ones\n",
    "tf.ones(shape=[3, 4], dtype=tf.int16)"
   ]
  },
  {
   "cell_type": "code",
   "execution_count": 126,
   "id": "81b78211",
   "metadata": {},
   "outputs": [
    {
     "data": {
      "text/plain": [
       "<tf.Tensor: shape=(3, 4), dtype=int16, numpy=\n",
       "array([[0, 0, 0, 0],\n",
       "       [0, 0, 0, 0],\n",
       "       [0, 0, 0, 0]], dtype=int16)>"
      ]
     },
     "execution_count": 126,
     "metadata": {},
     "output_type": "execute_result"
    }
   ],
   "source": [
    "# a tesor of ones\n",
    "tf.zeros(shape=[3, 4], dtype=tf.int16)"
   ]
  },
  {
   "cell_type": "code",
   "execution_count": 132,
   "id": "ff0c1827",
   "metadata": {},
   "outputs": [
    {
     "name": "stdout",
     "output_type": "stream",
     "text": [
      "[ 1  2  3  4  5  6  7  8  9 10 11 12 13 14 15 16 17 18 19 20 21 22 23 24]\n",
      "tf.Tensor(\n",
      "[[[ 1  2  3  4]\n",
      "  [ 5  6  7  8]\n",
      "  [ 9 10 11 12]]\n",
      "\n",
      " [[13 14 15 16]\n",
      "  [17 18 19 20]\n",
      "  [21 22 23 24]]], shape=(2, 3, 4), dtype=int32)\n"
     ]
    }
   ],
   "source": [
    "# from numpy array\n",
    "import numpy as np \n",
    "np_array = np.arange(1,25)\n",
    "print(np_array)\n",
    "\n",
    "tf_array = tf.constant(np_array,shape=(2,3,4)) # shape should relate to the number of elements in the numpy array\n",
    "print(tf_array)"
   ]
  }
 ],
 "metadata": {
  "kernelspec": {
   "display_name": "Python 3 (ipykernel)",
   "language": "python",
   "name": "python3"
  },
  "language_info": {
   "codemirror_mode": {
    "name": "ipython",
    "version": 3
   },
   "file_extension": ".py",
   "mimetype": "text/x-python",
   "name": "python",
   "nbconvert_exporter": "python",
   "pygments_lexer": "ipython3",
   "version": "3.8.11"
  }
 },
 "nbformat": 4,
 "nbformat_minor": 5
}
