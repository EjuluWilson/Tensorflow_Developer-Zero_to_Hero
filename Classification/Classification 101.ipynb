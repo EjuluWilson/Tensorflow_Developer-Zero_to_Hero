{
 "cells": [
  {
   "cell_type": "markdown",
   "id": "cff3ec2e",
   "metadata": {},
   "source": [
    "# <a  name = \"\"><font color = \"brown\"> Title 1</font></a>"
   ]
  },
  {
   "cell_type": "markdown",
   "id": "dd9a31bf",
   "metadata": {},
   "source": [
    "## <a  name = \"\"><font color = \"green\"> Title 3 </font></a>"
   ]
  },
  {
   "cell_type": "markdown",
   "id": "b17a4a0a",
   "metadata": {},
   "source": [
    "### <font color = \"purple\"> Title 2 </font>"
   ]
  },
  {
   "cell_type": "markdown",
   "id": "fe78c1e9",
   "metadata": {},
   "source": [
    "#### <font color = \"orange\"> Title 4 </font>"
   ]
  },
  {
   "cell_type": "markdown",
   "id": "8d4814d1",
   "metadata": {},
   "source": [
    "##### <font color = \"darkcyan\"> Titltle 5 </font>"
   ]
  },
  {
   "cell_type": "markdown",
   "id": "3ecb1624",
   "metadata": {},
   "source": [
    "> **NOTE:** This is how we do it"
   ]
  },
  {
   "cell_type": "markdown",
   "id": "e39635e9",
   "metadata": {},
   "source": [
    "<a href = #bottom  style = \"text-decoration:none\"> go to bottom</a></br>\n",
    "<a name = \"top\"></a>"
   ]
  },
  {
   "cell_type": "markdown",
   "id": "171d7f1a",
   "metadata": {},
   "source": [
    "# <font color = \"brown\"> Content </font>"
   ]
  },
  {
   "cell_type": "markdown",
   "id": "97674920",
   "metadata": {},
   "source": [
    "<a href = #a0  style = \"text-decoration:none\"> Modelling steps</a></br>"
   ]
  },
  {
   "cell_type": "markdown",
   "id": "45f497e3",
   "metadata": {},
   "source": [
    "<a href = #m1  style = \"text-decoration:none\">  Modelling</a>"
   ]
  },
  {
   "cell_type": "markdown",
   "id": "a955a7e5",
   "metadata": {},
   "source": [
    "<a href = #a1  style = \"text-decoration:none\">  Generate classification dataset from sklearn</a>"
   ]
  },
  {
   "cell_type": "markdown",
   "id": "eed35039",
   "metadata": {},
   "source": [
    "<a href = #a2  style = \"text-decoration:none\">  data visialisation function</a>"
   ]
  },
  {
   "cell_type": "markdown",
   "id": "e0955304",
   "metadata": {},
   "source": [
    "<a href = #a3  style = \"text-decoration:none\"> visualising loss curves</a>"
   ]
  },
  {
   "cell_type": "markdown",
   "id": "ab5ccaeb",
   "metadata": {},
   "source": [
    "<a href = #a4  style = \"text-decoration:none\"> Findiing the best learning rate</a>"
   ]
  },
  {
   "cell_type": "markdown",
   "id": "cca3bfc1",
   "metadata": {},
   "source": [
    "<a href = #a5  style = \"text-decoration:none\"> Evaluation</a>"
   ]
  },
  {
   "cell_type": "markdown",
   "id": "7984e868",
   "metadata": {},
   "source": [
    "<a href = #a6  style = \"text-decoration:none\"> plot confusion matrix fuction</a>"
   ]
  },
  {
   "cell_type": "code",
   "execution_count": null,
   "id": "f4406bba",
   "metadata": {},
   "outputs": [],
   "source": []
  },
  {
   "cell_type": "code",
   "execution_count": null,
   "id": "d9b83da5",
   "metadata": {},
   "outputs": [],
   "source": []
  },
  {
   "cell_type": "markdown",
   "id": "c1aca4b0",
   "metadata": {},
   "source": [
    "# <a  name = \"a0\"><font color = \"brown\"> Modelling steps </font></a>"
   ]
  },
  {
   "cell_type": "markdown",
   "id": "f3413f16",
   "metadata": {},
   "source": [
    "### <font color = \"green\"> 1. Create or import a model </font>"
   ]
  },
  {
   "cell_type": "markdown",
   "id": "f928a1d3",
   "metadata": {},
   "source": [
    "### <font color = \"green\"> 2. Compile the model  </font>"
   ]
  },
  {
   "cell_type": "markdown",
   "id": "1f922d0b",
   "metadata": {},
   "source": [
    "### <font color = \"green\"> 3. Compile the model  </font>"
   ]
  },
  {
   "cell_type": "markdown",
   "id": "3a524316",
   "metadata": {},
   "source": [
    "### <font color = \"green\"> 4. Tweak the model  </font>"
   ]
  },
  {
   "cell_type": "markdown",
   "id": "9b25e59e",
   "metadata": {},
   "source": [
    "### <font color = \"green\"> 5. Evaluate the model  </font>"
   ]
  },
  {
   "cell_type": "markdown",
   "id": "c62bc99b",
   "metadata": {},
   "source": [
    "### <font color = \"green\"> 6. Alternate between step 5 and 6 to get the best results  </font>"
   ]
  },
  {
   "cell_type": "markdown",
   "id": "b5dbe1ac",
   "metadata": {},
   "source": [
    "# <a  name = \"a1\"><font color = \"brown\"> Generate classification dataset from sklearn</font></a>"
   ]
  },
  {
   "cell_type": "code",
   "execution_count": 88,
   "id": "33f04198",
   "metadata": {},
   "outputs": [],
   "source": [
    "from sklearn.datasets import make_circles\n",
    "n_samples = 1000 #number of samples \n",
    "#creating the circles \n",
    "x, y = make_circles(\n",
    "    n_samples=n_samples,\n",
    "    shuffle=True,\n",
    "    noise=0.03,\n",
    "    random_state=42\n",
    ")"
   ]
  },
  {
   "cell_type": "code",
   "execution_count": 89,
   "id": "77d01fb9",
   "metadata": {},
   "outputs": [
    {
     "data": {
      "text/plain": [
       "array([[ 0.75424625,  0.23148074],\n",
       "       [-0.75615888,  0.15325888],\n",
       "       [-0.81539193,  0.17328203],\n",
       "       ...,\n",
       "       [-0.13690036, -0.81001183],\n",
       "       [ 0.67036156, -0.76750154],\n",
       "       [ 0.28105665,  0.96382443]])"
      ]
     },
     "execution_count": 89,
     "metadata": {},
     "output_type": "execute_result"
    }
   ],
   "source": [
    "x"
   ]
  },
  {
   "cell_type": "code",
   "execution_count": 90,
   "id": "ab8914cd",
   "metadata": {},
   "outputs": [
    {
     "data": {
      "text/plain": [
       "array([1, 1, 1, 1, 0, 1, 1, 1, 1, 0, 1, 0, 1, 1, 1, 1, 0, 1, 1, 0, 1, 0,\n",
       "       0, 1, 0, 0, 0, 1, 1, 1, 0, 0, 1, 0, 0, 0, 1, 1, 1, 0, 0, 0, 0, 1,\n",
       "       0, 0, 1, 1, 0, 1], dtype=int64)"
      ]
     },
     "execution_count": 90,
     "metadata": {},
     "output_type": "execute_result"
    }
   ],
   "source": [
    "y[:50]"
   ]
  },
  {
   "cell_type": "markdown",
   "id": "152387a2",
   "metadata": {},
   "source": [
    "### <font color = \"green\"> Visualize the dataset </font>"
   ]
  },
  {
   "cell_type": "code",
   "execution_count": 91,
   "id": "6b279446",
   "metadata": {},
   "outputs": [],
   "source": [
    "import pandas as pd"
   ]
  },
  {
   "cell_type": "code",
   "execution_count": 92,
   "id": "605a5a9b",
   "metadata": {},
   "outputs": [
    {
     "data": {
      "text/html": [
       "<div>\n",
       "<style scoped>\n",
       "    .dataframe tbody tr th:only-of-type {\n",
       "        vertical-align: middle;\n",
       "    }\n",
       "\n",
       "    .dataframe tbody tr th {\n",
       "        vertical-align: top;\n",
       "    }\n",
       "\n",
       "    .dataframe thead th {\n",
       "        text-align: right;\n",
       "    }\n",
       "</style>\n",
       "<table border=\"1\" class=\"dataframe\">\n",
       "  <thead>\n",
       "    <tr style=\"text-align: right;\">\n",
       "      <th></th>\n",
       "      <th>x0</th>\n",
       "      <th>x1</th>\n",
       "      <th>y</th>\n",
       "    </tr>\n",
       "  </thead>\n",
       "  <tbody>\n",
       "    <tr>\n",
       "      <th>0</th>\n",
       "      <td>0.754246</td>\n",
       "      <td>0.231481</td>\n",
       "      <td>1</td>\n",
       "    </tr>\n",
       "    <tr>\n",
       "      <th>1</th>\n",
       "      <td>-0.756159</td>\n",
       "      <td>0.153259</td>\n",
       "      <td>1</td>\n",
       "    </tr>\n",
       "    <tr>\n",
       "      <th>2</th>\n",
       "      <td>-0.815392</td>\n",
       "      <td>0.173282</td>\n",
       "      <td>1</td>\n",
       "    </tr>\n",
       "    <tr>\n",
       "      <th>3</th>\n",
       "      <td>-0.393731</td>\n",
       "      <td>0.692883</td>\n",
       "      <td>1</td>\n",
       "    </tr>\n",
       "    <tr>\n",
       "      <th>4</th>\n",
       "      <td>0.442208</td>\n",
       "      <td>-0.896723</td>\n",
       "      <td>0</td>\n",
       "    </tr>\n",
       "    <tr>\n",
       "      <th>...</th>\n",
       "      <td>...</td>\n",
       "      <td>...</td>\n",
       "      <td>...</td>\n",
       "    </tr>\n",
       "    <tr>\n",
       "      <th>995</th>\n",
       "      <td>0.244054</td>\n",
       "      <td>0.944125</td>\n",
       "      <td>0</td>\n",
       "    </tr>\n",
       "    <tr>\n",
       "      <th>996</th>\n",
       "      <td>-0.978655</td>\n",
       "      <td>-0.272373</td>\n",
       "      <td>0</td>\n",
       "    </tr>\n",
       "    <tr>\n",
       "      <th>997</th>\n",
       "      <td>-0.136900</td>\n",
       "      <td>-0.810012</td>\n",
       "      <td>1</td>\n",
       "    </tr>\n",
       "    <tr>\n",
       "      <th>998</th>\n",
       "      <td>0.670362</td>\n",
       "      <td>-0.767502</td>\n",
       "      <td>0</td>\n",
       "    </tr>\n",
       "    <tr>\n",
       "      <th>999</th>\n",
       "      <td>0.281057</td>\n",
       "      <td>0.963824</td>\n",
       "      <td>0</td>\n",
       "    </tr>\n",
       "  </tbody>\n",
       "</table>\n",
       "<p>1000 rows × 3 columns</p>\n",
       "</div>"
      ],
      "text/plain": [
       "           x0        x1  y\n",
       "0    0.754246  0.231481  1\n",
       "1   -0.756159  0.153259  1\n",
       "2   -0.815392  0.173282  1\n",
       "3   -0.393731  0.692883  1\n",
       "4    0.442208 -0.896723  0\n",
       "..        ...       ... ..\n",
       "995  0.244054  0.944125  0\n",
       "996 -0.978655 -0.272373  0\n",
       "997 -0.136900 -0.810012  1\n",
       "998  0.670362 -0.767502  0\n",
       "999  0.281057  0.963824  0\n",
       "\n",
       "[1000 rows x 3 columns]"
      ]
     },
     "execution_count": 92,
     "metadata": {},
     "output_type": "execute_result"
    }
   ],
   "source": [
    "circles_df = pd.DataFrame(data = {'x0': x[:,0], 'x1': x[:,1], 'y':y})\n",
    "circles_df"
   ]
  },
  {
   "cell_type": "code",
   "execution_count": 93,
   "id": "b90f95f3",
   "metadata": {},
   "outputs": [
    {
     "data": {
      "text/plain": [
       "<matplotlib.collections.PathCollection at 0x1886c6d1ac0>"
      ]
     },
     "execution_count": 93,
     "metadata": {},
     "output_type": "execute_result"
    },
    {
     "data": {
      "image/png": "[encoded data removed]",
      "text/plain": [
       "<Figure size 432x288 with 1 Axes>"
      ]
     },
     "metadata": {
      "needs_background": "light"
     },
     "output_type": "display_data"
    }
   ],
   "source": [
    "import matplotlib.pyplot as plt\n",
    "plt.scatter(x[:,0], x[:,1], c =y , cmap = plt.cm.RdYlBu)"
   ]
  },
  {
   "cell_type": "markdown",
   "id": "aade7c57",
   "metadata": {},
   "source": [
    "# <a  name = \"m1\"><font color = \"brown\"> Modelling</font></a>"
   ]
  },
  {
   "cell_type": "code",
   "execution_count": 94,
   "id": "d0baca1f",
   "metadata": {},
   "outputs": [
    {
     "data": {
      "text/plain": [
       "'2.3.0'"
      ]
     },
     "execution_count": 94,
     "metadata": {},
     "output_type": "execute_result"
    }
   ],
   "source": [
    "import tensorflow as tf\n",
    "tf.__version__"
   ]
  },
  {
   "cell_type": "markdown",
   "id": "832b7a23",
   "metadata": {},
   "source": [
    "## <font color = \"purple\"> model_1a </font>"
   ]
  },
  {
   "cell_type": "code",
   "execution_count": 95,
   "id": "99bec4f7",
   "metadata": {},
   "outputs": [
    {
     "name": "stdout",
     "output_type": "stream",
     "text": [
      "Epoch 1/5\n",
      "32/32 [==============================] - 0s 1ms/step - loss: 2.8544 - accuracy: 0.4600\n",
      "Epoch 2/5\n",
      "32/32 [==============================] - 0s 919us/step - loss: 0.7131 - accuracy: 0.5430\n",
      "Epoch 3/5\n",
      "32/32 [==============================] - 0s 1ms/step - loss: 0.6973 - accuracy: 0.5090\n",
      "Epoch 4/5\n",
      "32/32 [==============================] - 0s 1ms/step - loss: 0.6950 - accuracy: 0.5010\n",
      "Epoch 5/5\n",
      "32/32 [==============================] - 0s 968us/step - loss: 0.6942 - accuracy: 0.4820\n"
     ]
    },
    {
     "data": {
      "text/plain": [
       "<tensorflow.python.keras.callbacks.History at 0x1886c9bf8b0>"
      ]
     },
     "execution_count": 95,
     "metadata": {},
     "output_type": "execute_result"
    }
   ],
   "source": [
    "tf.random.set_seed(42)\n",
    "# create a one layer model with the sequencial API\n",
    "model_1 = tf.keras.Sequential([\n",
    "        tf.keras.layers.Dense(1)\n",
    "    ]) \n",
    "# compile the model \n",
    "model_1.compile(loss = tf.keras.losses.BinaryCrossentropy(),\n",
    "               optimizer = tf.keras.optimizers.SGD(),\n",
    "               metrics = [\"accuracy\"])\n",
    "# fitting the model\n",
    "model_1.fit(x,y, epochs = 5)"
   ]
  },
  {
   "cell_type": "markdown",
   "id": "6348b008",
   "metadata": {},
   "source": [
    "### <font color = \"green\"> try more epochs</font>"
   ]
  },
  {
   "cell_type": "code",
   "execution_count": 96,
   "id": "044f8b87",
   "metadata": {},
   "outputs": [
    {
     "name": "stdout",
     "output_type": "stream",
     "text": [
      "32/32 [==============================] - 0s 1ms/step - loss: 0.6935 - accuracy: 0.5000\n"
     ]
    },
    {
     "data": {
      "text/plain": [
       "[0.6934829950332642, 0.5]"
      ]
     },
     "execution_count": 96,
     "metadata": {},
     "output_type": "execute_result"
    }
   ],
   "source": [
    "model_1.fit(x,y, epochs = 200, verbose = 0) #verbose determines how the training will be shown(0,1 0r 2)\n",
    "model_1.evaluate(x,y) # train set accuracy "
   ]
  },
  {
   "cell_type": "markdown",
   "id": "d8f47942",
   "metadata": {},
   "source": [
    "## <font color = \"purple\"> model_1b </font>"
   ]
  },
  {
   "cell_type": "markdown",
   "id": "ae82f9eb",
   "metadata": {},
   "source": [
    "### <font color = \"green\"> try more layers</font>"
   ]
  },
  {
   "cell_type": "code",
   "execution_count": 108,
   "id": "46eefc81",
   "metadata": {},
   "outputs": [
    {
     "data": {
      "text/plain": [
       "<tensorflow.python.keras.callbacks.History at 0x1886c7b7d30>"
      ]
     },
     "execution_count": 108,
     "metadata": {},
     "output_type": "execute_result"
    }
   ],
   "source": [
    "#Creat/define\n",
    "model_2 = tf.keras.Sequential([\n",
    "    tf.keras.layers.Dense(1),\n",
    "    tf.keras.layers.Dense(1)\n",
    "])\n",
    "#compile\n",
    "\n",
    "model_2.compile(\n",
    "    loss = tf.keras.losses.BinaryCrossentropy(),\n",
    "    optimizer = tf.keras.optimizers.SGD(),\n",
    "    metrics = [\"accuracy\"])\n",
    "#fit\n",
    "model_2.fit(x,y, epochs = 200, verbose = 0)"
   ]
  },
  {
   "cell_type": "code",
   "execution_count": 109,
   "id": "59da8d7c",
   "metadata": {},
   "outputs": [
    {
     "name": "stdout",
     "output_type": "stream",
     "text": [
      "32/32 [==============================] - 0s 864us/step - loss: 0.6938 - accuracy: 0.5000\n"
     ]
    },
    {
     "data": {
      "text/plain": [
       "[0.6938000917434692, 0.5]"
      ]
     },
     "execution_count": 109,
     "metadata": {},
     "output_type": "execute_result"
    }
   ],
   "source": [
    "model_2.evaluate(x,y) # train set accuracy "
   ]
  },
  {
   "cell_type": "markdown",
   "id": "0aa090a6",
   "metadata": {},
   "source": [
    "> **Observe:** The model seems to be doing a 50% guess work"
   ]
  },
  {
   "cell_type": "markdown",
   "id": "d305fce1",
   "metadata": {},
   "source": [
    "### <a  name = \"a2\"> <font color = \"green\"> Visualistion function</font> </a>"
   ]
  },
  {
   "cell_type": "code",
   "execution_count": 110,
   "id": "9c4749fb",
   "metadata": {},
   "outputs": [],
   "source": [
    "import numpy as np"
   ]
  },
  {
   "cell_type": "code",
   "execution_count": 111,
   "id": "7e235a7a",
   "metadata": {},
   "outputs": [],
   "source": [
    "def plot_decision_boundary(model, X, y):\n",
    "  \"\"\"\n",
    "  Plots the decision boundary created by a model predicting on X.\n",
    "  This function has been adapted from two phenomenal resources:\n",
    "   1. CS231n - https://cs231n.github.io/neural-networks-case-study/\n",
    "   2. Made with ML basics - https://github.com/GokuMohandas/MadeWithML/blob/main/notebooks/08_Neural_Networks.ipynb\n",
    "  \"\"\"\n",
    "  # Define the axis boundaries of the plot and create a meshgrid\n",
    "  x_min, x_max = X[:, 0].min() - 0.1, X[:, 0].max() + 0.1\n",
    "  y_min, y_max = X[:, 1].min() - 0.1, X[:, 1].max() + 0.1\n",
    "  xx, yy = np.meshgrid(np.linspace(x_min, x_max, 100),\n",
    "                       np.linspace(y_min, y_max, 100))\n",
    "  \n",
    "  # Create X values (we're going to predict on all of these)\n",
    "  x_in = np.c_[xx.ravel(), yy.ravel()] # stack 2D arrays together: https://numpy.org/devdocs/reference/generated/numpy.c_.html\n",
    "  \n",
    "  # Make predictions using the trained model\n",
    "  y_pred = model.predict(x_in)\n",
    "\n",
    "  # Check for multi-class\n",
    "  if len(y_pred[0]) > 1:\n",
    "    print(\"doing multiclass classification...\")\n",
    "    # We have to reshape our predictions to get them ready for plotting\n",
    "    y_pred = np.argmax(y_pred, axis=1).reshape(xx.shape)\n",
    "  else:\n",
    "    print(\"doing binary classifcation...\")\n",
    "    y_pred = np.round(y_pred).reshape(xx.shape)\n",
    "  \n",
    "  # Plot decision boundary\n",
    "  plt.contourf(xx, yy, y_pred, cmap=plt.cm.RdYlBu, alpha=0.7)\n",
    "  plt.scatter(X[:, 0], X[:, 1], c=y, s=40, cmap=plt.cm.RdYlBu)\n",
    "  plt.xlim(xx.min(), xx.max())\n",
    "  plt.ylim(yy.min(), yy.max())"
   ]
  },
  {
   "cell_type": "code",
   "execution_count": 112,
   "id": "91147ed7",
   "metadata": {},
   "outputs": [
    {
     "data": {
      "text/plain": [
       "array([[1, 2, 3, 4],\n",
       "       [1, 2, 3, 4],\n",
       "       [1, 2, 3, 4],\n",
       "       [1, 2, 3, 4]])"
      ]
     },
     "execution_count": 112,
     "metadata": {},
     "output_type": "execute_result"
    }
   ],
   "source": [
    "a,b = np.meshgrid([1,2,3,4], [5,6,7,8])\n",
    "a"
   ]
  },
  {
   "cell_type": "code",
   "execution_count": 113,
   "id": "e1577659",
   "metadata": {},
   "outputs": [
    {
     "data": {
      "text/plain": [
       "array([[5, 5, 5, 5],\n",
       "       [6, 6, 6, 6],\n",
       "       [7, 7, 7, 7],\n",
       "       [8, 8, 8, 8]])"
      ]
     },
     "execution_count": 113,
     "metadata": {},
     "output_type": "execute_result"
    }
   ],
   "source": [
    "b"
   ]
  },
  {
   "cell_type": "code",
   "execution_count": 114,
   "id": "2ef6e33e",
   "metadata": {},
   "outputs": [
    {
     "data": {
      "text/plain": [
       "array([1, 2, 3, 4, 1, 2, 3, 4, 1, 2, 3, 4, 1, 2, 3, 4])"
      ]
     },
     "execution_count": 114,
     "metadata": {},
     "output_type": "execute_result"
    }
   ],
   "source": [
    "a.ravel()"
   ]
  },
  {
   "cell_type": "code",
   "execution_count": 117,
   "id": "ce763b61",
   "metadata": {},
   "outputs": [
    {
     "data": {
      "text/plain": [
       "array([5, 5, 5, 5, 6, 6, 6, 6, 7, 7, 7, 7, 8, 8, 8, 8])"
      ]
     },
     "execution_count": 117,
     "metadata": {},
     "output_type": "execute_result"
    }
   ],
   "source": [
    "b.ravel()"
   ]
  },
  {
   "cell_type": "code",
   "execution_count": 118,
   "id": "be1059a3",
   "metadata": {},
   "outputs": [
    {
     "data": {
      "text/plain": [
       "array([[1, 5],\n",
       "       [2, 5],\n",
       "       [3, 5],\n",
       "       [4, 5],\n",
       "       [1, 6],\n",
       "       [2, 6],\n",
       "       [3, 6],\n",
       "       [4, 6],\n",
       "       [1, 7],\n",
       "       [2, 7],\n",
       "       [3, 7],\n",
       "       [4, 7],\n",
       "       [1, 8],\n",
       "       [2, 8],\n",
       "       [3, 8],\n",
       "       [4, 8]])"
      ]
     },
     "execution_count": 118,
     "metadata": {},
     "output_type": "execute_result"
    }
   ],
   "source": [
    "cc = np.c_[a.ravel(),b.ravel()]\n",
    "cc"
   ]
  },
  {
   "cell_type": "markdown",
   "id": "83ac39ea",
   "metadata": {},
   "source": [
    "## <font color = \"purple\"> model_1c(worked best) </font>"
   ]
  },
  {
   "cell_type": "code",
   "execution_count": 119,
   "id": "39aafa72",
   "metadata": {},
   "outputs": [],
   "source": [
    "tf.random.set_seed(42)\n",
    "#define\n",
    "model_3 = tf.keras.Sequential([\n",
    "    tf.keras.layers.Dense(4, activation = tf.keras.activations.relu),\n",
    "    tf.keras.layers.Dense(4, activation = tf.keras.activations.relu),\n",
    "    tf.keras.layers.Dense(1, activation = tf.keras.activations.sigmoid)\n",
    "])\n",
    "\n",
    "#compile\n",
    "model_3.compile(\n",
    "    loss = tf.keras.losses.BinaryCrossentropy(),\n",
    "    optimizer = tf.keras.optimizers.Adam(lr =0.001),\n",
    "    metrics = [\"accuracy\"])\n",
    "\n",
    "history = model_3.fit(x,y,epochs=100, verbose =0)"
   ]
  },
  {
   "cell_type": "code",
   "execution_count": 120,
   "id": "b3317e6b",
   "metadata": {},
   "outputs": [
    {
     "name": "stdout",
     "output_type": "stream",
     "text": [
      "32/32 [==============================] - 0s 971us/step - loss: 0.2948 - accuracy: 0.9910\n"
     ]
    },
    {
     "data": {
      "text/plain": [
       "[0.29480040073394775, 0.9909999966621399]"
      ]
     },
     "execution_count": 120,
     "metadata": {},
     "output_type": "execute_result"
    }
   ],
   "source": [
    "model_3.evaluate(x,y) # train set accuracy "
   ]
  },
  {
   "cell_type": "code",
   "execution_count": 121,
   "id": "533d96df",
   "metadata": {},
   "outputs": [
    {
     "name": "stdout",
     "output_type": "stream",
     "text": [
      "doing binary classifcation...\n"
     ]
    },
    {
     "data": {
      "image/png": "[encoded data removed]",
      "text/plain": [
       "<Figure size 432x288 with 1 Axes>"
      ]
     },
     "metadata": {
      "needs_background": "light"
     },
     "output_type": "display_data"
    }
   ],
   "source": [
    "plot_decision_boundary(model_3,x,y)"
   ]
  },
  {
   "cell_type": "markdown",
   "id": "1ea46718",
   "metadata": {},
   "source": [
    "> **NOTE: <font color = 'orange'>Introduction of none linearity though none linear actinvations drastically improve the model accuracy </font>**"
   ]
  },
  {
   "cell_type": "markdown",
   "id": "7c6028b7",
   "metadata": {},
   "source": [
    "## <font color = \"purple\"> model_1d(proper approach) </font>\n",
    "- splitting the data into test and train set"
   ]
  },
  {
   "cell_type": "code",
   "execution_count": 122,
   "id": "22c2ed4b",
   "metadata": {},
   "outputs": [
    {
     "data": {
      "text/plain": [
       "(1000,)"
      ]
     },
     "execution_count": 122,
     "metadata": {},
     "output_type": "execute_result"
    }
   ],
   "source": [
    "y.shape"
   ]
  },
  {
   "cell_type": "code",
   "execution_count": 123,
   "id": "c43fc3bd",
   "metadata": {},
   "outputs": [],
   "source": [
    "x_train, y_train = x[:800], y[:800] #80%\n",
    "x_test, y_test = x[800:], y[800:]#20%"
   ]
  },
  {
   "cell_type": "code",
   "execution_count": 124,
   "id": "f3e3dc4a",
   "metadata": {},
   "outputs": [
    {
     "name": "stdout",
     "output_type": "stream",
     "text": [
      "Epoch 1/100\n",
      "25/25 [==============================] - 0s 1ms/step - loss: 0.6847 - accuracy: 0.5425\n",
      "Epoch 2/100\n",
      "25/25 [==============================] - 0s 1ms/step - loss: 0.6777 - accuracy: 0.5525\n",
      "Epoch 3/100\n",
      "25/25 [==============================] - 0s 1ms/step - loss: 0.6736 - accuracy: 0.5512\n",
      "Epoch 4/100\n",
      "25/25 [==============================] - 0s 1ms/step - loss: 0.6681 - accuracy: 0.5775\n",
      "Epoch 5/100\n",
      "25/25 [==============================] - 0s 1ms/step - loss: 0.6633 - accuracy: 0.5850\n",
      "Epoch 6/100\n",
      "25/25 [==============================] - 0s 2ms/step - loss: 0.6546 - accuracy: 0.5838\n",
      "Epoch 7/100\n",
      "25/25 [==============================] - 0s 1ms/step - loss: 0.6413 - accuracy: 0.6750\n",
      "Epoch 8/100\n",
      "25/25 [==============================] - 0s 1ms/step - loss: 0.6264 - accuracy: 0.7013\n",
      "Epoch 9/100\n",
      "25/25 [==============================] - 0s 1ms/step - loss: 0.6038 - accuracy: 0.7487\n",
      "Epoch 10/100\n",
      "25/25 [==============================] - 0s 1ms/step - loss: 0.5714 - accuracy: 0.7738\n",
      "Epoch 11/100\n",
      "25/25 [==============================] - 0s 919us/step - loss: 0.5404 - accuracy: 0.7650\n",
      "Epoch 12/100\n",
      "25/25 [==============================] - 0s 959us/step - loss: 0.5015 - accuracy: 0.7837\n",
      "Epoch 13/100\n",
      "25/25 [==============================] - 0s 2ms/step - loss: 0.4683 - accuracy: 0.7975\n",
      "Epoch 14/100\n",
      "25/25 [==============================] - 0s 1ms/step - loss: 0.4113 - accuracy: 0.8450\n",
      "Epoch 15/100\n",
      "25/25 [==============================] - 0s 1ms/step - loss: 0.3625 - accuracy: 0.9125\n",
      "Epoch 16/100\n",
      "25/25 [==============================] - 0s 1ms/step - loss: 0.3209 - accuracy: 0.9312\n",
      "Epoch 17/100\n",
      "25/25 [==============================] - 0s 1ms/step - loss: 0.2847 - accuracy: 0.9488\n",
      "Epoch 18/100\n",
      "25/25 [==============================] - 0s 1ms/step - loss: 0.2597 - accuracy: 0.9525\n",
      "Epoch 19/100\n",
      "25/25 [==============================] - 0s 1ms/step - loss: 0.2375 - accuracy: 0.9563\n",
      "Epoch 20/100\n",
      "25/25 [==============================] - 0s 1ms/step - loss: 0.2135 - accuracy: 0.9663\n",
      "Epoch 21/100\n",
      "25/25 [==============================] - 0s 1ms/step - loss: 0.1938 - accuracy: 0.9775\n",
      "Epoch 22/100\n",
      "25/25 [==============================] - 0s 1ms/step - loss: 0.1752 - accuracy: 0.9737\n",
      "Epoch 23/100\n",
      "25/25 [==============================] - 0s 1ms/step - loss: 0.1619 - accuracy: 0.9787\n",
      "Epoch 24/100\n",
      "25/25 [==============================] - 0s 1ms/step - loss: 0.1550 - accuracy: 0.9775\n",
      "Epoch 25/100\n",
      "25/25 [==============================] - 0s 1ms/step - loss: 0.1490 - accuracy: 0.9762\n",
      "Epoch 26/100\n",
      "25/25 [==============================] - 0s 1ms/step - loss: 0.1339 - accuracy: 0.9775\n",
      "Epoch 27/100\n",
      "25/25 [==============================] - 0s 1ms/step - loss: 0.1214 - accuracy: 0.9887\n",
      "Epoch 28/100\n",
      "25/25 [==============================] - 0s 1ms/step - loss: 0.1206 - accuracy: 0.9800\n",
      "Epoch 29/100\n",
      "25/25 [==============================] - 0s 1ms/step - loss: 0.1101 - accuracy: 0.9837\n",
      "Epoch 30/100\n",
      "25/25 [==============================] - 0s 1ms/step - loss: 0.1093 - accuracy: 0.9825\n",
      "Epoch 31/100\n",
      "25/25 [==============================] - 0s 794us/step - loss: 0.1088 - accuracy: 0.9850\n",
      "Epoch 32/100\n",
      "25/25 [==============================] - 0s 1ms/step - loss: 0.0993 - accuracy: 0.9850\n",
      "Epoch 33/100\n",
      "25/25 [==============================] - 0s 1ms/step - loss: 0.0957 - accuracy: 0.9837\n",
      "Epoch 34/100\n",
      "25/25 [==============================] - 0s 1ms/step - loss: 0.0863 - accuracy: 0.9850\n",
      "Epoch 35/100\n",
      "25/25 [==============================] - 0s 1ms/step - loss: 0.0821 - accuracy: 0.9925\n",
      "Epoch 36/100\n",
      "25/25 [==============================] - 0s 1ms/step - loss: 0.0824 - accuracy: 0.9850\n",
      "Epoch 37/100\n",
      "25/25 [==============================] - 0s 1ms/step - loss: 0.0791 - accuracy: 0.9862\n",
      "Epoch 38/100\n",
      "25/25 [==============================] - 0s 1ms/step - loss: 0.0747 - accuracy: 0.9887\n",
      "Epoch 39/100\n",
      "25/25 [==============================] - 0s 1ms/step - loss: 0.0789 - accuracy: 0.9800\n",
      "Epoch 40/100\n",
      "25/25 [==============================] - 0s 1ms/step - loss: 0.0749 - accuracy: 0.9875\n",
      "Epoch 41/100\n",
      "25/25 [==============================] - 0s 1ms/step - loss: 0.0745 - accuracy: 0.9875\n",
      "Epoch 42/100\n",
      "25/25 [==============================] - 0s 1ms/step - loss: 0.0717 - accuracy: 0.9887\n",
      "Epoch 43/100\n",
      "25/25 [==============================] - 0s 1ms/step - loss: 0.0650 - accuracy: 0.9900\n",
      "Epoch 44/100\n",
      "25/25 [==============================] - 0s 1ms/step - loss: 0.0805 - accuracy: 0.9825\n",
      "Epoch 45/100\n",
      "25/25 [==============================] - 0s 1ms/step - loss: 0.0632 - accuracy: 0.9887\n",
      "Epoch 46/100\n",
      "25/25 [==============================] - 0s 1ms/step - loss: 0.0636 - accuracy: 0.9850\n",
      "Epoch 47/100\n",
      "25/25 [==============================] - 0s 880us/step - loss: 0.0589 - accuracy: 0.9900\n",
      "Epoch 48/100\n",
      "25/25 [==============================] - 0s 2ms/step - loss: 0.0652 - accuracy: 0.9812\n",
      "Epoch 49/100\n",
      "25/25 [==============================] - 0s 2ms/step - loss: 0.0593 - accuracy: 0.9900\n",
      "Epoch 50/100\n",
      "25/25 [==============================] - 0s 2ms/step - loss: 0.0566 - accuracy: 0.9875\n",
      "Epoch 51/100\n",
      "25/25 [==============================] - 0s 2ms/step - loss: 0.0567 - accuracy: 0.9912\n",
      "Epoch 52/100\n",
      "25/25 [==============================] - 0s 2ms/step - loss: 0.0586 - accuracy: 0.9887\n",
      "Epoch 53/100\n",
      "25/25 [==============================] - 0s 2ms/step - loss: 0.0544 - accuracy: 0.9875\n",
      "Epoch 54/100\n",
      "25/25 [==============================] - 0s 2ms/step - loss: 0.0539 - accuracy: 0.9862\n",
      "Epoch 55/100\n",
      "25/25 [==============================] - 0s 2ms/step - loss: 0.0593 - accuracy: 0.9875\n",
      "Epoch 56/100\n",
      "25/25 [==============================] - 0s 1ms/step - loss: 0.0564 - accuracy: 0.9850\n",
      "Epoch 57/100\n",
      "25/25 [==============================] - 0s 822us/step - loss: 0.0513 - accuracy: 0.9862\n",
      "Epoch 58/100\n",
      "25/25 [==============================] - 0s 833us/step - loss: 0.0488 - accuracy: 0.9875\n",
      "Epoch 59/100\n",
      "25/25 [==============================] - 0s 799us/step - loss: 0.0567 - accuracy: 0.9875\n",
      "Epoch 60/100\n",
      "25/25 [==============================] - 0s 798us/step - loss: 0.0577 - accuracy: 0.9862\n",
      "Epoch 61/100\n",
      "25/25 [==============================] - 0s 793us/step - loss: 0.0568 - accuracy: 0.9850\n",
      "Epoch 62/100\n",
      "25/25 [==============================] - 0s 922us/step - loss: 0.0495 - accuracy: 0.9912\n",
      "Epoch 63/100\n",
      "25/25 [==============================] - 0s 841us/step - loss: 0.0491 - accuracy: 0.9887\n",
      "Epoch 64/100\n",
      "25/25 [==============================] - 0s 848us/step - loss: 0.0534 - accuracy: 0.9900\n",
      "Epoch 65/100\n",
      "25/25 [==============================] - 0s 1ms/step - loss: 0.0535 - accuracy: 0.9850\n",
      "Epoch 66/100\n",
      "25/25 [==============================] - 0s 2ms/step - loss: 0.0500 - accuracy: 0.9850\n",
      "Epoch 67/100\n",
      "25/25 [==============================] - 0s 2ms/step - loss: 0.0489 - accuracy: 0.9837\n",
      "Epoch 68/100\n",
      "25/25 [==============================] - 0s 2ms/step - loss: 0.0477 - accuracy: 0.9887\n",
      "Epoch 69/100\n",
      "25/25 [==============================] - 0s 1ms/step - loss: 0.0482 - accuracy: 0.9837\n",
      "Epoch 70/100\n",
      "25/25 [==============================] - 0s 2ms/step - loss: 0.0616 - accuracy: 0.9800\n",
      "Epoch 71/100\n",
      "25/25 [==============================] - 0s 919us/step - loss: 0.0483 - accuracy: 0.9837\n",
      "Epoch 72/100\n",
      "25/25 [==============================] - 0s 853us/step - loss: 0.0449 - accuracy: 0.9825\n",
      "Epoch 73/100\n",
      "25/25 [==============================] - 0s 785us/step - loss: 0.0418 - accuracy: 0.9912\n",
      "Epoch 74/100\n",
      "25/25 [==============================] - 0s 796us/step - loss: 0.0695 - accuracy: 0.9688\n",
      "Epoch 75/100\n",
      "25/25 [==============================] - 0s 766us/step - loss: 0.0611 - accuracy: 0.9837\n",
      "Epoch 76/100\n",
      "25/25 [==============================] - 0s 846us/step - loss: 0.0408 - accuracy: 0.9925\n",
      "Epoch 77/100\n",
      "25/25 [==============================] - 0s 1ms/step - loss: 0.0413 - accuracy: 0.9875\n",
      "Epoch 78/100\n",
      "25/25 [==============================] - 0s 1ms/step - loss: 0.0395 - accuracy: 0.9950\n",
      "Epoch 79/100\n",
      "25/25 [==============================] - 0s 1ms/step - loss: 0.0412 - accuracy: 0.9887\n",
      "Epoch 80/100\n",
      "25/25 [==============================] - 0s 1ms/step - loss: 0.0403 - accuracy: 0.9887\n",
      "Epoch 81/100\n",
      "25/25 [==============================] - 0s 1ms/step - loss: 0.0388 - accuracy: 0.9937\n",
      "Epoch 82/100\n"
     ]
    },
    {
     "name": "stdout",
     "output_type": "stream",
     "text": [
      "25/25 [==============================] - 0s 2ms/step - loss: 0.0371 - accuracy: 0.9937\n",
      "Epoch 83/100\n",
      "25/25 [==============================] - 0s 1ms/step - loss: 0.0450 - accuracy: 0.9850\n",
      "Epoch 84/100\n",
      "25/25 [==============================] - 0s 1ms/step - loss: 0.0461 - accuracy: 0.9850\n",
      "Epoch 85/100\n",
      "25/25 [==============================] - 0s 840us/step - loss: 0.0442 - accuracy: 0.9862\n",
      "Epoch 86/100\n",
      "25/25 [==============================] - 0s 840us/step - loss: 0.0356 - accuracy: 0.9950\n",
      "Epoch 87/100\n",
      "25/25 [==============================] - 0s 800us/step - loss: 0.0390 - accuracy: 0.9887\n",
      "Epoch 88/100\n",
      "25/25 [==============================] - 0s 760us/step - loss: 0.0392 - accuracy: 0.9875\n",
      "Epoch 89/100\n",
      "25/25 [==============================] - 0s 736us/step - loss: 0.0431 - accuracy: 0.9900\n",
      "Epoch 90/100\n",
      "25/25 [==============================] - 0s 760us/step - loss: 0.0395 - accuracy: 0.9875\n",
      "Epoch 91/100\n",
      "25/25 [==============================] - 0s 720us/step - loss: 0.0404 - accuracy: 0.9862\n",
      "Epoch 92/100\n",
      "25/25 [==============================] - 0s 760us/step - loss: 0.0365 - accuracy: 0.9912\n",
      "Epoch 93/100\n",
      "25/25 [==============================] - 0s 760us/step - loss: 0.0361 - accuracy: 0.9912\n",
      "Epoch 94/100\n",
      "25/25 [==============================] - 0s 760us/step - loss: 0.0341 - accuracy: 0.9937\n",
      "Epoch 95/100\n",
      "25/25 [==============================] - 0s 680us/step - loss: 0.0350 - accuracy: 0.9937\n",
      "Epoch 96/100\n",
      "25/25 [==============================] - 0s 800us/step - loss: 0.0384 - accuracy: 0.9887\n",
      "Epoch 97/100\n",
      "25/25 [==============================] - 0s 800us/step - loss: 0.0375 - accuracy: 0.9900\n",
      "Epoch 98/100\n",
      "25/25 [==============================] - 0s 760us/step - loss: 0.0361 - accuracy: 0.9925\n",
      "Epoch 99/100\n",
      "25/25 [==============================] - 0s 759us/step - loss: 0.0351 - accuracy: 0.9925\n",
      "Epoch 100/100\n",
      "25/25 [==============================] - 0s 959us/step - loss: 0.0357 - accuracy: 0.9862\n"
     ]
    }
   ],
   "source": [
    "tf.random.set_seed(42)\n",
    "#define\n",
    "model_1d = tf.keras.Sequential([\n",
    "    tf.keras.layers.Dense(4, activation = \"relu\"),\n",
    "    tf.keras.layers.Dense(4, activation = \"relu\"),\n",
    "    tf.keras.layers.Dense(1, activation = 'sigmoid')\n",
    "])\n",
    "#compile\n",
    "model_1d.compile(\n",
    "    loss = tf.keras.losses.binary_crossentropy,\n",
    "    optimizer = tf.keras.optimizers.Adam(lr = 0.01),\n",
    "    metrics = ['accuracy']\n",
    ")\n",
    "\n",
    "#fit\n",
    "m1d_history = model_1d.fit(x_train, y_train, epochs=100, verbose=1)#keep history to plot training loss"
   ]
  },
  {
   "cell_type": "code",
   "execution_count": 125,
   "id": "f41ef4c2",
   "metadata": {},
   "outputs": [
    {
     "name": "stdout",
     "output_type": "stream",
     "text": [
      "7/7 [==============================] - 0s 3ms/step - loss: 0.0278 - accuracy: 0.9950\n"
     ]
    },
    {
     "data": {
      "text/plain": [
       "<tensorflow.python.keras.callbacks.History at 0x1886f85fc40>"
      ]
     },
     "execution_count": 125,
     "metadata": {},
     "output_type": "execute_result"
    }
   ],
   "source": [
    "#predict on test set\n",
    "model_1d.fit(x_test,y_test)"
   ]
  },
  {
   "cell_type": "markdown",
   "id": "240d36dd",
   "metadata": {},
   "source": [
    "> **NOTE:** <font color = 'orange'>The learning rate was increased such that the model can learn faster with less epochs. This decision was made based on the history of the earlier models which showed learing but significant improvent after several epochs</font>"
   ]
  },
  {
   "cell_type": "markdown",
   "id": "bf13f7c2",
   "metadata": {},
   "source": [
    "## <a  name = \"a3\"><font color = \"green\"> Visualising loss/training curves</font></a>\n",
    "- use model history"
   ]
  },
  {
   "cell_type": "code",
   "execution_count": 169,
   "id": "f9de1bff",
   "metadata": {},
   "outputs": [
    {
     "data": {
      "text/plain": [
       "Text(0.5, 1.0, 'model_1d training curves')"
      ]
     },
     "execution_count": 169,
     "metadata": {},
     "output_type": "execute_result"
    },
    {
     "data": {
      "image/png": "[encoded data removed]",
      "text/plain": [
       "<Figure size 432x288 with 1 Axes>"
      ]
     },
     "metadata": {
      "needs_background": "light"
     },
     "output_type": "display_data"
    }
   ],
   "source": [
    "#dataframe the history\n",
    "hdf = pd.DataFrame(m1d_history.history).plot()\n",
    "plt.title(\"model_1d training curves\")"
   ]
  },
  {
   "cell_type": "markdown",
   "id": "633e5e27",
   "metadata": {},
   "source": [
    "> **Observation:** <font color = 'orange'> The loss is going down and the accuracy up. Great!!</font>"
   ]
  },
  {
   "cell_type": "markdown",
   "id": "8eea278d",
   "metadata": {},
   "source": [
    "## <a  name = \"a4\"><font color = \"green\"> Finding the best learing rate </font></a>\n",
    "- <font color = \"purple\"> Train the model with an exponetially increasing rate(use the callback argument if .fit) </font>\n",
    "- <font color = \"purple\"> Use the history to plot a graph of the loss vs learning rate </font>\n",
    "- <font color = \"purple\"> pick the learning rate where the loss decreses the most but not yet flattened </font>\n"
   ]
  },
  {
   "cell_type": "markdown",
   "id": "fd08ad7c",
   "metadata": {},
   "source": [
    "## <font color = \"purple\"> model_m1e(trained to determine an appropriate learning rate) </font>"
   ]
  },
  {
   "cell_type": "code",
   "execution_count": 181,
   "id": "fa467861",
   "metadata": {},
   "outputs": [
    {
     "name": "stdout",
     "output_type": "stream",
     "text": [
      "Epoch 1/100\n",
      "25/25 - 0s - loss: 0.7105 - accuracy: 0.4850\n",
      "Epoch 2/100\n",
      "25/25 - 0s - loss: 0.7101 - accuracy: 0.4812\n",
      "Epoch 3/100\n",
      "25/25 - 0s - loss: 0.7097 - accuracy: 0.4812\n",
      "Epoch 4/100\n",
      "25/25 - 0s - loss: 0.7092 - accuracy: 0.4800\n",
      "Epoch 5/100\n",
      "25/25 - 0s - loss: 0.7087 - accuracy: 0.4787\n",
      "Epoch 6/100\n",
      "25/25 - 0s - loss: 0.7082 - accuracy: 0.4800\n",
      "Epoch 7/100\n",
      "25/25 - 0s - loss: 0.7076 - accuracy: 0.4825\n",
      "Epoch 8/100\n",
      "25/25 - 0s - loss: 0.7070 - accuracy: 0.4837\n",
      "Epoch 9/100\n",
      "25/25 - 0s - loss: 0.7064 - accuracy: 0.4837\n",
      "Epoch 10/100\n",
      "25/25 - 0s - loss: 0.7057 - accuracy: 0.4837\n",
      "Epoch 11/100\n",
      "25/25 - 0s - loss: 0.7051 - accuracy: 0.4775\n",
      "Epoch 12/100\n",
      "25/25 - 0s - loss: 0.7042 - accuracy: 0.4825\n",
      "Epoch 13/100\n",
      "25/25 - 0s - loss: 0.7035 - accuracy: 0.4825\n",
      "Epoch 14/100\n",
      "25/25 - 0s - loss: 0.7027 - accuracy: 0.4825\n",
      "Epoch 15/100\n",
      "25/25 - 0s - loss: 0.7019 - accuracy: 0.4837\n",
      "Epoch 16/100\n",
      "25/25 - 0s - loss: 0.7009 - accuracy: 0.4850\n",
      "Epoch 17/100\n",
      "25/25 - 0s - loss: 0.7000 - accuracy: 0.4837\n",
      "Epoch 18/100\n",
      "25/25 - 0s - loss: 0.6991 - accuracy: 0.4850\n",
      "Epoch 19/100\n",
      "25/25 - 0s - loss: 0.6982 - accuracy: 0.4787\n",
      "Epoch 20/100\n",
      "25/25 - 0s - loss: 0.6971 - accuracy: 0.4837\n",
      "Epoch 21/100\n",
      "25/25 - 0s - loss: 0.6962 - accuracy: 0.4900\n",
      "Epoch 22/100\n",
      "25/25 - 0s - loss: 0.6953 - accuracy: 0.4975\n",
      "Epoch 23/100\n",
      "25/25 - 0s - loss: 0.6943 - accuracy: 0.5000\n",
      "Epoch 24/100\n",
      "25/25 - 0s - loss: 0.6930 - accuracy: 0.5088\n",
      "Epoch 25/100\n",
      "25/25 - 0s - loss: 0.6918 - accuracy: 0.5188\n",
      "Epoch 26/100\n",
      "25/25 - 0s - loss: 0.6906 - accuracy: 0.5163\n",
      "Epoch 27/100\n",
      "25/25 - 0s - loss: 0.6890 - accuracy: 0.5213\n",
      "Epoch 28/100\n",
      "25/25 - 0s - loss: 0.6873 - accuracy: 0.5263\n",
      "Epoch 29/100\n",
      "25/25 - 0s - loss: 0.6849 - accuracy: 0.5312\n",
      "Epoch 30/100\n",
      "25/25 - 0s - loss: 0.6832 - accuracy: 0.5350\n",
      "Epoch 31/100\n",
      "25/25 - 0s - loss: 0.6815 - accuracy: 0.5800\n",
      "Epoch 32/100\n",
      "25/25 - 0s - loss: 0.6794 - accuracy: 0.6000\n",
      "Epoch 33/100\n",
      "25/25 - 0s - loss: 0.6765 - accuracy: 0.6100\n",
      "Epoch 34/100\n",
      "25/25 - 0s - loss: 0.6731 - accuracy: 0.6200\n",
      "Epoch 35/100\n",
      "25/25 - 0s - loss: 0.6688 - accuracy: 0.6212\n",
      "Epoch 36/100\n",
      "25/25 - 0s - loss: 0.6628 - accuracy: 0.6112\n",
      "Epoch 37/100\n",
      "25/25 - 0s - loss: 0.6488 - accuracy: 0.6862\n",
      "Epoch 38/100\n",
      "25/25 - 0s - loss: 0.6299 - accuracy: 0.7237\n",
      "Epoch 39/100\n",
      "25/25 - 0s - loss: 0.6122 - accuracy: 0.7262\n",
      "Epoch 40/100\n",
      "25/25 - 0s - loss: 0.5817 - accuracy: 0.7925\n",
      "Epoch 41/100\n",
      "25/25 - 0s - loss: 0.5362 - accuracy: 0.8300\n",
      "Epoch 42/100\n",
      "25/25 - 0s - loss: 0.4434 - accuracy: 0.8775\n",
      "Epoch 43/100\n",
      "25/25 - 0s - loss: 0.3553 - accuracy: 0.9112\n",
      "Epoch 44/100\n",
      "25/25 - 0s - loss: 0.3175 - accuracy: 0.9013\n",
      "Epoch 45/100\n",
      "25/25 - 0s - loss: 0.2450 - accuracy: 0.9262\n",
      "Epoch 46/100\n",
      "25/25 - 0s - loss: 0.2027 - accuracy: 0.9400\n",
      "Epoch 47/100\n",
      "25/25 - 0s - loss: 0.2332 - accuracy: 0.9025\n",
      "Epoch 48/100\n",
      "25/25 - 0s - loss: 0.1699 - accuracy: 0.9513\n",
      "Epoch 49/100\n",
      "25/25 - 0s - loss: 0.1725 - accuracy: 0.9400\n",
      "Epoch 50/100\n",
      "25/25 - 0s - loss: 0.1430 - accuracy: 0.9475\n",
      "Epoch 51/100\n",
      "25/25 - 0s - loss: 0.1655 - accuracy: 0.9362\n",
      "Epoch 52/100\n",
      "25/25 - 0s - loss: 0.1588 - accuracy: 0.9275\n",
      "Epoch 53/100\n",
      "25/25 - 0s - loss: 0.1443 - accuracy: 0.9400\n",
      "Epoch 54/100\n",
      "25/25 - 0s - loss: 0.0972 - accuracy: 0.9663\n",
      "Epoch 55/100\n",
      "25/25 - 0s - loss: 0.0992 - accuracy: 0.9700\n",
      "Epoch 56/100\n",
      "25/25 - 0s - loss: 0.1273 - accuracy: 0.9513\n",
      "Epoch 57/100\n",
      "25/25 - 0s - loss: 0.2003 - accuracy: 0.9200\n",
      "Epoch 58/100\n",
      "25/25 - 0s - loss: 0.2034 - accuracy: 0.9187\n",
      "Epoch 59/100\n",
      "25/25 - 0s - loss: 0.2054 - accuracy: 0.9200\n",
      "Epoch 60/100\n",
      "25/25 - 0s - loss: 0.4031 - accuracy: 0.8450\n",
      "Epoch 61/100\n",
      "25/25 - 0s - loss: 0.4860 - accuracy: 0.7650\n",
      "Epoch 62/100\n",
      "25/25 - 0s - loss: 0.2879 - accuracy: 0.8550\n",
      "Epoch 63/100\n",
      "25/25 - 0s - loss: 0.2234 - accuracy: 0.9038\n",
      "Epoch 64/100\n",
      "25/25 - 0s - loss: 0.5843 - accuracy: 0.7812\n",
      "Epoch 65/100\n",
      "25/25 - 0s - loss: 0.3590 - accuracy: 0.8587\n",
      "Epoch 66/100\n",
      "25/25 - 0s - loss: 0.2970 - accuracy: 0.8675\n",
      "Epoch 67/100\n",
      "25/25 - 0s - loss: 0.2773 - accuracy: 0.8775\n",
      "Epoch 68/100\n",
      "25/25 - 0s - loss: 0.2456 - accuracy: 0.9062\n",
      "Epoch 69/100\n",
      "25/25 - 0s - loss: 0.2374 - accuracy: 0.8975\n",
      "Epoch 70/100\n",
      "25/25 - 0s - loss: 0.2509 - accuracy: 0.8963\n",
      "Epoch 71/100\n",
      "25/25 - 0s - loss: 0.2024 - accuracy: 0.9137\n",
      "Epoch 72/100\n",
      "25/25 - 0s - loss: 0.4358 - accuracy: 0.8625\n",
      "Epoch 73/100\n",
      "25/25 - 0s - loss: 0.4249 - accuracy: 0.8388\n",
      "Epoch 74/100\n",
      "25/25 - 0s - loss: 0.2698 - accuracy: 0.8913\n",
      "Epoch 75/100\n",
      "25/25 - 0s - loss: 0.2911 - accuracy: 0.8750\n",
      "Epoch 76/100\n",
      "25/25 - 0s - loss: 0.8455 - accuracy: 0.5925\n",
      "Epoch 77/100\n",
      "25/25 - 0s - loss: 0.6227 - accuracy: 0.6075\n",
      "Epoch 78/100\n",
      "25/25 - 0s - loss: 0.7041 - accuracy: 0.5650\n",
      "Epoch 79/100\n",
      "25/25 - 0s - loss: 0.7071 - accuracy: 0.5113\n",
      "Epoch 80/100\n",
      "25/25 - 0s - loss: 0.7000 - accuracy: 0.5013\n",
      "Epoch 81/100\n",
      "25/25 - 0s - loss: 0.7102 - accuracy: 0.5088\n",
      "Epoch 82/100\n",
      "25/25 - 0s - loss: 0.7114 - accuracy: 0.5412\n",
      "Epoch 83/100\n",
      "25/25 - 0s - loss: 0.7182 - accuracy: 0.4888\n",
      "Epoch 84/100\n",
      "25/25 - 0s - loss: 0.7001 - accuracy: 0.4938\n",
      "Epoch 85/100\n",
      "25/25 - 0s - loss: 0.7321 - accuracy: 0.5088\n",
      "Epoch 86/100\n",
      "25/25 - 0s - loss: 0.7346 - accuracy: 0.5063\n",
      "Epoch 87/100\n",
      "25/25 - 0s - loss: 0.7573 - accuracy: 0.5063\n",
      "Epoch 88/100\n",
      "25/25 - 0s - loss: 0.7573 - accuracy: 0.4938\n",
      "Epoch 89/100\n",
      "25/25 - 0s - loss: 0.7786 - accuracy: 0.5063\n",
      "Epoch 90/100\n",
      "25/25 - 0s - loss: 0.7657 - accuracy: 0.4787\n",
      "Epoch 91/100\n",
      "25/25 - 0s - loss: 0.7803 - accuracy: 0.5113\n",
      "Epoch 92/100\n",
      "25/25 - 0s - loss: 0.7453 - accuracy: 0.4812\n",
      "Epoch 93/100\n",
      "25/25 - 0s - loss: 0.7338 - accuracy: 0.5163\n",
      "Epoch 94/100\n",
      "25/25 - 0s - loss: 0.7541 - accuracy: 0.4938\n",
      "Epoch 95/100\n",
      "25/25 - 0s - loss: 0.8058 - accuracy: 0.4863\n",
      "Epoch 96/100\n",
      "25/25 - 0s - loss: 0.7684 - accuracy: 0.4812\n",
      "Epoch 97/100\n",
      "25/25 - 0s - loss: 0.7982 - accuracy: 0.5013\n",
      "Epoch 98/100\n",
      "25/25 - 0s - loss: 0.9529 - accuracy: 0.4963\n",
      "Epoch 99/100\n",
      "25/25 - 0s - loss: 0.9171 - accuracy: 0.4913\n",
      "Epoch 100/100\n",
      "25/25 - 0s - loss: 0.8550 - accuracy: 0.4663\n"
     ]
    }
   ],
   "source": [
    "#training the model with an exponetially increasing rate\n",
    "#Define\n",
    "m1e = tf.keras.Sequential([\n",
    "    tf.keras.layers.Dense(4, activation = 'relu'),\n",
    "    tf.keras.layers.Dense(4, activation = 'relu'),\n",
    "    tf.keras.layers.Dense(1, activation= 'sigmoid')\n",
    "])\n",
    "#Compile\n",
    "m1e.compile(\n",
    "    loss = tf.keras.losses.binary_crossentropy,\n",
    "    optimizer= tf.keras.optimizers.Adam(),\n",
    "    metrics = ['accuracy']\n",
    ")\n",
    "\n",
    "#creating the learning rate schedular\n",
    "lr_shd = tf.keras.callbacks.LearningRateScheduler(lambda epoch: 1e-4*10**(epoch/20))\n",
    "\n",
    "#fitting the model with the lr_shd\n",
    "m1e_hist = m1e.fit(x_train,y_train, \n",
    "                   epochs= 100, \n",
    "                   verbose= 2,\n",
    "                   callbacks=[lr_shd])"
   ]
  },
  {
   "cell_type": "code",
   "execution_count": 182,
   "id": "3b674343",
   "metadata": {
    "scrolled": true
   },
   "outputs": [
    {
     "data": {
      "text/plain": [
       "Text(0.5, 1.0, 'Loss vs learning_rate graph')"
      ]
     },
     "execution_count": 182,
     "metadata": {},
     "output_type": "execute_result"
    },
    {
     "data": {
      "image/png": "[encoded data removed]",
      "text/plain": [
       "<Figure size 432x288 with 1 Axes>"
      ]
     },
     "metadata": {
      "needs_background": "light"
     },
     "output_type": "display_data"
    }
   ],
   "source": [
    "# plotting the loss vs learing rate\n",
    "# define the x-axis values to be in the range of the used exponetial learing rate\n",
    "x_lr_rate = 1e-4 * (10 ** (np.arange(100)/20))\n",
    "y_loss = m1e_hist.history['loss']\n",
    "\n",
    "#plt.figure(figsize=(12, 6))\n",
    "plt.semilogx(x_lr_rate, y_loss) #semilogx puts the a-axis on a lograthminc scale(proper spread)\n",
    "plt.xlabel(\"learnilng rate\")\n",
    "plt.ylabel(\"loss\")\n",
    "plt.title(\"Loss vs learning_rate graph\")\n"
   ]
  },
  {
   "cell_type": "markdown",
   "id": "c4968393",
   "metadata": {},
   "source": [
    "> **NOTE:** <font color = 'orange'> To figure out the ideal value of the learning rate (at least the ideal value to begin training our model), the rule of thumb is to take the learning rate value where the loss is still decreasing but not quite flattened out (usually about 10x smaller than the bottom of the curve)</font>"
   ]
  },
  {
   "cell_type": "markdown",
   "id": "b3a7c2e4",
   "metadata": {},
   "source": [
    "> **Observation:** <font color = 'orange'> From the above graph 1e-2 is a good start</font>"
   ]
  },
  {
   "cell_type": "code",
   "execution_count": 183,
   "id": "cfa53675",
   "metadata": {},
   "outputs": [
    {
     "data": {
      "text/plain": [
       "(1, 0.1, 0.01, 0.001, 0.0001)"
      ]
     },
     "execution_count": 183,
     "metadata": {},
     "output_type": "execute_result"
    }
   ],
   "source": [
    "# Example of other typical learning rate values\n",
    "10**0, 10**-1, 10**-2, 10**-3, 1e-4"
   ]
  },
  {
   "cell_type": "markdown",
   "id": "75c74096",
   "metadata": {},
   "source": [
    "## <font color = \"purple\"> model_m1f </font>\n",
    "- training with the observed learing rate"
   ]
  },
  {
   "cell_type": "code",
   "execution_count": 187,
   "id": "fd1409e9",
   "metadata": {},
   "outputs": [
    {
     "name": "stdout",
     "output_type": "stream",
     "text": [
      "Epoch 1/25\n",
      "25/25 - 0s - loss: 0.6837 - accuracy: 0.5600\n",
      "Epoch 2/25\n",
      "25/25 - 0s - loss: 0.6744 - accuracy: 0.5750\n",
      "Epoch 3/25\n",
      "25/25 - 0s - loss: 0.6626 - accuracy: 0.5875\n",
      "Epoch 4/25\n",
      "25/25 - 0s - loss: 0.6332 - accuracy: 0.6388\n",
      "Epoch 5/25\n",
      "25/25 - 0s - loss: 0.5830 - accuracy: 0.7563\n",
      "Epoch 6/25\n",
      "25/25 - 0s - loss: 0.4907 - accuracy: 0.8313\n",
      "Epoch 7/25\n",
      "25/25 - 0s - loss: 0.4251 - accuracy: 0.8450\n",
      "Epoch 8/25\n",
      "25/25 - 0s - loss: 0.3596 - accuracy: 0.8875\n",
      "Epoch 9/25\n",
      "25/25 - 0s - loss: 0.3152 - accuracy: 0.9100\n",
      "Epoch 10/25\n",
      "25/25 - 0s - loss: 0.2512 - accuracy: 0.9500\n",
      "Epoch 11/25\n",
      "25/25 - 0s - loss: 0.2152 - accuracy: 0.9500\n",
      "Epoch 12/25\n",
      "25/25 - 0s - loss: 0.1721 - accuracy: 0.9750\n",
      "Epoch 13/25\n",
      "25/25 - 0s - loss: 0.1443 - accuracy: 0.9837\n",
      "Epoch 14/25\n",
      "25/25 - 0s - loss: 0.1232 - accuracy: 0.9862\n",
      "Epoch 15/25\n",
      "25/25 - 0s - loss: 0.1085 - accuracy: 0.9850\n",
      "Epoch 16/25\n",
      "25/25 - 0s - loss: 0.0940 - accuracy: 0.9937\n",
      "Epoch 17/25\n",
      "25/25 - 0s - loss: 0.0827 - accuracy: 0.9962\n",
      "Epoch 18/25\n",
      "25/25 - 0s - loss: 0.0798 - accuracy: 0.9937\n",
      "Epoch 19/25\n",
      "25/25 - 0s - loss: 0.0845 - accuracy: 0.9875\n",
      "Epoch 20/25\n",
      "25/25 - 0s - loss: 0.0790 - accuracy: 0.9887\n",
      "Epoch 21/25\n",
      "25/25 - 0s - loss: 0.0569 - accuracy: 0.9962\n",
      "Epoch 22/25\n",
      "25/25 - 0s - loss: 0.0644 - accuracy: 0.9875\n",
      "Epoch 23/25\n",
      "25/25 - 0s - loss: 0.0606 - accuracy: 0.9887\n",
      "Epoch 24/25\n",
      "25/25 - 0s - loss: 0.0616 - accuracy: 0.9850\n",
      "Epoch 25/25\n",
      "25/25 - 0s - loss: 0.0590 - accuracy: 0.9900\n"
     ]
    }
   ],
   "source": [
    "tf.random.set_seed(42)\n",
    "#training the model with an exponetially increasing rate\n",
    "#Define\n",
    "m1f = tf.keras.Sequential([\n",
    "    tf.keras.layers.Dense(4, activation = 'relu'),\n",
    "    tf.keras.layers.Dense(4, activation = 'relu'),\n",
    "    tf.keras.layers.Dense(1, activation= 'sigmoid')\n",
    "])\n",
    "#Compile\n",
    "m1f.compile(\n",
    "    loss = tf.keras.losses.binary_crossentropy,\n",
    "    optimizer= tf.keras.optimizers.Adam(lr = 0.02),\n",
    "    metrics = ['accuracy']\n",
    ")\n",
    "\n",
    "#fitting the model with the lr_shd\n",
    "m1f_hist = m1f.fit(x_train,y_train, \n",
    "                   epochs= 25, \n",
    "                   verbose= 2)"
   ]
  },
  {
   "cell_type": "code",
   "execution_count": 188,
   "id": "fbc33d24",
   "metadata": {},
   "outputs": [
    {
     "name": "stdout",
     "output_type": "stream",
     "text": [
      "7/7 [==============================] - 0s 2ms/step - loss: 0.0463 - accuracy: 0.9900\n"
     ]
    },
    {
     "data": {
      "text/plain": [
       "[0.046286068856716156, 0.9900000095367432]"
      ]
     },
     "execution_count": 188,
     "metadata": {},
     "output_type": "execute_result"
    }
   ],
   "source": [
    "#testing the model on the test dataset \n",
    "m1f.evaluate(x_test,y_test)"
   ]
  },
  {
   "cell_type": "code",
   "execution_count": 189,
   "id": "ace93f09",
   "metadata": {},
   "outputs": [
    {
     "name": "stdout",
     "output_type": "stream",
     "text": [
      "doing binary classifcation...\n",
      "doing binary classifcation...\n"
     ]
    },
    {
     "data": {
      "image/png": "[encoded data removed]",
      "text/plain": [
       "<Figure size 864x432 with 2 Axes>"
      ]
     },
     "metadata": {
      "needs_background": "light"
     },
     "output_type": "display_data"
    }
   ],
   "source": [
    "# Plot the decision boundaries for the training and test sets\n",
    "plt.figure(figsize=(12, 6))\n",
    "plt.subplot(1, 2, 1)\n",
    "plt.title(\"Train\")\n",
    "plot_decision_boundary(m1f, X=x_train, y=y_train)\n",
    "plt.subplot(1, 2, 2)\n",
    "plt.title(\"Test\")\n",
    "plot_decision_boundary(m1f, X=x_test, y=y_test)\n",
    "plt.show()"
   ]
  },
  {
   "cell_type": "markdown",
   "id": "a735cd1a",
   "metadata": {},
   "source": [
    "> **Observation:** <font color = 'orange'> With the deduced learning rate, the model is able to reach high accuracies with as low as 20 epochs</font>"
   ]
  },
  {
   "cell_type": "code",
   "execution_count": null,
   "id": "ec8b9363",
   "metadata": {},
   "outputs": [],
   "source": [
    "- use of softmax in output\n",
    "- plott the \n",
    "- flattenig the inport layers\n",
    "- model without one hot encoded classes\n",
    "- one with\n",
    "- introducing normalisation"
   ]
  },
  {
   "cell_type": "markdown",
   "id": "d828a21a",
   "metadata": {},
   "source": [
    "> **Observation:** <font color = 'orange'> When comparing differnt models, change one thing and keep the rest constant so as to be able to deduce the cause in the change of resuslts</font>"
   ]
  },
  {
   "cell_type": "markdown",
   "id": "d7ed3c23",
   "metadata": {},
   "source": [
    "## <a  name = \"a5\"><font color = \"green\"> Evaluation </font></a>\n",
    "- `tf.evaluate(test_features, test_lables)`  which uses the set metrics(already used)\n",
    "- `confusion_matrix(y_test, y_predicted)` `from sklearn.metrics import confusion_matrix`\n"
   ]
  },
  {
   "cell_type": "code",
   "execution_count": 254,
   "id": "a5a8f348",
   "metadata": {},
   "outputs": [],
   "source": [
    "from sklearn.metrics import f1_score, precision_score, recall_score\n",
    "y_pred = tf.round(m1f.predict(x_test)) # use tf.round to convert the probabilities to zeros and ones"
   ]
  },
  {
   "cell_type": "markdown",
   "id": "ae400bd3",
   "metadata": {},
   "source": [
    "> **NOTE:** <font color = 'orange'> `model.predict(x_text)` outputs probabilities; first converting them to the format of the given output is reqiured</font>"
   ]
  },
  {
   "cell_type": "markdown",
   "id": "14642e9c",
   "metadata": {},
   "source": [
    "### <font color = \"purple\"> precision and recall </font>"
   ]
  },
  {
   "cell_type": "code",
   "execution_count": 255,
   "id": "c2394895",
   "metadata": {},
   "outputs": [
    {
     "data": {
      "text/plain": [
       "0.98989898989899"
      ]
     },
     "execution_count": 255,
     "metadata": {},
     "output_type": "execute_result"
    }
   ],
   "source": [
    "precision_score(y_true = y_test, y_pred = y_pred )"
   ]
  },
  {
   "cell_type": "code",
   "execution_count": 256,
   "id": "dea2d759",
   "metadata": {},
   "outputs": [
    {
     "data": {
      "text/plain": [
       "0.98989898989899"
      ]
     },
     "execution_count": 256,
     "metadata": {},
     "output_type": "execute_result"
    }
   ],
   "source": [
    "recall_score(y_true = y_test, y_pred = y_pred )"
   ]
  },
  {
   "cell_type": "markdown",
   "id": "d88b792d",
   "metadata": {},
   "source": [
    "### <font color = \"purple\"> f1_score </font>"
   ]
  },
  {
   "cell_type": "code",
   "execution_count": 257,
   "id": "e15dc72f",
   "metadata": {},
   "outputs": [
    {
     "data": {
      "text/plain": [
       "0.98989898989899"
      ]
     },
     "execution_count": 257,
     "metadata": {},
     "output_type": "execute_result"
    }
   ],
   "source": [
    "f1_score(y_true = y_test,y_pred = y_pred )"
   ]
  },
  {
   "cell_type": "markdown",
   "id": "1ea334a6",
   "metadata": {},
   "source": [
    "### <font color = \"purple\"> confution matrix function </font>"
   ]
  },
  {
   "cell_type": "code",
   "execution_count": 258,
   "id": "30315df9",
   "metadata": {},
   "outputs": [
    {
     "data": {
      "text/plain": [
       "array([[100,   1],\n",
       "       [  1,  98]], dtype=int64)"
      ]
     },
     "execution_count": 258,
     "metadata": {},
     "output_type": "execute_result"
    }
   ],
   "source": [
    "from sklearn.metrics import confusion_matrix\n",
    "confusion_matrix(y_true = y_test, #true labels\n",
    "                 y_pred = y_pred ) #predicted values"
   ]
  },
  {
   "cell_type": "markdown",
   "id": "7d77ee62",
   "metadata": {},
   "source": [
    "### <a  name = \"a6\"><font color = \"purple\"> Plot_ confution matrix function </font></a>"
   ]
  },
  {
   "cell_type": "code",
   "execution_count": 259,
   "id": "75e72f9d",
   "metadata": {},
   "outputs": [],
   "source": [
    "# Note: The following confusion matrix code is a remix of Scikit-Learn's \n",
    "# plot_confusion_matrix function - https://scikit-learn.org/stable/modules/generated/sklearn.metrics.plot_confusion_matrix.html\n",
    "# and Made with ML's introductory notebook - https://github.com/GokuMohandas/MadeWithML/blob/main/notebooks/08_Neural_Networks.ipynb\n",
    "\n",
    "# Our function needs a different name to sklearn's plot_confusion_matrix\n",
    "def plot_confusion_matrix(y_true, y_pred, classes=None, figsize=(10, 10), text_size=15): \n",
    "  \"\"\"Makes a labelled confusion matrix comparing predictions and ground truth labels.\n",
    "\n",
    "  If classes is passed, confusion matrix will be labelled, if not, integer class values\n",
    "  will be used.\n",
    "\n",
    "  Args:\n",
    "    y_true: Array of truth labels (must be same shape as y_pred).\n",
    "    y_pred: Array of predicted labels (must be same shape as y_true).\n",
    "    classes: Array of class labels (e.g. string form). If `None`, integer labels are used.\n",
    "    figsize: Size of output figure (default=(10, 10)).\n",
    "    text_size: Size of output figure text (default=15).\n",
    "  \n",
    "  Returns:\n",
    "    A labelled confusion matrix plot comparing y_true and y_pred.\n",
    "\n",
    "  Example usage:\n",
    "    make_confusion_matrix(y_true=test_labels, # ground truth test labels\n",
    "                          y_pred=y_preds, # predicted labels\n",
    "                          classes=class_names, # array of class label names\n",
    "                          figsize=(15, 15),\n",
    "                          text_size=10)\n",
    "  \"\"\"  \n",
    "  import itertools\n",
    "  from sklearn.metrics import confusion_matrix\n",
    "\n",
    "  # Create the confustion matrix\n",
    "  cm = confusion_matrix(y_true, y_pred)\n",
    "  cm_norm = cm.astype(\"float\") / cm.sum(axis=1)[:, np.newaxis] # normalize it\n",
    "  n_classes = cm.shape[0] # find the number of classes we're dealing with\n",
    "\n",
    "  # Plot the figure and make it pretty\n",
    "  fig, ax = plt.subplots(figsize=figsize)\n",
    "  cax = ax.matshow(cm, cmap=plt.cm.Blues) # colors will represent how 'correct' a class is, darker == better\n",
    "  fig.colorbar(cax)\n",
    "\n",
    "  # Are there a list of classes?\n",
    "  if classes:\n",
    "    labels = classes\n",
    "  else:\n",
    "    labels = np.arange(cm.shape[0])\n",
    "  \n",
    "  # Label the axes\n",
    "  ax.set(title=\"Confusion Matrix\",\n",
    "         xlabel=\"Predicted label\",\n",
    "         ylabel=\"True label\",\n",
    "         xticks=np.arange(n_classes), # create enough axis slots for each class\n",
    "         yticks=np.arange(n_classes), \n",
    "         xticklabels=labels, # axes will labeled with class names (if they exist) or ints\n",
    "         yticklabels=labels)\n",
    "  \n",
    "  # Make x-axis labels appear on bottom\n",
    "  ax.xaxis.set_label_position(\"bottom\")\n",
    "  ax.xaxis.tick_bottom()\n",
    "\n",
    "  # Set the threshold for different colors\n",
    "  threshold = (cm.max() + cm.min()) / 2.\n",
    "\n",
    "  # Plot the text on each cell\n",
    "  for i, j in itertools.product(range(cm.shape[0]), range(cm.shape[1])):\n",
    "    plt.text(j, i, f\"{cm[i, j]} ({cm_norm[i, j]*100:.1f}%)\",\n",
    "             horizontalalignment=\"center\",\n",
    "             color=\"white\" if cm[i, j] > threshold else \"black\",\n",
    "             size=text_size)"
   ]
  },
  {
   "cell_type": "code",
   "execution_count": 260,
   "id": "c21fecad",
   "metadata": {},
   "outputs": [
    {
     "data": {
      "image/png": "[encoded data removed]",
      "text/plain": [
       "<Figure size 720x720 with 2 Axes>"
      ]
     },
     "metadata": {
      "needs_background": "light"
     },
     "output_type": "display_data"
    }
   ],
   "source": [
    "plot_confusion_matrix(y_test, y_pred, classes=None, figsize=(10, 10), text_size=15)"
   ]
  },
  {
   "cell_type": "code",
   "execution_count": null,
   "id": "0a8f2e87",
   "metadata": {},
   "outputs": [],
   "source": []
  },
  {
   "cell_type": "code",
   "execution_count": null,
   "id": "f8e55d75",
   "metadata": {},
   "outputs": [],
   "source": []
  },
  {
   "cell_type": "code",
   "execution_count": null,
   "id": "022a80dc",
   "metadata": {},
   "outputs": [],
   "source": []
  },
  {
   "cell_type": "markdown",
   "id": "84102f5b",
   "metadata": {},
   "source": [
    "<a href = #top  style = \"text-decoration:none\" > go to top</a></br>\n",
    "<a name = \"bottom\"></a>"
   ]
  }
 ],
 "metadata": {
  "kernelspec": {
   "display_name": "Python 3 (ipykernel)",
   "language": "python",
   "name": "python3"
  },
  "language_info": {
   "codemirror_mode": {
    "name": "ipython",
    "version": 3
   },
   "file_extension": ".py",
   "mimetype": "text/x-python",
   "name": "python",
   "nbconvert_exporter": "python",
   "pygments_lexer": "ipython3",
   "version": "3.8.11"
  }
 },
 "nbformat": 4,
 "nbformat_minor": 5
}
