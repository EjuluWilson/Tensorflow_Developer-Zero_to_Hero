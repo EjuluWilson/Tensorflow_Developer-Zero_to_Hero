{
 "cells": [
  {
   "cell_type": "markdown",
   "id": "cff3ec2e",
   "metadata": {},
   "source": [
    "# <a  name = \"\"><font color = \"brown\"> Title 1</font></a>"
   ]
  },
  {
   "cell_type": "markdown",
   "id": "dd9a31bf",
   "metadata": {},
   "source": [
    "## <a  name = \"\"><font color = \"green\"> Title 3 </font></a>"
   ]
  },
  {
   "cell_type": "markdown",
   "id": "b17a4a0a",
   "metadata": {},
   "source": [
    "### <font color = \"purple\"> Title 2 </font>"
   ]
  },
  {
   "cell_type": "markdown",
   "id": "fe78c1e9",
   "metadata": {},
   "source": [
    "#### <font color = \"orange\"> Title 4 </font>"
   ]
  },
  {
   "cell_type": "markdown",
   "id": "8d4814d1",
   "metadata": {},
   "source": [
    "##### <font color = \"darkcyan\"> Titltle 5 </font>"
   ]
  },
  {
   "cell_type": "markdown",
   "id": "3ecb1624",
   "metadata": {},
   "source": [
    "> **NOTE:** <font color = 'orange'> This is how we do it!</font>"
   ]
  },
  {
   "cell_type": "markdown",
   "id": "e39635e9",
   "metadata": {},
   "source": [
    "<a href = #bottom  style = \"text-decoration:none\"> go to bottom</a></br>\n",
    "<a name = \"top\"></a>"
   ]
  },
  {
   "cell_type": "markdown",
   "id": "171d7f1a",
   "metadata": {},
   "source": [
    "# <font color = \"brown\"> Content </font>"
   ]
  },
  {
   "cell_type": "markdown",
   "id": "97674920",
   "metadata": {},
   "source": [
    "<a href = #a0  style = \"text-decoration:none\"> Modelling steps</a></br>"
   ]
  },
  {
   "cell_type": "markdown",
   "id": "45f497e3",
   "metadata": {},
   "source": [
    "<a href = #m1  style = \"text-decoration:none\">  Modelling</a>"
   ]
  },
  {
   "cell_type": "markdown",
   "id": "a955a7e5",
   "metadata": {},
   "source": [
    "<a href = #a1  style = \"text-decoration:none\">  Generate classification dataset from sklearn</a>"
   ]
  },
  {
   "cell_type": "markdown",
   "id": "64437296",
   "metadata": {},
   "source": [
    "<a href = #a2  style = \"text-decoration:none\">  data visialisation function</a>"
   ]
  },
  {
   "cell_type": "markdown",
   "id": "b0b78f3a",
   "metadata": {},
   "source": [
    "<a href = #a3  style = \"text-decoration:none\"> visualising loss curves</a>"
   ]
  },
  {
   "cell_type": "markdown",
   "id": "6e7ab475",
   "metadata": {},
   "source": [
    "<a href = #a4  style = \"text-decoration:none\"> Findiing the best learning rate</a>"
   ]
  },
  {
   "cell_type": "markdown",
   "id": "b5c4affc",
   "metadata": {},
   "source": [
    "<a href = #a5  style = \"text-decoration:none\"> Evaluation</a>"
   ]
  },
  {
   "cell_type": "markdown",
   "id": "99c88d8b",
   "metadata": {},
   "source": [
    "<a href = #a6  style = \"text-decoration:none\"> plot confusion matrix fuction</a>"
   ]
  },
  {
   "cell_type": "markdown",
   "id": "7a6d3ea3",
   "metadata": {},
   "source": [
    "<a href = #a7  style = \"text-decoration:none\"> Multiclass classification </a>"
   ]
  },
  {
   "cell_type": "markdown",
   "id": "811bff64",
   "metadata": {},
   "source": [
    "<a href = #a8  style = \"text-decoration:none\"> visialise fushion data function </a>"
   ]
  },
  {
   "cell_type": "markdown",
   "id": "f28aa6e1",
   "metadata": {},
   "source": [
    "<a href = #a9  style = \"text-decoration:none\"> obtaining model properties </a>"
   ]
  },
  {
   "cell_type": "markdown",
   "id": "2f9432a6",
   "metadata": {},
   "source": [
    "<a href = #a10  style = \"text-decoration:none\"> Function to randomly visualise the predictions </a>"
   ]
  },
  {
   "cell_type": "markdown",
   "id": "c1aca4b0",
   "metadata": {},
   "source": [
    "# <a  name = \"a0\"><font color = \"brown\"> Modelling steps </font></a>"
   ]
  },
  {
   "cell_type": "markdown",
   "id": "f3413f16",
   "metadata": {},
   "source": [
    "### <font color = \"green\"> 1. Create or import a model </font>"
   ]
  },
  {
   "cell_type": "markdown",
   "id": "f928a1d3",
   "metadata": {},
   "source": [
    "### <font color = \"green\"> 2. Compile the model  </font>"
   ]
  },
  {
   "cell_type": "markdown",
   "id": "1f922d0b",
   "metadata": {},
   "source": [
    "### <font color = \"green\"> 3. Compile the model  </font>"
   ]
  },
  {
   "cell_type": "markdown",
   "id": "3a524316",
   "metadata": {},
   "source": [
    "### <font color = \"green\"> 4. Tweak the model  </font>"
   ]
  },
  {
   "cell_type": "markdown",
   "id": "9b25e59e",
   "metadata": {},
   "source": [
    "### <font color = \"green\"> 5. Evaluate the model  </font>"
   ]
  },
  {
   "cell_type": "markdown",
   "id": "c62bc99b",
   "metadata": {},
   "source": [
    "### <font color = \"green\"> 6. Alternate between step 5 and 6 to get the best results  </font>"
   ]
  },
  {
   "cell_type": "markdown",
   "id": "b5dbe1ac",
   "metadata": {},
   "source": [
    "# <a  name = \"a1\"><font color = \"brown\"> Generate classification dataset from sklearn</font></a>"
   ]
  },
  {
   "cell_type": "code",
   "execution_count": 4,
   "id": "33f04198",
   "metadata": {},
   "outputs": [],
   "source": [
    "from sklearn.datasets import make_circles\n",
    "n_samples = 1000 #number of samples \n",
    "#creating the circles \n",
    "x, y = make_circles(\n",
    "    n_samples=n_samples,\n",
    "    shuffle=True,\n",
    "    noise=0.03,\n",
    "    random_state=42\n",
    ")"
   ]
  },
  {
   "cell_type": "code",
   "execution_count": 5,
   "id": "77d01fb9",
   "metadata": {},
   "outputs": [
    {
     "data": {
      "text/plain": [
       "array([[ 0.75424625,  0.23148074],\n",
       "       [-0.75615888,  0.15325888],\n",
       "       [-0.81539193,  0.17328203],\n",
       "       ...,\n",
       "       [-0.13690036, -0.81001183],\n",
       "       [ 0.67036156, -0.76750154],\n",
       "       [ 0.28105665,  0.96382443]])"
      ]
     },
     "execution_count": 5,
     "metadata": {},
     "output_type": "execute_result"
    }
   ],
   "source": [
    "x"
   ]
  },
  {
   "cell_type": "code",
   "execution_count": 6,
   "id": "ab8914cd",
   "metadata": {},
   "outputs": [
    {
     "data": {
      "text/plain": [
       "array([1, 1, 1, 1, 0, 1, 1, 1, 1, 0, 1, 0, 1, 1, 1, 1, 0, 1, 1, 0, 1, 0,\n",
       "       0, 1, 0, 0, 0, 1, 1, 1, 0, 0, 1, 0, 0, 0, 1, 1, 1, 0, 0, 0, 0, 1,\n",
       "       0, 0, 1, 1, 0, 1], dtype=int64)"
      ]
     },
     "execution_count": 6,
     "metadata": {},
     "output_type": "execute_result"
    }
   ],
   "source": [
    "y[:50]"
   ]
  },
  {
   "cell_type": "markdown",
   "id": "152387a2",
   "metadata": {},
   "source": [
    "### <font color = \"green\"> Visualize the dataset </font>"
   ]
  },
  {
   "cell_type": "code",
   "execution_count": 7,
   "id": "6b279446",
   "metadata": {},
   "outputs": [],
   "source": [
    "import pandas as pd"
   ]
  },
  {
   "cell_type": "code",
   "execution_count": 8,
   "id": "605a5a9b",
   "metadata": {},
   "outputs": [
    {
     "data": {
      "text/html": [
       "<div>\n",
       "<style scoped>\n",
       "    .dataframe tbody tr th:only-of-type {\n",
       "        vertical-align: middle;\n",
       "    }\n",
       "\n",
       "    .dataframe tbody tr th {\n",
       "        vertical-align: top;\n",
       "    }\n",
       "\n",
       "    .dataframe thead th {\n",
       "        text-align: right;\n",
       "    }\n",
       "</style>\n",
       "<table border=\"1\" class=\"dataframe\">\n",
       "  <thead>\n",
       "    <tr style=\"text-align: right;\">\n",
       "      <th></th>\n",
       "      <th>x0</th>\n",
       "      <th>x1</th>\n",
       "      <th>y</th>\n",
       "    </tr>\n",
       "  </thead>\n",
       "  <tbody>\n",
       "    <tr>\n",
       "      <th>0</th>\n",
       "      <td>0.754246</td>\n",
       "      <td>0.231481</td>\n",
       "      <td>1</td>\n",
       "    </tr>\n",
       "    <tr>\n",
       "      <th>1</th>\n",
       "      <td>-0.756159</td>\n",
       "      <td>0.153259</td>\n",
       "      <td>1</td>\n",
       "    </tr>\n",
       "    <tr>\n",
       "      <th>2</th>\n",
       "      <td>-0.815392</td>\n",
       "      <td>0.173282</td>\n",
       "      <td>1</td>\n",
       "    </tr>\n",
       "    <tr>\n",
       "      <th>3</th>\n",
       "      <td>-0.393731</td>\n",
       "      <td>0.692883</td>\n",
       "      <td>1</td>\n",
       "    </tr>\n",
       "    <tr>\n",
       "      <th>4</th>\n",
       "      <td>0.442208</td>\n",
       "      <td>-0.896723</td>\n",
       "      <td>0</td>\n",
       "    </tr>\n",
       "    <tr>\n",
       "      <th>...</th>\n",
       "      <td>...</td>\n",
       "      <td>...</td>\n",
       "      <td>...</td>\n",
       "    </tr>\n",
       "    <tr>\n",
       "      <th>995</th>\n",
       "      <td>0.244054</td>\n",
       "      <td>0.944125</td>\n",
       "      <td>0</td>\n",
       "    </tr>\n",
       "    <tr>\n",
       "      <th>996</th>\n",
       "      <td>-0.978655</td>\n",
       "      <td>-0.272373</td>\n",
       "      <td>0</td>\n",
       "    </tr>\n",
       "    <tr>\n",
       "      <th>997</th>\n",
       "      <td>-0.136900</td>\n",
       "      <td>-0.810012</td>\n",
       "      <td>1</td>\n",
       "    </tr>\n",
       "    <tr>\n",
       "      <th>998</th>\n",
       "      <td>0.670362</td>\n",
       "      <td>-0.767502</td>\n",
       "      <td>0</td>\n",
       "    </tr>\n",
       "    <tr>\n",
       "      <th>999</th>\n",
       "      <td>0.281057</td>\n",
       "      <td>0.963824</td>\n",
       "      <td>0</td>\n",
       "    </tr>\n",
       "  </tbody>\n",
       "</table>\n",
       "<p>1000 rows × 3 columns</p>\n",
       "</div>"
      ],
      "text/plain": [
       "           x0        x1  y\n",
       "0    0.754246  0.231481  1\n",
       "1   -0.756159  0.153259  1\n",
       "2   -0.815392  0.173282  1\n",
       "3   -0.393731  0.692883  1\n",
       "4    0.442208 -0.896723  0\n",
       "..        ...       ... ..\n",
       "995  0.244054  0.944125  0\n",
       "996 -0.978655 -0.272373  0\n",
       "997 -0.136900 -0.810012  1\n",
       "998  0.670362 -0.767502  0\n",
       "999  0.281057  0.963824  0\n",
       "\n",
       "[1000 rows x 3 columns]"
      ]
     },
     "execution_count": 8,
     "metadata": {},
     "output_type": "execute_result"
    }
   ],
   "source": [
    "circles_df = pd.DataFrame(data = {'x0': x[:,0], 'x1': x[:,1], 'y':y})\n",
    "circles_df"
   ]
  },
  {
   "cell_type": "code",
   "execution_count": 9,
   "id": "b90f95f3",
   "metadata": {},
   "outputs": [
    {
     "data": {
      "text/plain": [
       "<matplotlib.collections.PathCollection at 0x2d70eb1dc10>"
      ]
     },
     "execution_count": 9,
     "metadata": {},
     "output_type": "execute_result"
    },
    {
     "data": {
      "image/png": "[encoded data removed]",
      "text/plain": [
       "<Figure size 432x288 with 1 Axes>"
      ]
     },
     "metadata": {
      "needs_background": "light"
     },
     "output_type": "display_data"
    }
   ],
   "source": [
    "import matplotlib.pyplot as plt\n",
    "plt.scatter(x[:,0], x[:,1], c =y , cmap = plt.cm.RdYlBu)"
   ]
  },
  {
   "cell_type": "markdown",
   "id": "aade7c57",
   "metadata": {},
   "source": [
    "# <a  name = \"m1\"><font color = \"brown\"> Modelling</font></a>"
   ]
  },
  {
   "cell_type": "code",
   "execution_count": 10,
   "id": "d0baca1f",
   "metadata": {},
   "outputs": [
    {
     "data": {
      "text/plain": [
       "'2.3.0'"
      ]
     },
     "execution_count": 10,
     "metadata": {},
     "output_type": "execute_result"
    }
   ],
   "source": [
    "import tensorflow as tf\n",
    "tf.__version__"
   ]
  },
  {
   "cell_type": "markdown",
   "id": "832b7a23",
   "metadata": {},
   "source": [
    "## <font color = \"purple\"> model_1a </font>"
   ]
  },
  {
   "cell_type": "code",
   "execution_count": 11,
   "id": "99bec4f7",
   "metadata": {},
   "outputs": [
    {
     "name": "stdout",
     "output_type": "stream",
     "text": [
      "Epoch 1/5\n",
      "32/32 [==============================] - 0s 858us/step - loss: 2.8544 - accuracy: 0.4600\n",
      "Epoch 2/5\n",
      "32/32 [==============================] - 0s 906us/step - loss: 0.7131 - accuracy: 0.5430\n",
      "Epoch 3/5\n",
      "32/32 [==============================] - 0s 1ms/step - loss: 0.6973 - accuracy: 0.5090\n",
      "Epoch 4/5\n",
      "32/32 [==============================] - 0s 968us/step - loss: 0.6950 - accuracy: 0.5010\n",
      "Epoch 5/5\n",
      "32/32 [==============================] - 0s 906us/step - loss: 0.6942 - accuracy: 0.4820\n"
     ]
    },
    {
     "data": {
      "text/plain": [
       "<tensorflow.python.keras.callbacks.History at 0x2d70f401e20>"
      ]
     },
     "execution_count": 11,
     "metadata": {},
     "output_type": "execute_result"
    }
   ],
   "source": [
    "tf.random.set_seed(42)\n",
    "# create a one layer model with the sequencial API\n",
    "model_1 = tf.keras.Sequential([\n",
    "        tf.keras.layers.Dense(1)\n",
    "    ]) \n",
    "# compile the model \n",
    "model_1.compile(loss = tf.keras.losses.BinaryCrossentropy(),\n",
    "               optimizer = tf.keras.optimizers.SGD(),\n",
    "               metrics = [\"accuracy\"])\n",
    "# fitting the model\n",
    "model_1.fit(x,y, epochs = 5)"
   ]
  },
  {
   "cell_type": "markdown",
   "id": "6348b008",
   "metadata": {},
   "source": [
    "### <font color = \"green\"> try more epochs</font>"
   ]
  },
  {
   "cell_type": "code",
   "execution_count": 12,
   "id": "044f8b87",
   "metadata": {},
   "outputs": [
    {
     "name": "stdout",
     "output_type": "stream",
     "text": [
      "32/32 [==============================] - 0s 791us/step - loss: 0.6935 - accuracy: 0.5000\n"
     ]
    },
    {
     "data": {
      "text/plain": [
       "[0.6934829950332642, 0.5]"
      ]
     },
     "execution_count": 12,
     "metadata": {},
     "output_type": "execute_result"
    }
   ],
   "source": [
    "model_1.fit(x,y, epochs = 200, verbose = 0) #verbose determines how the training will be shown(0,1 0r 2)\n",
    "model_1.evaluate(x,y) # train set accuracy "
   ]
  },
  {
   "cell_type": "markdown",
   "id": "d8f47942",
   "metadata": {},
   "source": [
    "## <font color = \"purple\"> model_1b </font>"
   ]
  },
  {
   "cell_type": "markdown",
   "id": "ae82f9eb",
   "metadata": {},
   "source": [
    "### <font color = \"green\"> try more layers</font>"
   ]
  },
  {
   "cell_type": "code",
   "execution_count": 13,
   "id": "46eefc81",
   "metadata": {},
   "outputs": [
    {
     "data": {
      "text/plain": [
       "<tensorflow.python.keras.callbacks.History at 0x2d710a06850>"
      ]
     },
     "execution_count": 13,
     "metadata": {},
     "output_type": "execute_result"
    }
   ],
   "source": [
    "#Creat/define\n",
    "model_2 = tf.keras.Sequential([\n",
    "    tf.keras.layers.Dense(1),\n",
    "    tf.keras.layers.Dense(1)\n",
    "])\n",
    "#compile\n",
    "\n",
    "model_2.compile(\n",
    "    loss = tf.keras.losses.BinaryCrossentropy(),\n",
    "    optimizer = tf.keras.optimizers.SGD(),\n",
    "    metrics = [\"accuracy\"])\n",
    "#fit\n",
    "model_2.fit(x,y, epochs = 200, verbose = 0)"
   ]
  },
  {
   "cell_type": "code",
   "execution_count": 14,
   "id": "59da8d7c",
   "metadata": {},
   "outputs": [
    {
     "name": "stdout",
     "output_type": "stream",
     "text": [
      "32/32 [==============================] - 0s 778us/step - loss: 0.6938 - accuracy: 0.5000\n"
     ]
    },
    {
     "data": {
      "text/plain": [
       "[0.6937825083732605, 0.5]"
      ]
     },
     "execution_count": 14,
     "metadata": {},
     "output_type": "execute_result"
    }
   ],
   "source": [
    "model_2.evaluate(x,y) # train set accuracy "
   ]
  },
  {
   "cell_type": "markdown",
   "id": "0aa090a6",
   "metadata": {},
   "source": [
    "> **Observe:** The model seems to be doing a 50% guess work"
   ]
  },
  {
   "cell_type": "markdown",
   "id": "d305fce1",
   "metadata": {},
   "source": [
    "### <a  name = \"a2\"> <font color = \"green\"> Visualistion function</font> </a>"
   ]
  },
  {
   "cell_type": "code",
   "execution_count": 15,
   "id": "9c4749fb",
   "metadata": {},
   "outputs": [],
   "source": [
    "import numpy as np"
   ]
  },
  {
   "cell_type": "code",
   "execution_count": 16,
   "id": "7e235a7a",
   "metadata": {},
   "outputs": [],
   "source": [
    "def plot_decision_boundary(model, X, y):\n",
    "  \"\"\"\n",
    "  Plots the decision boundary created by a model predicting on X.\n",
    "  This function has been adapted from two phenomenal resources:\n",
    "   1. CS231n - https://cs231n.github.io/neural-networks-case-study/\n",
    "   2. Made with ML basics - https://github.com/GokuMohandas/MadeWithML/blob/main/notebooks/08_Neural_Networks.ipynb\n",
    "  \"\"\"\n",
    "  # Define the axis boundaries of the plot and create a meshgrid\n",
    "  x_min, x_max = X[:, 0].min() - 0.1, X[:, 0].max() + 0.1\n",
    "  y_min, y_max = X[:, 1].min() - 0.1, X[:, 1].max() + 0.1\n",
    "  xx, yy = np.meshgrid(np.linspace(x_min, x_max, 100),\n",
    "                       np.linspace(y_min, y_max, 100))\n",
    "  \n",
    "  # Create X values (we're going to predict on all of these)\n",
    "  x_in = np.c_[xx.ravel(), yy.ravel()] # stack 2D arrays together: https://numpy.org/devdocs/reference/generated/numpy.c_.html\n",
    "  \n",
    "  # Make predictions using the trained model\n",
    "  y_pred = model.predict(x_in)\n",
    "\n",
    "  # Check for multi-class\n",
    "  if len(y_pred[0]) > 1:\n",
    "    print(\"doing multiclass classification...\")\n",
    "    # We have to reshape our predictions to get them ready for plotting\n",
    "    y_pred = np.argmax(y_pred, axis=1).reshape(xx.shape)\n",
    "  else:\n",
    "    print(\"doing binary classifcation...\")\n",
    "    y_pred = np.round(y_pred).reshape(xx.shape)\n",
    "  \n",
    "  # Plot decision boundary\n",
    "  plt.contourf(xx, yy, y_pred, cmap=plt.cm.RdYlBu, alpha=0.7)\n",
    "  plt.scatter(X[:, 0], X[:, 1], c=y, s=40, cmap=plt.cm.RdYlBu)\n",
    "  plt.xlim(xx.min(), xx.max())\n",
    "  plt.ylim(yy.min(), yy.max())"
   ]
  },
  {
   "cell_type": "code",
   "execution_count": 17,
   "id": "91147ed7",
   "metadata": {},
   "outputs": [
    {
     "data": {
      "text/plain": [
       "array([[1, 2, 3, 4],\n",
       "       [1, 2, 3, 4],\n",
       "       [1, 2, 3, 4],\n",
       "       [1, 2, 3, 4]])"
      ]
     },
     "execution_count": 17,
     "metadata": {},
     "output_type": "execute_result"
    }
   ],
   "source": [
    "a,b = np.meshgrid([1,2,3,4], [5,6,7,8])\n",
    "a"
   ]
  },
  {
   "cell_type": "code",
   "execution_count": 18,
   "id": "e1577659",
   "metadata": {},
   "outputs": [
    {
     "data": {
      "text/plain": [
       "array([[5, 5, 5, 5],\n",
       "       [6, 6, 6, 6],\n",
       "       [7, 7, 7, 7],\n",
       "       [8, 8, 8, 8]])"
      ]
     },
     "execution_count": 18,
     "metadata": {},
     "output_type": "execute_result"
    }
   ],
   "source": [
    "b"
   ]
  },
  {
   "cell_type": "code",
   "execution_count": 19,
   "id": "2ef6e33e",
   "metadata": {},
   "outputs": [
    {
     "data": {
      "text/plain": [
       "array([1, 2, 3, 4, 1, 2, 3, 4, 1, 2, 3, 4, 1, 2, 3, 4])"
      ]
     },
     "execution_count": 19,
     "metadata": {},
     "output_type": "execute_result"
    }
   ],
   "source": [
    "a.ravel()"
   ]
  },
  {
   "cell_type": "code",
   "execution_count": 20,
   "id": "ce763b61",
   "metadata": {},
   "outputs": [
    {
     "data": {
      "text/plain": [
       "array([5, 5, 5, 5, 6, 6, 6, 6, 7, 7, 7, 7, 8, 8, 8, 8])"
      ]
     },
     "execution_count": 20,
     "metadata": {},
     "output_type": "execute_result"
    }
   ],
   "source": [
    "b.ravel()"
   ]
  },
  {
   "cell_type": "code",
   "execution_count": 21,
   "id": "be1059a3",
   "metadata": {},
   "outputs": [
    {
     "data": {
      "text/plain": [
       "array([[1, 5],\n",
       "       [2, 5],\n",
       "       [3, 5],\n",
       "       [4, 5],\n",
       "       [1, 6],\n",
       "       [2, 6],\n",
       "       [3, 6],\n",
       "       [4, 6],\n",
       "       [1, 7],\n",
       "       [2, 7],\n",
       "       [3, 7],\n",
       "       [4, 7],\n",
       "       [1, 8],\n",
       "       [2, 8],\n",
       "       [3, 8],\n",
       "       [4, 8]])"
      ]
     },
     "execution_count": 21,
     "metadata": {},
     "output_type": "execute_result"
    }
   ],
   "source": [
    "cc = np.c_[a.ravel(),b.ravel()]\n",
    "cc"
   ]
  },
  {
   "cell_type": "markdown",
   "id": "83ac39ea",
   "metadata": {},
   "source": [
    "## <font color = \"purple\"> model_1c(worked best) </font>"
   ]
  },
  {
   "cell_type": "code",
   "execution_count": 22,
   "id": "39aafa72",
   "metadata": {},
   "outputs": [],
   "source": [
    "tf.random.set_seed(42)\n",
    "#define\n",
    "model_3 = tf.keras.Sequential([\n",
    "    tf.keras.layers.Dense(4, activation = tf.keras.activations.relu),\n",
    "    tf.keras.layers.Dense(4, activation = tf.keras.activations.relu),\n",
    "    tf.keras.layers.Dense(1, activation = tf.keras.activations.sigmoid)\n",
    "])\n",
    "\n",
    "#compile\n",
    "model_3.compile(\n",
    "    loss = tf.keras.losses.BinaryCrossentropy(),\n",
    "    optimizer = tf.keras.optimizers.Adam(lr =0.001),\n",
    "    metrics = [\"accuracy\"])\n",
    "\n",
    "history = model_3.fit(x,y,epochs=100, verbose =0)"
   ]
  },
  {
   "cell_type": "code",
   "execution_count": 23,
   "id": "b3317e6b",
   "metadata": {},
   "outputs": [
    {
     "name": "stdout",
     "output_type": "stream",
     "text": [
      "32/32 [==============================] - 0s 732us/step - loss: 0.2948 - accuracy: 0.9910\n"
     ]
    },
    {
     "data": {
      "text/plain": [
       "[0.29480040073394775, 0.9909999966621399]"
      ]
     },
     "execution_count": 23,
     "metadata": {},
     "output_type": "execute_result"
    }
   ],
   "source": [
    "model_3.evaluate(x,y) # train set accuracy "
   ]
  },
  {
   "cell_type": "code",
   "execution_count": 24,
   "id": "533d96df",
   "metadata": {},
   "outputs": [
    {
     "name": "stdout",
     "output_type": "stream",
     "text": [
      "doing binary classifcation...\n"
     ]
    },
    {
     "data": {
      "image/png": "[encoded data removed]",
      "text/plain": [
       "<Figure size 432x288 with 1 Axes>"
      ]
     },
     "metadata": {
      "needs_background": "light"
     },
     "output_type": "display_data"
    }
   ],
   "source": [
    "plot_decision_boundary(model_3,x,y)"
   ]
  },
  {
   "cell_type": "markdown",
   "id": "1ea46718",
   "metadata": {},
   "source": [
    "> **NOTE: <font color = 'orange'>Introduction of none linearity though none linear actinvations drastically improve the model accuracy </font>**"
   ]
  },
  {
   "cell_type": "markdown",
   "id": "135d31a7",
   "metadata": {},
   "source": [
    "## <font color = \"purple\"> model_1d(proper approach) </font>\n",
    "- splitting the data into test and train set"
   ]
  },
  {
   "cell_type": "code",
   "execution_count": 25,
   "id": "91e65534",
   "metadata": {},
   "outputs": [
    {
     "data": {
      "text/plain": [
       "(1000,)"
      ]
     },
     "execution_count": 25,
     "metadata": {},
     "output_type": "execute_result"
    }
   ],
   "source": [
    "y.shape"
   ]
  },
  {
   "cell_type": "code",
   "execution_count": 26,
   "id": "963f9993",
   "metadata": {},
   "outputs": [],
   "source": [
    "x_train, y_train = x[:800], y[:800] #80%\n",
    "x_test, y_test = x[800:], y[800:]#20%"
   ]
  },
  {
   "cell_type": "code",
   "execution_count": 27,
   "id": "2ec8b409",
   "metadata": {},
   "outputs": [
    {
     "name": "stdout",
     "output_type": "stream",
     "text": [
      "Epoch 1/100\n",
      "25/25 [==============================] - 0s 1ms/step - loss: 0.6847 - accuracy: 0.5425\n",
      "Epoch 2/100\n",
      "25/25 [==============================] - 0s 1ms/step - loss: 0.6777 - accuracy: 0.5525\n",
      "Epoch 3/100\n",
      "25/25 [==============================] - 0s 1ms/step - loss: 0.6736 - accuracy: 0.5512\n",
      "Epoch 4/100\n",
      "25/25 [==============================] - 0s 1ms/step - loss: 0.6681 - accuracy: 0.5775\n",
      "Epoch 5/100\n",
      "25/25 [==============================] - 0s 1ms/step - loss: 0.6633 - accuracy: 0.5850\n",
      "Epoch 6/100\n",
      "25/25 [==============================] - 0s 1ms/step - loss: 0.6546 - accuracy: 0.5838\n",
      "Epoch 7/100\n",
      "25/25 [==============================] - 0s 1ms/step - loss: 0.6413 - accuracy: 0.6750\n",
      "Epoch 8/100\n",
      "25/25 [==============================] - 0s 1ms/step - loss: 0.6264 - accuracy: 0.7013\n",
      "Epoch 9/100\n",
      "25/25 [==============================] - 0s 1ms/step - loss: 0.6038 - accuracy: 0.7487\n",
      "Epoch 10/100\n",
      "25/25 [==============================] - 0s 999us/step - loss: 0.5714 - accuracy: 0.7738\n",
      "Epoch 11/100\n",
      "25/25 [==============================] - 0s 999us/step - loss: 0.5404 - accuracy: 0.7650\n",
      "Epoch 12/100\n",
      "25/25 [==============================] - 0s 1ms/step - loss: 0.5015 - accuracy: 0.7837\n",
      "Epoch 13/100\n",
      "25/25 [==============================] - 0s 959us/step - loss: 0.4683 - accuracy: 0.7975\n",
      "Epoch 14/100\n",
      "25/25 [==============================] - 0s 1ms/step - loss: 0.4113 - accuracy: 0.8450\n",
      "Epoch 15/100\n",
      "25/25 [==============================] - 0s 1ms/step - loss: 0.3625 - accuracy: 0.9125\n",
      "Epoch 16/100\n",
      "25/25 [==============================] - 0s 999us/step - loss: 0.3209 - accuracy: 0.9312\n",
      "Epoch 17/100\n",
      "25/25 [==============================] - 0s 999us/step - loss: 0.2847 - accuracy: 0.9488\n",
      "Epoch 18/100\n",
      "25/25 [==============================] - 0s 1ms/step - loss: 0.2597 - accuracy: 0.9525\n",
      "Epoch 19/100\n",
      "25/25 [==============================] - 0s 1ms/step - loss: 0.2375 - accuracy: 0.9563\n",
      "Epoch 20/100\n",
      "25/25 [==============================] - 0s 959us/step - loss: 0.2135 - accuracy: 0.9663\n",
      "Epoch 21/100\n",
      "25/25 [==============================] - 0s 1ms/step - loss: 0.1938 - accuracy: 0.9775\n",
      "Epoch 22/100\n",
      "25/25 [==============================] - 0s 1ms/step - loss: 0.1752 - accuracy: 0.9737\n",
      "Epoch 23/100\n",
      "25/25 [==============================] - 0s 959us/step - loss: 0.1619 - accuracy: 0.9787\n",
      "Epoch 24/100\n",
      "25/25 [==============================] - 0s 1ms/step - loss: 0.1550 - accuracy: 0.9775\n",
      "Epoch 25/100\n",
      "25/25 [==============================] - 0s 1ms/step - loss: 0.1490 - accuracy: 0.9762\n",
      "Epoch 26/100\n",
      "25/25 [==============================] - 0s 1ms/step - loss: 0.1339 - accuracy: 0.9775\n",
      "Epoch 27/100\n",
      "25/25 [==============================] - 0s 959us/step - loss: 0.1214 - accuracy: 0.9887\n",
      "Epoch 28/100\n",
      "25/25 [==============================] - 0s 2ms/step - loss: 0.1206 - accuracy: 0.9800\n",
      "Epoch 29/100\n",
      "25/25 [==============================] - 0s 1ms/step - loss: 0.1101 - accuracy: 0.9837\n",
      "Epoch 30/100\n",
      "25/25 [==============================] - 0s 919us/step - loss: 0.1093 - accuracy: 0.9825\n",
      "Epoch 31/100\n",
      "25/25 [==============================] - 0s 919us/step - loss: 0.1088 - accuracy: 0.9850\n",
      "Epoch 32/100\n",
      "25/25 [==============================] - 0s 999us/step - loss: 0.0993 - accuracy: 0.9850\n",
      "Epoch 33/100\n",
      "25/25 [==============================] - 0s 1ms/step - loss: 0.0957 - accuracy: 0.9837\n",
      "Epoch 34/100\n",
      "25/25 [==============================] - 0s 1ms/step - loss: 0.0863 - accuracy: 0.9850\n",
      "Epoch 35/100\n",
      "25/25 [==============================] - 0s 1ms/step - loss: 0.0821 - accuracy: 0.9925\n",
      "Epoch 36/100\n",
      "25/25 [==============================] - 0s 959us/step - loss: 0.0824 - accuracy: 0.9850\n",
      "Epoch 37/100\n",
      "25/25 [==============================] - 0s 919us/step - loss: 0.0791 - accuracy: 0.9862\n",
      "Epoch 38/100\n",
      "25/25 [==============================] - 0s 1ms/step - loss: 0.0747 - accuracy: 0.9887\n",
      "Epoch 39/100\n",
      "25/25 [==============================] - 0s 959us/step - loss: 0.0789 - accuracy: 0.9800\n",
      "Epoch 40/100\n",
      "25/25 [==============================] - 0s 1ms/step - loss: 0.0749 - accuracy: 0.9875\n",
      "Epoch 41/100\n",
      "25/25 [==============================] - 0s 1ms/step - loss: 0.0745 - accuracy: 0.9875\n",
      "Epoch 42/100\n",
      "25/25 [==============================] - 0s 1000us/step - loss: 0.0717 - accuracy: 0.9887\n",
      "Epoch 43/100\n",
      "25/25 [==============================] - 0s 1ms/step - loss: 0.0650 - accuracy: 0.9900\n",
      "Epoch 44/100\n",
      "25/25 [==============================] - 0s 999us/step - loss: 0.0805 - accuracy: 0.9825\n",
      "Epoch 45/100\n",
      "25/25 [==============================] - 0s 1ms/step - loss: 0.0632 - accuracy: 0.9887\n",
      "Epoch 46/100\n",
      "25/25 [==============================] - 0s 1ms/step - loss: 0.0636 - accuracy: 0.9850\n",
      "Epoch 47/100\n",
      "25/25 [==============================] - ETA: 0s - loss: 0.0757 - accuracy: 1.00 - 0s 880us/step - loss: 0.0589 - accuracy: 0.9900\n",
      "Epoch 48/100\n",
      "25/25 [==============================] - 0s 999us/step - loss: 0.0652 - accuracy: 0.9812\n",
      "Epoch 49/100\n",
      "25/25 [==============================] - 0s 1ms/step - loss: 0.0593 - accuracy: 0.9900\n",
      "Epoch 50/100\n",
      "25/25 [==============================] - 0s 1ms/step - loss: 0.0566 - accuracy: 0.9875\n",
      "Epoch 51/100\n",
      "25/25 [==============================] - 0s 1ms/step - loss: 0.0567 - accuracy: 0.9912\n",
      "Epoch 52/100\n",
      "25/25 [==============================] - 0s 1ms/step - loss: 0.0586 - accuracy: 0.9887\n",
      "Epoch 53/100\n",
      "25/25 [==============================] - 0s 1ms/step - loss: 0.0544 - accuracy: 0.9875\n",
      "Epoch 54/100\n",
      "25/25 [==============================] - 0s 1ms/step - loss: 0.0539 - accuracy: 0.9862\n",
      "Epoch 55/100\n",
      "25/25 [==============================] - 0s 879us/step - loss: 0.0593 - accuracy: 0.9875\n",
      "Epoch 56/100\n",
      "25/25 [==============================] - 0s 1ms/step - loss: 0.0564 - accuracy: 0.9850\n",
      "Epoch 57/100\n",
      "25/25 [==============================] - 0s 1ms/step - loss: 0.0513 - accuracy: 0.9862\n",
      "Epoch 58/100\n",
      "25/25 [==============================] - 0s 1ms/step - loss: 0.0488 - accuracy: 0.9875\n",
      "Epoch 59/100\n",
      "25/25 [==============================] - 0s 2ms/step - loss: 0.0567 - accuracy: 0.9875\n",
      "Epoch 60/100\n",
      "25/25 [==============================] - 0s 1ms/step - loss: 0.0577 - accuracy: 0.9862\n",
      "Epoch 61/100\n",
      "25/25 [==============================] - 0s 1ms/step - loss: 0.0568 - accuracy: 0.9850\n",
      "Epoch 62/100\n",
      "25/25 [==============================] - 0s 1ms/step - loss: 0.0495 - accuracy: 0.9912\n",
      "Epoch 63/100\n",
      "25/25 [==============================] - 0s 1ms/step - loss: 0.0491 - accuracy: 0.9887\n",
      "Epoch 64/100\n",
      "25/25 [==============================] - 0s 1ms/step - loss: 0.0534 - accuracy: 0.9900\n",
      "Epoch 65/100\n",
      "25/25 [==============================] - 0s 879us/step - loss: 0.0535 - accuracy: 0.9850\n",
      "Epoch 66/100\n",
      "25/25 [==============================] - 0s 760us/step - loss: 0.0500 - accuracy: 0.9850\n",
      "Epoch 67/100\n",
      "25/25 [==============================] - 0s 760us/step - loss: 0.0489 - accuracy: 0.9837\n",
      "Epoch 68/100\n",
      "25/25 [==============================] - 0s 800us/step - loss: 0.0477 - accuracy: 0.9887\n",
      "Epoch 69/100\n",
      "25/25 [==============================] - 0s 1ms/step - loss: 0.0482 - accuracy: 0.9837\n",
      "Epoch 70/100\n",
      "25/25 [==============================] - 0s 879us/step - loss: 0.0616 - accuracy: 0.9800\n",
      "Epoch 71/100\n",
      "25/25 [==============================] - 0s 1ms/step - loss: 0.0483 - accuracy: 0.9837\n",
      "Epoch 72/100\n",
      "25/25 [==============================] - 0s 1ms/step - loss: 0.0449 - accuracy: 0.9825\n",
      "Epoch 73/100\n",
      "25/25 [==============================] - 0s 1ms/step - loss: 0.0418 - accuracy: 0.9912\n",
      "Epoch 74/100\n",
      "25/25 [==============================] - 0s 1ms/step - loss: 0.0695 - accuracy: 0.9688\n",
      "Epoch 75/100\n",
      "25/25 [==============================] - 0s 839us/step - loss: 0.0611 - accuracy: 0.9837\n",
      "Epoch 76/100\n",
      "25/25 [==============================] - 0s 840us/step - loss: 0.0408 - accuracy: 0.9925\n",
      "Epoch 77/100\n",
      "25/25 [==============================] - 0s 759us/step - loss: 0.0413 - accuracy: 0.9875\n",
      "Epoch 78/100\n",
      "25/25 [==============================] - 0s 760us/step - loss: 0.0395 - accuracy: 0.9950\n",
      "Epoch 79/100\n",
      "25/25 [==============================] - 0s 1ms/step - loss: 0.0412 - accuracy: 0.9887\n",
      "Epoch 80/100\n",
      "25/25 [==============================] - 0s 919us/step - loss: 0.0403 - accuracy: 0.9887\n",
      "Epoch 81/100\n",
      "25/25 [==============================] - 0s 1ms/step - loss: 0.0388 - accuracy: 0.9937\n",
      "Epoch 82/100\n"
     ]
    },
    {
     "name": "stdout",
     "output_type": "stream",
     "text": [
      "25/25 [==============================] - 0s 999us/step - loss: 0.0371 - accuracy: 0.9937\n",
      "Epoch 83/100\n",
      "25/25 [==============================] - 0s 1ms/step - loss: 0.0450 - accuracy: 0.9850\n",
      "Epoch 84/100\n",
      "25/25 [==============================] - 0s 959us/step - loss: 0.0461 - accuracy: 0.9850\n",
      "Epoch 85/100\n",
      "25/25 [==============================] - 0s 839us/step - loss: 0.0442 - accuracy: 0.9862\n",
      "Epoch 86/100\n",
      "25/25 [==============================] - 0s 839us/step - loss: 0.0356 - accuracy: 0.9950\n",
      "Epoch 87/100\n",
      "25/25 [==============================] - 0s 1ms/step - loss: 0.0390 - accuracy: 0.9887\n",
      "Epoch 88/100\n",
      "25/25 [==============================] - 0s 1ms/step - loss: 0.0392 - accuracy: 0.9875\n",
      "Epoch 89/100\n",
      "25/25 [==============================] - 0s 1ms/step - loss: 0.0431 - accuracy: 0.9900\n",
      "Epoch 90/100\n",
      "25/25 [==============================] - ETA: 0s - loss: 0.0780 - accuracy: 0.96 - 0s 1ms/step - loss: 0.0395 - accuracy: 0.9875\n",
      "Epoch 91/100\n",
      "25/25 [==============================] - 0s 1ms/step - loss: 0.0404 - accuracy: 0.9862\n",
      "Epoch 92/100\n",
      "25/25 [==============================] - 0s 2ms/step - loss: 0.0365 - accuracy: 0.9912\n",
      "Epoch 93/100\n",
      "25/25 [==============================] - 0s 1ms/step - loss: 0.0361 - accuracy: 0.9912\n",
      "Epoch 94/100\n",
      "25/25 [==============================] - 0s 1ms/step - loss: 0.0341 - accuracy: 0.9937\n",
      "Epoch 95/100\n",
      "25/25 [==============================] - 0s 2ms/step - loss: 0.0350 - accuracy: 0.9937\n",
      "Epoch 96/100\n",
      "25/25 [==============================] - 0s 1ms/step - loss: 0.0384 - accuracy: 0.9887\n",
      "Epoch 97/100\n",
      "25/25 [==============================] - 0s 1ms/step - loss: 0.0375 - accuracy: 0.9900\n",
      "Epoch 98/100\n",
      "25/25 [==============================] - 0s 1ms/step - loss: 0.0361 - accuracy: 0.9925\n",
      "Epoch 99/100\n",
      "25/25 [==============================] - ETA: 0s - loss: 0.0120 - accuracy: 1.00 - 0s 1ms/step - loss: 0.0351 - accuracy: 0.9925\n",
      "Epoch 100/100\n",
      "25/25 [==============================] - 0s 1ms/step - loss: 0.0357 - accuracy: 0.9862\n"
     ]
    }
   ],
   "source": [
    "tf.random.set_seed(42)\n",
    "#define\n",
    "model_1d = tf.keras.Sequential([\n",
    "    tf.keras.layers.Dense(4, activation = \"relu\"),\n",
    "    tf.keras.layers.Dense(4, activation = \"relu\"),\n",
    "    tf.keras.layers.Dense(1, activation = 'sigmoid')\n",
    "])\n",
    "#compile\n",
    "model_1d.compile(\n",
    "    loss = tf.keras.losses.binary_crossentropy,\n",
    "    optimizer = tf.keras.optimizers.Adam(lr = 0.01),\n",
    "    metrics = ['accuracy']\n",
    ")\n",
    "\n",
    "#fit\n",
    "m1d_history = model_1d.fit(x_train, y_train, epochs=100, verbose=1)#keep history to plot training loss"
   ]
  },
  {
   "cell_type": "code",
   "execution_count": 28,
   "id": "947c173d",
   "metadata": {},
   "outputs": [
    {
     "name": "stdout",
     "output_type": "stream",
     "text": [
      "7/7 [==============================] - 0s 2ms/step - loss: 0.0278 - accuracy: 0.9950\n"
     ]
    },
    {
     "data": {
      "text/plain": [
       "<tensorflow.python.keras.callbacks.History at 0x2d71247aee0>"
      ]
     },
     "execution_count": 28,
     "metadata": {},
     "output_type": "execute_result"
    }
   ],
   "source": [
    "#predict on test set\n",
    "model_1d.fit(x_test,y_test)"
   ]
  },
  {
   "cell_type": "markdown",
   "id": "bab31613",
   "metadata": {},
   "source": [
    "> **NOTE:** <font color = 'orange'>The learning rate was increased such that the model can learn faster with less epochs. This decision was made based on the history of the earlier models which showed learing but significant improvent after several epochs</font>"
   ]
  },
  {
   "cell_type": "markdown",
   "id": "d667ceb9",
   "metadata": {},
   "source": [
    "## <a  name = \"a3\"><font color = \"green\"> Visualising loss/training curves</font></a>\n",
    "- use model history"
   ]
  },
  {
   "cell_type": "code",
   "execution_count": 29,
   "id": "913a7389",
   "metadata": {},
   "outputs": [
    {
     "data": {
      "text/plain": [
       "Text(0.5, 1.0, 'model_1d training curves')"
      ]
     },
     "execution_count": 29,
     "metadata": {},
     "output_type": "execute_result"
    },
    {
     "data": {
      "image/png": "[encoded data removed]",
      "text/plain": [
       "<Figure size 432x288 with 1 Axes>"
      ]
     },
     "metadata": {
      "needs_background": "light"
     },
     "output_type": "display_data"
    }
   ],
   "source": [
    "#dataframe the history\n",
    "hdf = pd.DataFrame(m1d_history.history).plot()\n",
    "plt.title(\"model_1d training curves\")"
   ]
  },
  {
   "cell_type": "markdown",
   "id": "c75702c7",
   "metadata": {},
   "source": [
    "> **Observation:** <font color = 'orange'> The loss is going down and the accuracy up. Great!!</font>"
   ]
  },
  {
   "cell_type": "markdown",
   "id": "ec7a5ec6",
   "metadata": {},
   "source": [
    "## <a  name = \"a4\"><font color = \"green\"> Finding the best learing rate </font></a>\n",
    "- <font color = \"purple\"> Train the model with an exponetially increasing rate(use the callback argument if .fit) </font>\n",
    "- <font color = \"purple\"> Use the history to plot a graph of the loss vs learning rate </font>\n",
    "- <font color = \"purple\"> pick the learning rate where the loss decreses the most but not yet flattened </font>\n"
   ]
  },
  {
   "cell_type": "markdown",
   "id": "338f509a",
   "metadata": {},
   "source": [
    "## <font color = \"purple\"> model_m1e(trained to determine an appropriate learning rate) </font>"
   ]
  },
  {
   "cell_type": "code",
   "execution_count": 30,
   "id": "1eca2020",
   "metadata": {},
   "outputs": [
    {
     "name": "stdout",
     "output_type": "stream",
     "text": [
      "Epoch 1/100\n",
      "25/25 - 0s - loss: 0.6954 - accuracy: 0.4837\n",
      "Epoch 2/100\n",
      "25/25 - 0s - loss: 0.6952 - accuracy: 0.4837\n",
      "Epoch 3/100\n",
      "25/25 - 0s - loss: 0.6950 - accuracy: 0.4850\n",
      "Epoch 4/100\n",
      "25/25 - 0s - loss: 0.6948 - accuracy: 0.5337\n",
      "Epoch 5/100\n",
      "25/25 - 0s - loss: 0.6945 - accuracy: 0.5075\n",
      "Epoch 6/100\n",
      "25/25 - 0s - loss: 0.6943 - accuracy: 0.5312\n",
      "Epoch 7/100\n",
      "25/25 - 0s - loss: 0.6940 - accuracy: 0.5412\n",
      "Epoch 8/100\n",
      "25/25 - 0s - loss: 0.6937 - accuracy: 0.5013\n",
      "Epoch 9/100\n",
      "25/25 - 0s - loss: 0.6934 - accuracy: 0.4975\n",
      "Epoch 10/100\n",
      "25/25 - 0s - loss: 0.6930 - accuracy: 0.4975\n",
      "Epoch 11/100\n",
      "25/25 - 0s - loss: 0.6927 - accuracy: 0.5113\n",
      "Epoch 12/100\n",
      "25/25 - 0s - loss: 0.6924 - accuracy: 0.4975\n",
      "Epoch 13/100\n",
      "25/25 - 0s - loss: 0.6919 - accuracy: 0.5125\n",
      "Epoch 14/100\n",
      "25/25 - 0s - loss: 0.6916 - accuracy: 0.5275\n",
      "Epoch 15/100\n",
      "25/25 - 0s - loss: 0.6912 - accuracy: 0.5475\n",
      "Epoch 16/100\n",
      "25/25 - 0s - loss: 0.6907 - accuracy: 0.5600\n",
      "Epoch 17/100\n",
      "25/25 - 0s - loss: 0.6903 - accuracy: 0.5638\n",
      "Epoch 18/100\n",
      "25/25 - 0s - loss: 0.6897 - accuracy: 0.5663\n",
      "Epoch 19/100\n",
      "25/25 - 0s - loss: 0.6893 - accuracy: 0.5088\n",
      "Epoch 20/100\n",
      "25/25 - 0s - loss: 0.6887 - accuracy: 0.5163\n",
      "Epoch 21/100\n",
      "25/25 - 0s - loss: 0.6881 - accuracy: 0.5025\n",
      "Epoch 22/100\n",
      "25/25 - 0s - loss: 0.6873 - accuracy: 0.5225\n",
      "Epoch 23/100\n",
      "25/25 - 0s - loss: 0.6867 - accuracy: 0.5125\n",
      "Epoch 24/100\n",
      "25/25 - 0s - loss: 0.6858 - accuracy: 0.5562\n",
      "Epoch 25/100\n",
      "25/25 - 0s - loss: 0.6849 - accuracy: 0.5450\n",
      "Epoch 26/100\n",
      "25/25 - 0s - loss: 0.6839 - accuracy: 0.5163\n",
      "Epoch 27/100\n",
      "25/25 - 0s - loss: 0.6824 - accuracy: 0.5000\n",
      "Epoch 28/100\n",
      "25/25 - 0s - loss: 0.6794 - accuracy: 0.5425\n",
      "Epoch 29/100\n",
      "25/25 - 0s - loss: 0.6776 - accuracy: 0.5838\n",
      "Epoch 30/100\n",
      "25/25 - 0s - loss: 0.6740 - accuracy: 0.5913\n",
      "Epoch 31/100\n",
      "25/25 - 0s - loss: 0.6703 - accuracy: 0.6488\n",
      "Epoch 32/100\n",
      "25/25 - 0s - loss: 0.6633 - accuracy: 0.6550\n",
      "Epoch 33/100\n",
      "25/25 - 0s - loss: 0.6532 - accuracy: 0.6675\n",
      "Epoch 34/100\n",
      "25/25 - 0s - loss: 0.6396 - accuracy: 0.7175\n",
      "Epoch 35/100\n",
      "25/25 - 0s - loss: 0.6176 - accuracy: 0.8050\n",
      "Epoch 36/100\n",
      "25/25 - 0s - loss: 0.5928 - accuracy: 0.7525\n",
      "Epoch 37/100\n",
      "25/25 - 0s - loss: 0.5379 - accuracy: 0.8750\n",
      "Epoch 38/100\n",
      "25/25 - 0s - loss: 0.4777 - accuracy: 0.8813\n",
      "Epoch 39/100\n",
      "25/25 - 0s - loss: 0.4179 - accuracy: 0.9100\n",
      "Epoch 40/100\n",
      "25/25 - 0s - loss: 0.3453 - accuracy: 0.9400\n",
      "Epoch 41/100\n",
      "25/25 - 0s - loss: 0.2746 - accuracy: 0.9550\n",
      "Epoch 42/100\n",
      "25/25 - 0s - loss: 0.2048 - accuracy: 0.9825\n",
      "Epoch 43/100\n",
      "25/25 - 0s - loss: 0.1527 - accuracy: 0.9925\n",
      "Epoch 44/100\n",
      "25/25 - 0s - loss: 0.1232 - accuracy: 0.9887\n",
      "Epoch 45/100\n",
      "25/25 - 0s - loss: 0.1013 - accuracy: 0.9912\n",
      "Epoch 46/100\n",
      "25/25 - 0s - loss: 0.0738 - accuracy: 0.9925\n",
      "Epoch 47/100\n",
      "25/25 - 0s - loss: 0.0645 - accuracy: 0.9950\n",
      "Epoch 48/100\n",
      "25/25 - 0s - loss: 0.0572 - accuracy: 0.9937\n",
      "Epoch 49/100\n",
      "25/25 - 0s - loss: 0.0483 - accuracy: 0.9937\n",
      "Epoch 50/100\n",
      "25/25 - 0s - loss: 0.0504 - accuracy: 0.9937\n",
      "Epoch 51/100\n",
      "25/25 - 0s - loss: 0.0964 - accuracy: 0.9688\n",
      "Epoch 52/100\n",
      "25/25 - 0s - loss: 0.1030 - accuracy: 0.9538\n",
      "Epoch 53/100\n",
      "25/25 - 0s - loss: 0.0543 - accuracy: 0.9837\n",
      "Epoch 54/100\n",
      "25/25 - 0s - loss: 0.0328 - accuracy: 0.9900\n",
      "Epoch 55/100\n",
      "25/25 - 0s - loss: 0.0514 - accuracy: 0.9825\n",
      "Epoch 56/100\n",
      "25/25 - 0s - loss: 0.0490 - accuracy: 0.9837\n",
      "Epoch 57/100\n",
      "25/25 - 0s - loss: 0.0585 - accuracy: 0.9762\n",
      "Epoch 58/100\n",
      "25/25 - 0s - loss: 0.2001 - accuracy: 0.9350\n",
      "Epoch 59/100\n",
      "25/25 - 0s - loss: 0.4291 - accuracy: 0.8562\n",
      "Epoch 60/100\n",
      "25/25 - 0s - loss: 0.2133 - accuracy: 0.9175\n",
      "Epoch 61/100\n",
      "25/25 - 0s - loss: 0.0922 - accuracy: 0.9675\n",
      "Epoch 62/100\n",
      "25/25 - 0s - loss: 0.0506 - accuracy: 0.9875\n",
      "Epoch 63/100\n",
      "25/25 - 0s - loss: 0.0259 - accuracy: 0.9962\n",
      "Epoch 64/100\n",
      "25/25 - 0s - loss: 0.1242 - accuracy: 0.9575\n",
      "Epoch 65/100\n",
      "25/25 - 0s - loss: 0.3668 - accuracy: 0.8875\n",
      "Epoch 66/100\n",
      "25/25 - 0s - loss: 0.3019 - accuracy: 0.8725\n",
      "Epoch 67/100\n",
      "25/25 - 0s - loss: 0.2546 - accuracy: 0.8875\n",
      "Epoch 68/100\n",
      "25/25 - 0s - loss: 0.0848 - accuracy: 0.9762\n",
      "Epoch 69/100\n",
      "25/25 - 0s - loss: 0.0494 - accuracy: 0.9825\n",
      "Epoch 70/100\n",
      "25/25 - 0s - loss: 0.1910 - accuracy: 0.9337\n",
      "Epoch 71/100\n",
      "25/25 - 0s - loss: 0.1760 - accuracy: 0.9225\n",
      "Epoch 72/100\n",
      "25/25 - 0s - loss: 0.1191 - accuracy: 0.9575\n",
      "Epoch 73/100\n",
      "25/25 - 0s - loss: 0.0755 - accuracy: 0.9688\n",
      "Epoch 74/100\n",
      "25/25 - 0s - loss: 0.2846 - accuracy: 0.9075\n",
      "Epoch 75/100\n",
      "25/25 - 0s - loss: 0.8571 - accuracy: 0.5913\n",
      "Epoch 76/100\n",
      "25/25 - 0s - loss: 0.6914 - accuracy: 0.5913\n",
      "Epoch 77/100\n",
      "25/25 - 0s - loss: 0.6228 - accuracy: 0.6325\n",
      "Epoch 78/100\n",
      "25/25 - 0s - loss: 0.6382 - accuracy: 0.5838\n",
      "Epoch 79/100\n",
      "25/25 - 0s - loss: 0.6560 - accuracy: 0.5738\n",
      "Epoch 80/100\n",
      "25/25 - 0s - loss: 0.7294 - accuracy: 0.5312\n",
      "Epoch 81/100\n",
      "25/25 - 0s - loss: 0.7113 - accuracy: 0.5150\n",
      "Epoch 82/100\n",
      "25/25 - 0s - loss: 0.7154 - accuracy: 0.5412\n",
      "Epoch 83/100\n",
      "25/25 - 0s - loss: 0.7248 - accuracy: 0.4863\n",
      "Epoch 84/100\n",
      "25/25 - 0s - loss: 0.7039 - accuracy: 0.5038\n",
      "Epoch 85/100\n",
      "25/25 - 0s - loss: 0.7318 - accuracy: 0.4963\n",
      "Epoch 86/100\n",
      "25/25 - 0s - loss: 0.7551 - accuracy: 0.5038\n",
      "Epoch 87/100\n",
      "25/25 - 0s - loss: 0.7650 - accuracy: 0.5013\n",
      "Epoch 88/100\n",
      "25/25 - 0s - loss: 0.7593 - accuracy: 0.4963\n",
      "Epoch 89/100\n",
      "25/25 - 0s - loss: 0.7719 - accuracy: 0.5238\n",
      "Epoch 90/100\n",
      "25/25 - 0s - loss: 0.7826 - accuracy: 0.4913\n",
      "Epoch 91/100\n",
      "25/25 - 0s - loss: 0.7928 - accuracy: 0.5163\n",
      "Epoch 92/100\n",
      "25/25 - 0s - loss: 0.7419 - accuracy: 0.5113\n",
      "Epoch 93/100\n",
      "25/25 - 0s - loss: 0.7374 - accuracy: 0.5088\n",
      "Epoch 94/100\n",
      "25/25 - 0s - loss: 0.7562 - accuracy: 0.4938\n",
      "Epoch 95/100\n",
      "25/25 - 0s - loss: 0.8132 - accuracy: 0.4863\n",
      "Epoch 96/100\n",
      "25/25 - 0s - loss: 0.7757 - accuracy: 0.4638\n",
      "Epoch 97/100\n",
      "25/25 - 0s - loss: 0.8027 - accuracy: 0.5013\n",
      "Epoch 98/100\n",
      "25/25 - 0s - loss: 0.9590 - accuracy: 0.4963\n",
      "Epoch 99/100\n",
      "25/25 - 0s - loss: 0.9402 - accuracy: 0.4913\n",
      "Epoch 100/100\n",
      "25/25 - 0s - loss: 0.8574 - accuracy: 0.4663\n"
     ]
    }
   ],
   "source": [
    "#training the model with an exponetially increasing rate\n",
    "#Define\n",
    "m1e = tf.keras.Sequential([\n",
    "    tf.keras.layers.Dense(4, activation = 'relu'),\n",
    "    tf.keras.layers.Dense(4, activation = 'relu'),\n",
    "    tf.keras.layers.Dense(1, activation= 'sigmoid')\n",
    "])\n",
    "#Compile\n",
    "m1e.compile(\n",
    "    loss = tf.keras.losses.binary_crossentropy,\n",
    "    optimizer= tf.keras.optimizers.Adam(),\n",
    "    metrics = ['accuracy']\n",
    ")\n",
    "\n",
    "#creating the learning rate schedular\n",
    "lr_shd = tf.keras.callbacks.LearningRateScheduler(lambda epoch: 1e-4*10**(epoch/20))\n",
    "\n",
    "#fitting the model with the lr_shd\n",
    "m1e_hist = m1e.fit(x_train,y_train, \n",
    "                   epochs= 100, \n",
    "                   verbose= 2,\n",
    "                   callbacks=[lr_shd])"
   ]
  },
  {
   "cell_type": "code",
   "execution_count": 31,
   "id": "6056c274",
   "metadata": {
    "scrolled": true
   },
   "outputs": [
    {
     "data": {
      "text/plain": [
       "Text(0.5, 1.0, 'Loss vs learning_rate graph')"
      ]
     },
     "execution_count": 31,
     "metadata": {},
     "output_type": "execute_result"
    },
    {
     "data": {
      "image/png": "[encoded data removed]",
      "text/plain": [
       "<Figure size 432x288 with 1 Axes>"
      ]
     },
     "metadata": {
      "needs_background": "light"
     },
     "output_type": "display_data"
    }
   ],
   "source": [
    "# plotting the loss vs learing rate\n",
    "# define the x-axis values to be in the range of the used exponetial learing rate\n",
    "x_lr_rate = 1e-4 * (10 ** (np.arange(100)/20))\n",
    "y_loss = m1e_hist.history['loss']\n",
    "\n",
    "#plt.figure(figsize=(12, 6))\n",
    "plt.semilogx(x_lr_rate, y_loss) #semilogx puts the a-axis on a lograthminc scale(proper spread)\n",
    "plt.xlabel(\"learnilng rate\")\n",
    "plt.ylabel(\"loss\")\n",
    "plt.title(\"Loss vs learning_rate graph\")\n"
   ]
  },
  {
   "cell_type": "markdown",
   "id": "1410ee9c",
   "metadata": {},
   "source": [
    "> **NOTE:** <font color = 'orange'> To figure out the ideal value of the learning rate (at least the ideal value to begin training our model), the rule of thumb is to take the learning rate value where the loss is still decreasing but not quite flattened out (usually about 10x smaller than the bottom of the curve)</font>"
   ]
  },
  {
   "cell_type": "markdown",
   "id": "20452783",
   "metadata": {},
   "source": [
    "> **Observation:** <font color = 'orange'> From the above graph 1e-2 is a good start</font>"
   ]
  },
  {
   "cell_type": "code",
   "execution_count": 32,
   "id": "0a61c155",
   "metadata": {},
   "outputs": [
    {
     "data": {
      "text/plain": [
       "(1, 0.1, 0.01, 0.001, 0.0001)"
      ]
     },
     "execution_count": 32,
     "metadata": {},
     "output_type": "execute_result"
    }
   ],
   "source": [
    "# Example of other typical learning rate values\n",
    "10**0, 10**-1, 10**-2, 10**-3, 1e-4"
   ]
  },
  {
   "cell_type": "markdown",
   "id": "b49cd8ad",
   "metadata": {},
   "source": [
    "## <font color = \"purple\"> model_m1f </font>\n",
    "- training with the observed learing rate"
   ]
  },
  {
   "cell_type": "code",
   "execution_count": 33,
   "id": "d390aecf",
   "metadata": {},
   "outputs": [
    {
     "name": "stdout",
     "output_type": "stream",
     "text": [
      "Epoch 1/25\n",
      "25/25 - 0s - loss: 0.6837 - accuracy: 0.5600\n",
      "Epoch 2/25\n",
      "25/25 - 0s - loss: 0.6744 - accuracy: 0.5750\n",
      "Epoch 3/25\n",
      "25/25 - 0s - loss: 0.6626 - accuracy: 0.5875\n",
      "Epoch 4/25\n",
      "25/25 - 0s - loss: 0.6332 - accuracy: 0.6388\n",
      "Epoch 5/25\n",
      "25/25 - 0s - loss: 0.5830 - accuracy: 0.7563\n",
      "Epoch 6/25\n",
      "25/25 - 0s - loss: 0.4907 - accuracy: 0.8313\n",
      "Epoch 7/25\n",
      "25/25 - 0s - loss: 0.4251 - accuracy: 0.8450\n",
      "Epoch 8/25\n",
      "25/25 - 0s - loss: 0.3596 - accuracy: 0.8875\n",
      "Epoch 9/25\n",
      "25/25 - 0s - loss: 0.3152 - accuracy: 0.9100\n",
      "Epoch 10/25\n",
      "25/25 - 0s - loss: 0.2512 - accuracy: 0.9500\n",
      "Epoch 11/25\n",
      "25/25 - 0s - loss: 0.2152 - accuracy: 0.9500\n",
      "Epoch 12/25\n",
      "25/25 - 0s - loss: 0.1721 - accuracy: 0.9750\n",
      "Epoch 13/25\n",
      "25/25 - 0s - loss: 0.1443 - accuracy: 0.9837\n",
      "Epoch 14/25\n",
      "25/25 - 0s - loss: 0.1232 - accuracy: 0.9862\n",
      "Epoch 15/25\n",
      "25/25 - 0s - loss: 0.1085 - accuracy: 0.9850\n",
      "Epoch 16/25\n",
      "25/25 - 0s - loss: 0.0940 - accuracy: 0.9937\n",
      "Epoch 17/25\n",
      "25/25 - 0s - loss: 0.0827 - accuracy: 0.9962\n",
      "Epoch 18/25\n",
      "25/25 - 0s - loss: 0.0798 - accuracy: 0.9937\n",
      "Epoch 19/25\n",
      "25/25 - 0s - loss: 0.0845 - accuracy: 0.9875\n",
      "Epoch 20/25\n",
      "25/25 - 0s - loss: 0.0790 - accuracy: 0.9887\n",
      "Epoch 21/25\n",
      "25/25 - 0s - loss: 0.0569 - accuracy: 0.9962\n",
      "Epoch 22/25\n",
      "25/25 - 0s - loss: 0.0644 - accuracy: 0.9875\n",
      "Epoch 23/25\n",
      "25/25 - 0s - loss: 0.0606 - accuracy: 0.9887\n",
      "Epoch 24/25\n",
      "25/25 - 0s - loss: 0.0616 - accuracy: 0.9850\n",
      "Epoch 25/25\n",
      "25/25 - 0s - loss: 0.0590 - accuracy: 0.9900\n"
     ]
    }
   ],
   "source": [
    "tf.random.set_seed(42)\n",
    "#training the model with an exponetially increasing rate\n",
    "#Define\n",
    "m1f = tf.keras.Sequential([\n",
    "    tf.keras.layers.Dense(4, activation = 'relu'),\n",
    "    tf.keras.layers.Dense(4, activation = 'relu'),\n",
    "    tf.keras.layers.Dense(1, activation= 'sigmoid')\n",
    "])\n",
    "#Compile\n",
    "m1f.compile(\n",
    "    loss = tf.keras.losses.binary_crossentropy,\n",
    "    optimizer= tf.keras.optimizers.Adam(lr = 0.02),\n",
    "    metrics = ['accuracy']\n",
    ")\n",
    "\n",
    "#fitting the model with the lr_shd\n",
    "m1f_hist = m1f.fit(x_train,y_train, \n",
    "                   epochs= 25, \n",
    "                   verbose= 2)"
   ]
  },
  {
   "cell_type": "code",
   "execution_count": 34,
   "id": "7110b647",
   "metadata": {},
   "outputs": [
    {
     "name": "stdout",
     "output_type": "stream",
     "text": [
      "7/7 [==============================] - 0s 2ms/step - loss: 0.0463 - accuracy: 0.9900\n"
     ]
    },
    {
     "data": {
      "text/plain": [
       "[0.046286068856716156, 0.9900000095367432]"
      ]
     },
     "execution_count": 34,
     "metadata": {},
     "output_type": "execute_result"
    }
   ],
   "source": [
    "#testing the model on the test dataset \n",
    "m1f.evaluate(x_test,y_test)"
   ]
  },
  {
   "cell_type": "code",
   "execution_count": 35,
   "id": "55489f07",
   "metadata": {},
   "outputs": [
    {
     "name": "stdout",
     "output_type": "stream",
     "text": [
      "doing binary classifcation...\n",
      "doing binary classifcation...\n"
     ]
    },
    {
     "data": {
      "image/png": "[encoded data removed]",
      "text/plain": [
       "<Figure size 864x432 with 2 Axes>"
      ]
     },
     "metadata": {
      "needs_background": "light"
     },
     "output_type": "display_data"
    }
   ],
   "source": [
    "# Plot the decision boundaries for the training and test sets\n",
    "plt.figure(figsize=(12, 6))\n",
    "plt.subplot(1, 2, 1)\n",
    "plt.title(\"Train\")\n",
    "plot_decision_boundary(m1f, X=x_train, y=y_train)\n",
    "plt.subplot(1, 2, 2)\n",
    "plt.title(\"Test\")\n",
    "plot_decision_boundary(m1f, X=x_test, y=y_test)\n",
    "plt.show()"
   ]
  },
  {
   "cell_type": "markdown",
   "id": "49e50d6c",
   "metadata": {},
   "source": [
    "> **Observation:** <font color = 'orange'> With the deduced learning rate, the model is able to reach high accuracies with as low as 20 epochs</font>"
   ]
  },
  {
   "cell_type": "markdown",
   "id": "9b6fde07",
   "metadata": {},
   "source": [
    "> **Observation:** <font color = 'orange'> When comparing differnt models, change one thing and keep the rest constant so as to be able to deduce the cause in the change of resuslts</font>"
   ]
  },
  {
   "cell_type": "markdown",
   "id": "9b999056",
   "metadata": {},
   "source": [
    "## <a  name = \"a5\"><font color = \"green\"> Evaluation </font></a>\n",
    "- `tf.evaluate(test_features, test_lables)`  which uses the set metrics(already used)\n",
    "- `confusion_matrix(y_test, y_predicted)` `from sklearn.metrics import confusion_matrix`\n",
    "- include the validation set on the fly by using the `validation_data=(test_data, test_labels)` attribute of the train/fit method; use \n"
   ]
  },
  {
   "cell_type": "code",
   "execution_count": 38,
   "id": "3ce57277",
   "metadata": {},
   "outputs": [],
   "source": [
    "from sklearn.metrics import f1_score, precision_score, recall_score\n",
    "y_pred = tf.round(m1f.predict(x_test)) # use tf.round to convert the probabilities to zeros and ones"
   ]
  },
  {
   "cell_type": "markdown",
   "id": "9040541f",
   "metadata": {},
   "source": [
    "> **NOTE:** <font color = 'orange'> `model.predict(x_text)` outputs probabilities; first converting them to the format of the given output is reqiured</font>"
   ]
  },
  {
   "cell_type": "markdown",
   "id": "c2125ebd",
   "metadata": {},
   "source": [
    "### <font color = \"purple\"> precision and recall </font>"
   ]
  },
  {
   "cell_type": "code",
   "execution_count": 39,
   "id": "786005ff",
   "metadata": {},
   "outputs": [
    {
     "data": {
      "text/plain": [
       "0.98989898989899"
      ]
     },
     "execution_count": 39,
     "metadata": {},
     "output_type": "execute_result"
    }
   ],
   "source": [
    "precision_score(y_true = y_test, y_pred = y_pred )"
   ]
  },
  {
   "cell_type": "code",
   "execution_count": 40,
   "id": "f2d53822",
   "metadata": {},
   "outputs": [
    {
     "data": {
      "text/plain": [
       "0.98989898989899"
      ]
     },
     "execution_count": 40,
     "metadata": {},
     "output_type": "execute_result"
    }
   ],
   "source": [
    "recall_score(y_true = y_test, y_pred = y_pred )"
   ]
  },
  {
   "cell_type": "markdown",
   "id": "e52e2476",
   "metadata": {},
   "source": [
    "### <font color = \"purple\"> f1_score </font>"
   ]
  },
  {
   "cell_type": "code",
   "execution_count": 41,
   "id": "131283c5",
   "metadata": {},
   "outputs": [
    {
     "data": {
      "text/plain": [
       "0.98989898989899"
      ]
     },
     "execution_count": 41,
     "metadata": {},
     "output_type": "execute_result"
    }
   ],
   "source": [
    "f1_score(y_true = y_test,y_pred = y_pred )"
   ]
  },
  {
   "cell_type": "markdown",
   "id": "6abe3a2c",
   "metadata": {},
   "source": [
    "### <font color = \"purple\"> confution matrix function </font>"
   ]
  },
  {
   "cell_type": "code",
   "execution_count": 42,
   "id": "a35253a9",
   "metadata": {},
   "outputs": [
    {
     "data": {
      "text/plain": [
       "array([[100,   1],\n",
       "       [  1,  98]], dtype=int64)"
      ]
     },
     "execution_count": 42,
     "metadata": {},
     "output_type": "execute_result"
    }
   ],
   "source": [
    "from sklearn.metrics import confusion_matrix\n",
    "confusion_matrix(y_true = y_test, #true labels\n",
    "                 y_pred = y_pred ) #predicted values"
   ]
  },
  {
   "cell_type": "markdown",
   "id": "f379f6ad",
   "metadata": {},
   "source": [
    "### <a  name = \"a6\"><font color = \"purple\"> Plot_ confution matrix function </font></a>"
   ]
  },
  {
   "cell_type": "code",
   "execution_count": 43,
   "id": "7f853932",
   "metadata": {},
   "outputs": [],
   "source": [
    "# Note: The following confusion matrix code is a remix of Scikit-Learn's \n",
    "# plot_confusion_matrix function - https://scikit-learn.org/stable/modules/generated/sklearn.metrics.plot_confusion_matrix.html\n",
    "# and Made with ML's introductory notebook - https://github.com/GokuMohandas/MadeWithML/blob/main/notebooks/08_Neural_Networks.ipynb\n",
    "\n",
    "# Our function needs a different name to sklearn's plot_confusion_matrix\n",
    "def plot_confusion_matrix(y_true, y_pred, classes=None, figsize=(10, 10), text_size=15): \n",
    "  \"\"\"Makes a labelled confusion matrix comparing predictions and ground truth labels.\n",
    "\n",
    "  If classes is passed, confusion matrix will be labelled, if not, integer class values\n",
    "  will be used.\n",
    "\n",
    "  Args:\n",
    "    y_true: Array of truth labels (must be same shape as y_pred).\n",
    "    y_pred: Array of predicted labels (must be same shape as y_true).\n",
    "    classes: Array of class labels (e.g. string form). If `None`, integer labels are used.\n",
    "    figsize: Size of output figure (default=(10, 10)).\n",
    "    text_size: Size of output figure text (default=15).\n",
    "  \n",
    "  Returns:\n",
    "    A labelled confusion matrix plot comparing y_true and y_pred.\n",
    "\n",
    "  Example usage:\n",
    "    make_confusion_matrix(y_true=test_labels, # ground truth test labels\n",
    "                          y_pred=y_preds, # predicted labels\n",
    "                          classes=class_names, # array of class label names\n",
    "                          figsize=(15, 15),\n",
    "                          text_size=10)\n",
    "  \"\"\"  \n",
    "  import itertools\n",
    "  from sklearn.metrics import confusion_matrix\n",
    "\n",
    "  # Create the confustion matrix\n",
    "  cm = confusion_matrix(y_true, y_pred)\n",
    "  cm_norm = cm.astype(\"float\") / cm.sum(axis=1)[:, np.newaxis] # normalize it\n",
    "  n_classes = cm.shape[0] # find the number of classes we're dealing with\n",
    "\n",
    "  # Plot the figure and make it pretty\n",
    "  fig, ax = plt.subplots(figsize=figsize)\n",
    "  cax = ax.matshow(cm, cmap=plt.cm.Blues) # colors will represent how 'correct' a class is, darker == better\n",
    "  fig.colorbar(cax)\n",
    "\n",
    "  # Are there a list of classes?\n",
    "  if classes:\n",
    "    labels = classes\n",
    "  else:\n",
    "    labels = np.arange(cm.shape[0])\n",
    "  \n",
    "  # Label the axes\n",
    "  ax.set(title=\"Confusion Matrix\",\n",
    "         xlabel=\"Predicted label\",\n",
    "         ylabel=\"True label\",\n",
    "         xticks=np.arange(n_classes), # create enough axis slots for each class\n",
    "         yticks=np.arange(n_classes), \n",
    "         xticklabels=labels, # axes will labeled with class names (if they exist) or ints\n",
    "         yticklabels=labels)\n",
    "  \n",
    "  # Make x-axis labels appear on bottom\n",
    "  ax.xaxis.set_label_position(\"bottom\")\n",
    "  ax.xaxis.tick_bottom()\n",
    "\n",
    "  # Set the threshold for different colors\n",
    "  threshold = (cm.max() + cm.min()) / 2.\n",
    "\n",
    "  # Plot the text on each cell\n",
    "  for i, j in itertools.product(range(cm.shape[0]), range(cm.shape[1])):\n",
    "    plt.text(j, i, f\"{cm[i, j]} ({cm_norm[i, j]*100:.1f}%)\",\n",
    "             horizontalalignment=\"center\",\n",
    "             color=\"white\" if cm[i, j] > threshold else \"black\",\n",
    "             size=text_size)"
   ]
  },
  {
   "cell_type": "code",
   "execution_count": 44,
   "id": "7a02451f",
   "metadata": {
    "scrolled": true
   },
   "outputs": [
    {
     "data": {
      "image/png": "[encoded data removed]",
      "text/plain": [
       "<Figure size 720x720 with 2 Axes>"
      ]
     },
     "metadata": {
      "needs_background": "light"
     },
     "output_type": "display_data"
    }
   ],
   "source": [
    "plot_confusion_matrix(y_test, y_pred, classes=None, figsize=(10, 10), text_size=15)"
   ]
  },
  {
   "cell_type": "markdown",
   "id": "a613de4d",
   "metadata": {},
   "source": [
    "## <a  name = \"a7\"><font color = \"green\"> Multiclass classification </font></a>"
   ]
  },
  {
   "cell_type": "code",
   "execution_count": 45,
   "id": "54289e0b",
   "metadata": {},
   "outputs": [],
   "source": [
    "import tensorflow as tf\n",
    "from tensorflow.keras.datasets import fashion_mnist"
   ]
  },
  {
   "cell_type": "code",
   "execution_count": 46,
   "id": "93451ca5",
   "metadata": {
    "scrolled": true
   },
   "outputs": [],
   "source": [
    "(x_train_fashion, y_train_fashion), (x_test_fashion, y_test_fashion)  = fashion_mnist.load_data()"
   ]
  },
  {
   "cell_type": "markdown",
   "id": "518049a4",
   "metadata": {},
   "source": [
    "### <font color = \"purple\">Visualising the data </font>"
   ]
  },
  {
   "cell_type": "code",
   "execution_count": 47,
   "id": "282a86bc",
   "metadata": {},
   "outputs": [
    {
     "data": {
      "text/plain": [
       "(60000, 28, 28)"
      ]
     },
     "execution_count": 47,
     "metadata": {},
     "output_type": "execute_result"
    }
   ],
   "source": [
    "x_train_fashion.shape"
   ]
  },
  {
   "cell_type": "code",
   "execution_count": 48,
   "id": "3c6b04ab",
   "metadata": {},
   "outputs": [
    {
     "data": {
      "text/plain": [
       "(60000,)"
      ]
     },
     "execution_count": 48,
     "metadata": {},
     "output_type": "execute_result"
    }
   ],
   "source": [
    "y_train_fashion.shape"
   ]
  },
  {
   "cell_type": "code",
   "execution_count": 49,
   "id": "33e8717a",
   "metadata": {},
   "outputs": [
    {
     "data": {
      "text/plain": [
       "array([9, 0, 3, 2, 7, 5, 1, 6, 4, 8], dtype=uint8)"
      ]
     },
     "execution_count": 49,
     "metadata": {},
     "output_type": "execute_result"
    }
   ],
   "source": [
    "classes, indx = tf.unique(y_train_fashion)\n",
    "classes.numpy()"
   ]
  },
  {
   "cell_type": "markdown",
   "id": "c7a0f831",
   "metadata": {},
   "source": [
    "- class description"
   ]
  },
  {
   "cell_type": "code",
   "execution_count": 50,
   "id": "57b23cb0",
   "metadata": {},
   "outputs": [],
   "source": [
    "class_names = ['T-shirt/top', 'Trouser', 'Pullover', 'Dress', 'Coat', \n",
    "               'Sandal', 'Shirt', 'Sneaker', 'Bag', 'Ankle boot']\n"
   ]
  },
  {
   "cell_type": "code",
   "execution_count": 51,
   "id": "bdf46f57",
   "metadata": {},
   "outputs": [
    {
     "data": {
      "text/plain": [
       "Text(0.5, 1.0, 'Ankle boot')"
      ]
     },
     "execution_count": 51,
     "metadata": {},
     "output_type": "execute_result"
    },
    {
     "data": {
      "image/png": "[encoded data removed]",
      "text/plain": [
       "<Figure size 432x288 with 1 Axes>"
      ]
     },
     "metadata": {
      "needs_background": "light"
     },
     "output_type": "display_data"
    }
   ],
   "source": [
    "item_no = 44\n",
    "plt.imshow(x_train_fashion[item_no])\n",
    "plt.title(class_names[y_train_fashion[item_no]])"
   ]
  },
  {
   "cell_type": "markdown",
   "id": "d20be039",
   "metadata": {},
   "source": [
    "#### <a  name = \"\"><font color = \"orange\">  fushion visaulistion function</font></a>"
   ]
  },
  {
   "cell_type": "code",
   "execution_count": 52,
   "id": "339e2c33",
   "metadata": {},
   "outputs": [],
   "source": [
    "# Plot multiple random images of fashion MNIST\n",
    "def visialise_fushion():\n",
    "    import random\n",
    "    plt.figure(figsize=(12, 10))\n",
    "    for i in range(16):\n",
    "      ax = plt.subplot(5, 4, i + 1)\n",
    "      rand_index = random.choice(range(len(x_train_fashion)))\n",
    "      plt.imshow(x_train_fashion[rand_index], cmap=plt.cm.binary)\n",
    "      plt.title(class_names[y_train_fashion[rand_index]])\n",
    "      plt.axis(False)"
   ]
  },
  {
   "cell_type": "code",
   "execution_count": 53,
   "id": "3405730d",
   "metadata": {},
   "outputs": [
    {
     "data": {
      "image/png": "[encoded data removed]",
      "text/plain": [
       "<Figure size 864x720 with 16 Axes>"
      ]
     },
     "metadata": {
      "needs_background": "light"
     },
     "output_type": "display_data"
    }
   ],
   "source": [
    "visialise_fushion()"
   ]
  },
  {
   "cell_type": "markdown",
   "id": "6ca305d0",
   "metadata": {},
   "source": [
    "### <font color = \"purple\"> model mf1 </font>"
   ]
  },
  {
   "cell_type": "code",
   "execution_count": 54,
   "id": "690f88a4",
   "metadata": {},
   "outputs": [
    {
     "name": "stdout",
     "output_type": "stream",
     "text": [
      "Epoch 1/50\n",
      "1875/1875 [==============================] - 2s 1ms/step - loss: 2.4122 - accuracy: 0.0988: 0s - loss: 2\n",
      "Epoch 2/50\n",
      "1875/1875 [==============================] - 2s 1ms/step - loss: 2.3028 - accuracy: 0.0983\n",
      "Epoch 3/50\n",
      "1875/1875 [==============================] - 2s 881us/step - loss: 2.3027 - accuracy: 0.1002\n",
      "Epoch 4/50\n",
      "1875/1875 [==============================] - 2s 902us/step - loss: 2.3028 - accuracy: 0.0975\n",
      "Epoch 5/50\n",
      "1875/1875 [==============================] - 2s 1ms/step - loss: 2.3028 - accuracy: 0.0973\n",
      "Epoch 6/50\n",
      "1875/1875 [==============================] - 2s 1ms/step - loss: 2.3028 - accuracy: 0.0992\n",
      "Epoch 7/50\n",
      "1875/1875 [==============================] - 2s 942us/step - loss: 2.3028 - accuracy: 0.0987\n",
      "Epoch 8/50\n",
      "1875/1875 [==============================] - ETA: 0s - loss: 2.3028 - accuracy: 0.09 - 2s 887us/step - loss: 2.3028 - accuracy: 0.0982\n",
      "Epoch 9/50\n",
      "1875/1875 [==============================] - 2s 913us/step - loss: 2.3028 - accuracy: 0.0989\n",
      "Epoch 10/50\n",
      "1875/1875 [==============================] - 2s 826us/step - loss: 2.3028 - accuracy: 0.0986\n",
      "Epoch 11/50\n",
      "1875/1875 [==============================] - 2s 1ms/step - loss: 2.3028 - accuracy: 0.0997\n",
      "Epoch 12/50\n",
      "1875/1875 [==============================] - 2s 1ms/step - loss: 2.3028 - accuracy: 0.0998\n",
      "Epoch 13/50\n",
      "1875/1875 [==============================] - 2s 987us/step - loss: 2.3028 - accuracy: 0.0974\n",
      "Epoch 14/50\n",
      "1875/1875 [==============================] - 2s 1ms/step - loss: 2.3027 - accuracy: 0.0983\n",
      "Epoch 15/50\n",
      "1875/1875 [==============================] - 2s 849us/step - loss: 2.3027 - accuracy: 0.0982\n",
      "Epoch 16/50\n",
      "1875/1875 [==============================] - 2s 931us/step - loss: 2.3028 - accuracy: 0.1006\n",
      "Epoch 17/50\n",
      "1875/1875 [==============================] - 2s 1ms/step - loss: 2.3028 - accuracy: 0.0992: \n",
      "Epoch 18/50\n",
      "1875/1875 [==============================] - 2s 930us/step - loss: 2.3028 - accuracy: 0.0971\n",
      "Epoch 19/50\n",
      "1875/1875 [==============================] - 2s 1ms/step - loss: 2.3028 - accuracy: 0.0965\n",
      "Epoch 20/50\n",
      "1875/1875 [==============================] - 2s 952us/step - loss: 2.3028 - accuracy: 0.0987\n",
      "Epoch 21/50\n",
      "1875/1875 [==============================] - 2s 953us/step - loss: 2.3028 - accuracy: 0.0983\n",
      "Epoch 22/50\n",
      "1875/1875 [==============================] - 2s 1ms/step - loss: 2.3028 - accuracy: 0.0962\n",
      "Epoch 23/50\n",
      "1875/1875 [==============================] - 2s 1ms/step - loss: 2.3028 - accuracy: 0.0982\n",
      "Epoch 24/50\n",
      "1875/1875 [==============================] - 2s 1ms/step - loss: 2.3028 - accuracy: 0.0980\n",
      "Epoch 25/50\n",
      "1875/1875 [==============================] - 2s 883us/step - loss: 2.3027 - accuracy: 0.1001\n",
      "Epoch 26/50\n",
      "1875/1875 [==============================] - 2s 1ms/step - loss: 2.3028 - accuracy: 0.0992\n",
      "Epoch 27/50\n",
      "1875/1875 [==============================] - 2s 1ms/step - loss: 2.3028 - accuracy: 0.0984\n",
      "Epoch 28/50\n",
      "1875/1875 [==============================] - 2s 1ms/step - loss: 2.3028 - accuracy: 0.0976\n",
      "Epoch 29/50\n",
      "1875/1875 [==============================] - 2s 1ms/step - loss: 2.3028 - accuracy: 0.0979\n",
      "Epoch 30/50\n",
      "1875/1875 [==============================] - 2s 1ms/step - loss: 2.3028 - accuracy: 0.0978\n",
      "Epoch 31/50\n",
      "1875/1875 [==============================] - 2s 887us/step - loss: 2.3028 - accuracy: 0.0996\n",
      "Epoch 32/50\n",
      "1875/1875 [==============================] - 2s 839us/step - loss: 2.3027 - accuracy: 0.1006\n",
      "Epoch 33/50\n",
      "1875/1875 [==============================] - 2s 1ms/step - loss: 2.3027 - accuracy: 0.0985\n",
      "Epoch 34/50\n",
      "1875/1875 [==============================] - 2s 938us/step - loss: 2.3028 - accuracy: 0.0978\n",
      "Epoch 35/50\n",
      "1875/1875 [==============================] - 2s 915us/step - loss: 2.3028 - accuracy: 0.0999\n",
      "Epoch 36/50\n",
      "1875/1875 [==============================] - 2s 1ms/step - loss: 2.3028 - accuracy: 0.0987\n",
      "Epoch 37/50\n",
      "1875/1875 [==============================] - 2s 1ms/step - loss: 2.3028 - accuracy: 0.0983: 0s - l\n",
      "Epoch 38/50\n",
      "1875/1875 [==============================] - 2s 1ms/step - loss: 2.3028 - accuracy: 0.0975\n",
      "Epoch 39/50\n",
      "1875/1875 [==============================] - 2s 1ms/step - loss: 2.3027 - accuracy: 0.0999\n",
      "Epoch 40/50\n",
      "1875/1875 [==============================] - 2s 983us/step - loss: 2.3028 - accuracy: 0.0981\n",
      "Epoch 41/50\n",
      "1875/1875 [==============================] - 2s 925us/step - loss: 2.3028 - accuracy: 0.0992\n",
      "Epoch 42/50\n",
      "1875/1875 [==============================] - 2s 988us/step - loss: 2.3027 - accuracy: 0.0993\n",
      "Epoch 43/50\n",
      "1875/1875 [==============================] - 2s 1ms/step - loss: 2.3028 - accuracy: 0.0971\n",
      "Epoch 44/50\n",
      "1875/1875 [==============================] - 2s 1ms/step - loss: 2.3028 - accuracy: 0.0983\n",
      "Epoch 45/50\n",
      "1875/1875 [==============================] - 2s 975us/step - loss: 2.3028 - accuracy: 0.0977\n",
      "Epoch 46/50\n",
      "1875/1875 [==============================] - 2s 1ms/step - loss: 2.3027 - accuracy: 0.0993\n",
      "Epoch 47/50\n",
      "1875/1875 [==============================] - 2s 1ms/step - loss: 2.3028 - accuracy: 0.0975\n",
      "Epoch 48/50\n",
      "1875/1875 [==============================] - 2s 882us/step - loss: 2.3028 - accuracy: 0.0980\n",
      "Epoch 49/50\n",
      "1875/1875 [==============================] - 2s 859us/step - loss: 2.3027 - accuracy: 0.0984\n",
      "Epoch 50/50\n",
      "1875/1875 [==============================] - 2s 950us/step - loss: 2.3028 - accuracy: 0.0999\n"
     ]
    },
    {
     "data": {
      "text/plain": [
       "<tensorflow.python.keras.callbacks.History at 0x2d71ab3c6d0>"
      ]
     },
     "execution_count": 54,
     "metadata": {},
     "output_type": "execute_result"
    }
   ],
   "source": [
    "#define\n",
    "mf1 = tf.keras.Sequential([\n",
    "    tf.keras.layers.Flatten(input_shape = (28,28)), # flattens the image \n",
    "    tf.keras.layers.Dense(4, tf.keras.activations.relu),\n",
    "    tf.keras.layers.Dense(4, tf.keras.activations.relu),\n",
    "    tf.keras.layers.Dense(10, tf.keras.activations.softmax)\n",
    "])\n",
    "\n",
    "mf1.compile(\n",
    "    loss = tf.keras.losses.SparseCategoricalCrossentropy(),\n",
    "    optimizer = \"Adam\",\n",
    "    metrics = [\"accuracy\"]\n",
    ")\n",
    "\n",
    "mf1.fit(x_train_fashion, y_train_fashion, epochs = 50)"
   ]
  },
  {
   "cell_type": "markdown",
   "id": "9e9e79ca",
   "metadata": {},
   "source": [
    "### <font color = \"purple\"> model mf2 (find a good learining rate) </font>"
   ]
  },
  {
   "cell_type": "code",
   "execution_count": 55,
   "id": "0b1aba8d",
   "metadata": {},
   "outputs": [
    {
     "name": "stdout",
     "output_type": "stream",
     "text": [
      "Epoch 1/30\n",
      "1875/1875 [==============================] - 2s 1ms/step - loss: 2.3179 - accuracy: 0.1283 - val_loss: 2.1335 - val_accuracy: 0.1747\n",
      "Epoch 2/30\n",
      "1875/1875 [==============================] - 3s 1ms/step - loss: 2.1012 - accuracy: 0.1727 - val_loss: 2.1119 - val_accuracy: 0.1822\n",
      "Epoch 3/30\n",
      "1875/1875 [==============================] - 2s 1ms/step - loss: 2.0543 - accuracy: 0.1957 - val_loss: 2.0705 - val_accuracy: 0.1922\n",
      "Epoch 4/30\n",
      "1875/1875 [==============================] - 2s 1ms/step - loss: 1.7809 - accuracy: 0.2471 - val_loss: 1.6916 - val_accuracy: 0.2609\n",
      "Epoch 5/30\n",
      "1875/1875 [==============================] - 2s 1ms/step - loss: 1.6707 - accuracy: 0.2754 - val_loss: 1.6533 - val_accuracy: 0.2783\n",
      "Epoch 6/30\n",
      "1875/1875 [==============================] - 2s 1ms/step - loss: 1.6084 - accuracy: 0.3259 - val_loss: 1.5262 - val_accuracy: 0.3593\n",
      "Epoch 7/30\n",
      "1875/1875 [==============================] - 2s 1ms/step - loss: 1.4799 - accuracy: 0.3702 - val_loss: 1.4542 - val_accuracy: 0.3942\n",
      "Epoch 8/30\n",
      "1875/1875 [==============================] - 2s 1ms/step - loss: 1.4104 - accuracy: 0.3867 - val_loss: 1.4429 - val_accuracy: 0.3671\n",
      "Epoch 9/30\n",
      "1875/1875 [==============================] - 2s 1ms/step - loss: 1.3898 - accuracy: 0.3884 - val_loss: 1.3654 - val_accuracy: 0.4051\n",
      "Epoch 10/30\n",
      "1875/1875 [==============================] - 2s 1ms/step - loss: 1.3654 - accuracy: 0.3914 - val_loss: 1.3560 - val_accuracy: 0.4063\n",
      "Epoch 11/30\n",
      "1875/1875 [==============================] - 2s 1ms/step - loss: 1.3655 - accuracy: 0.3877 - val_loss: 1.3841 - val_accuracy: 0.3921\n",
      "Epoch 12/30\n",
      "1875/1875 [==============================] - 3s 1ms/step - loss: 1.3614 - accuracy: 0.3920 - val_loss: 1.3433 - val_accuracy: 0.3964\n",
      "Epoch 13/30\n",
      "1875/1875 [==============================] - 2s 1ms/step - loss: 1.3438 - accuracy: 0.3939 - val_loss: 1.3331 - val_accuracy: 0.3971\n",
      "Epoch 14/30\n",
      "1875/1875 [==============================] - 2s 1ms/step - loss: 1.3612 - accuracy: 0.3927 - val_loss: 1.3649 - val_accuracy: 0.3881\n",
      "Epoch 15/30\n",
      "1875/1875 [==============================] - 2s 1ms/step - loss: 1.3822 - accuracy: 0.3848 - val_loss: 1.3398 - val_accuracy: 0.4008\n",
      "Epoch 16/30\n",
      "1875/1875 [==============================] - 2s 975us/step - loss: 1.3691 - accuracy: 0.3892 - val_loss: 1.3472 - val_accuracy: 0.3815\n",
      "Epoch 17/30\n",
      "1875/1875 [==============================] - 2s 1ms/step - loss: 1.3616 - accuracy: 0.3813 - val_loss: 1.3635 - val_accuracy: 0.3573\n",
      "Epoch 18/30\n",
      "1875/1875 [==============================] - 2s 1ms/step - loss: 1.3807 - accuracy: 0.3802 - val_loss: 1.4136 - val_accuracy: 0.3471\n",
      "Epoch 19/30\n",
      "1875/1875 [==============================] - 2s 1ms/step - loss: 1.5784 - accuracy: 0.3641 - val_loss: 1.3472 - val_accuracy: 0.4110\n",
      "Epoch 20/30\n",
      "1875/1875 [==============================] - 2s 1ms/step - loss: 1.4332 - accuracy: 0.3682 - val_loss: 1.3610 - val_accuracy: 0.3954\n",
      "Epoch 21/30\n",
      "1875/1875 [==============================] - 2s 1ms/step - loss: 1.3896 - accuracy: 0.3746 - val_loss: 1.3524 - val_accuracy: 0.4076\n",
      "Epoch 22/30\n",
      "1875/1875 [==============================] - 2s 1ms/step - loss: 1.4741 - accuracy: 0.3635 - val_loss: 1.5971 - val_accuracy: 0.3005\n",
      "Epoch 23/30\n",
      "1875/1875 [==============================] - 2s 1ms/step - loss: 1.4575 - accuracy: 0.3638 - val_loss: 1.4471 - val_accuracy: 0.3562\n",
      "Epoch 24/30\n",
      "1875/1875 [==============================] - 2s 1ms/step - loss: 1.4448 - accuracy: 0.3570 - val_loss: 1.5953 - val_accuracy: 0.3514\n",
      "Epoch 25/30\n",
      "1875/1875 [==============================] - 2s 1ms/step - loss: 1.5375 - accuracy: 0.3259 - val_loss: 1.8799 - val_accuracy: 0.1911\n",
      "Epoch 26/30\n",
      "1875/1875 [==============================] - 2s 1ms/step - loss: 1.9045 - accuracy: 0.1910 - val_loss: 1.8468 - val_accuracy: 0.1974\n",
      "Epoch 27/30\n",
      "1875/1875 [==============================] - 3s 1ms/step - loss: 1.7980 - accuracy: 0.1967 - val_loss: 1.9221 - val_accuracy: 0.1824\n",
      "Epoch 28/30\n",
      "1875/1875 [==============================] - 2s 1ms/step - loss: 1.7391 - accuracy: 0.1929 - val_loss: 1.7569 - val_accuracy: 0.2000\n",
      "Epoch 29/30\n",
      "1875/1875 [==============================] - 2s 1ms/step - loss: 3.0833 - accuracy: 0.1523 - val_loss: 1.8882 - val_accuracy: 0.1949\n",
      "Epoch 30/30\n",
      "1875/1875 [==============================] - 2s 1ms/step - loss: 1.7653 - accuracy: 0.1934 - val_loss: 1.7302 - val_accuracy: 0.1898\n"
     ]
    }
   ],
   "source": [
    "#define\n",
    "mf2 = tf.keras.Sequential([\n",
    "    tf.keras.layers.Flatten(input_shape = (28,28)), # flattens the image \n",
    "    tf.keras.layers.Dense(4, tf.keras.activations.relu),\n",
    "    tf.keras.layers.Dense(4, tf.keras.activations.relu),\n",
    "    tf.keras.layers.Dense(10, tf.keras.activations.softmax)\n",
    "])\n",
    "\n",
    "#compile\n",
    "mf2.compile(\n",
    "    loss = tf.keras.losses.SparseCategoricalCrossentropy(),\n",
    "    optimizer = \"Adam\",\n",
    "    metrics = [\"accuracy\"]\n",
    ")\n",
    "#learing rate schedular\n",
    "lr_scheduler = tf.keras.callbacks.LearningRateScheduler(lambda epoch: 1e-3 * 10**(epoch/20))\n",
    "#train\n",
    "mf2_hist = mf2.fit(x_train_fashion,\n",
    "                   y_train_fashion,\n",
    "                   epochs = 30,\n",
    "                   validation_data= (x_test_fashion, y_test_fashion),\n",
    "                   callbacks= [lr_scheduler])"
   ]
  },
  {
   "cell_type": "code",
   "execution_count": 56,
   "id": "0db2ba4e",
   "metadata": {},
   "outputs": [
    {
     "data": {
      "image/png": "[encoded data removed]",
      "text/plain": [
       "<Figure size 432x288 with 1 Axes>"
      ]
     },
     "metadata": {
      "needs_background": "light"
     },
     "output_type": "display_data"
    }
   ],
   "source": [
    "# Plot the learning rate decay curve\n",
    "import numpy as np\n",
    "import matplotlib.pyplot as plt\n",
    "lrs = 1e-3 * (10**(np.arange(30)/20))\n",
    "plt.semilogx(lrs, mf2_hist.history[\"loss\"]) # want the x-axis to be log-scale\n",
    "plt.xlabel(\"Learning rate\")\n",
    "plt.ylabel(\"Loss\")\n",
    "plt.title(\"Finding the ideal learning rate\");"
   ]
  },
  {
   "cell_type": "markdown",
   "id": "84708a24",
   "metadata": {},
   "source": [
    "- 0.001 seems to be a good choice"
   ]
  },
  {
   "cell_type": "code",
   "execution_count": 57,
   "id": "6329ebf3",
   "metadata": {},
   "outputs": [
    {
     "data": {
      "text/plain": [
       "0.001"
      ]
     },
     "execution_count": 57,
     "metadata": {},
     "output_type": "execute_result"
    }
   ],
   "source": [
    "1e-3"
   ]
  },
  {
   "cell_type": "markdown",
   "id": "2f61b854",
   "metadata": {},
   "source": [
    "### <font color = \"purple\"> model mf3 (with the selected learning rate) </font>"
   ]
  },
  {
   "cell_type": "code",
   "execution_count": 58,
   "id": "29bd92b1",
   "metadata": {},
   "outputs": [
    {
     "name": "stdout",
     "output_type": "stream",
     "text": [
      "Epoch 1/50\n",
      "1875/1875 [==============================] - 2s 1ms/step - loss: 2.5116 - accuracy: 0.0993 - val_loss: 2.3026 - val_accuracy: 0.1000\n",
      "Epoch 2/50\n",
      "1875/1875 [==============================] - 2s 1ms/step - loss: 2.3027 - accuracy: 0.0986 - val_loss: 2.3027 - val_accuracy: 0.1000\n",
      "Epoch 3/50\n",
      "1875/1875 [==============================] - 2s 1ms/step - loss: 2.3027 - accuracy: 0.1002 - val_loss: 2.3027 - val_accuracy: 0.1000\n",
      "Epoch 4/50\n",
      "1875/1875 [==============================] - 2s 1ms/step - loss: 2.3028 - accuracy: 0.0976 - val_loss: 2.3026 - val_accuracy: 0.1000\n",
      "Epoch 5/50\n",
      "1875/1875 [==============================] - 2s 1ms/step - loss: 2.3028 - accuracy: 0.0973 - val_loss: 2.3026 - val_accuracy: 0.1000\n",
      "Epoch 6/50\n",
      "1875/1875 [==============================] - 2s 1ms/step - loss: 2.3028 - accuracy: 0.0992 - val_loss: 2.3026 - val_accuracy: 0.1000\n",
      "Epoch 7/50\n",
      "1875/1875 [==============================] - 2s 1ms/step - loss: 2.3028 - accuracy: 0.0987 - val_loss: 2.3026 - val_accuracy: 0.1000\n",
      "Epoch 8/50\n",
      "1875/1875 [==============================] - 2s 1ms/step - loss: 2.3028 - accuracy: 0.0982 - val_loss: 2.3027 - val_accuracy: 0.1000\n",
      "Epoch 9/50\n",
      "1875/1875 [==============================] - 2s 1ms/step - loss: 2.3028 - accuracy: 0.0989 - val_loss: 2.3027 - val_accuracy: 0.1000\n",
      "Epoch 10/50\n",
      "1875/1875 [==============================] - 2s 1ms/step - loss: 2.3028 - accuracy: 0.0986 - val_loss: 2.3027 - val_accuracy: 0.1000\n",
      "Epoch 11/50\n",
      "1875/1875 [==============================] - 2s 1ms/step - loss: 2.3028 - accuracy: 0.0997 - val_loss: 2.3027 - val_accuracy: 0.1000\n",
      "Epoch 12/50\n",
      "1875/1875 [==============================] - 3s 1ms/step - loss: 2.3028 - accuracy: 0.0998 - val_loss: 2.3027 - val_accuracy: 0.1000\n",
      "Epoch 13/50\n",
      "1875/1875 [==============================] - 2s 1ms/step - loss: 2.3028 - accuracy: 0.0974 - val_loss: 2.3026 - val_accuracy: 0.1000\n",
      "Epoch 14/50\n",
      "1875/1875 [==============================] - 2s 1ms/step - loss: 2.3027 - accuracy: 0.0983 - val_loss: 2.3027 - val_accuracy: 0.1000\n",
      "Epoch 15/50\n",
      "1875/1875 [==============================] - 2s 1ms/step - loss: 2.3027 - accuracy: 0.0982 - val_loss: 2.3027 - val_accuracy: 0.1000\n",
      "Epoch 16/50\n",
      "1875/1875 [==============================] - 2s 1ms/step - loss: 2.3028 - accuracy: 0.1006 - val_loss: 2.3027 - val_accuracy: 0.1000\n",
      "Epoch 17/50\n",
      "1875/1875 [==============================] - 2s 1ms/step - loss: 2.3028 - accuracy: 0.0992 - val_loss: 2.3026 - val_accuracy: 0.1000\n",
      "Epoch 18/50\n",
      "1875/1875 [==============================] - 2s 1ms/step - loss: 2.3028 - accuracy: 0.0971 - val_loss: 2.3026 - val_accuracy: 0.1000\n",
      "Epoch 19/50\n",
      "1875/1875 [==============================] - 2s 1ms/step - loss: 2.3028 - accuracy: 0.0965 - val_loss: 2.3026 - val_accuracy: 0.1000\n",
      "Epoch 20/50\n",
      "1875/1875 [==============================] - 2s 1ms/step - loss: 2.3028 - accuracy: 0.0987 - val_loss: 2.3026 - val_accuracy: 0.1000\n",
      "Epoch 21/50\n",
      "1875/1875 [==============================] - 2s 987us/step - loss: 2.3028 - accuracy: 0.0983 - val_loss: 2.3026 - val_accuracy: 0.1000\n",
      "Epoch 22/50\n",
      "1875/1875 [==============================] - 2s 1ms/step - loss: 2.3028 - accuracy: 0.0962 - val_loss: 2.3026 - val_accuracy: 0.1000\n",
      "Epoch 23/50\n",
      "1875/1875 [==============================] - 2s 1ms/step - loss: 2.3028 - accuracy: 0.0982 - val_loss: 2.3026 - val_accuracy: 0.1000\n",
      "Epoch 24/50\n",
      "1875/1875 [==============================] - 2s 1ms/step - loss: 2.3028 - accuracy: 0.0980 - val_loss: 2.3026 - val_accuracy: 0.1000\n",
      "Epoch 25/50\n",
      "1875/1875 [==============================] - 2s 992us/step - loss: 2.3027 - accuracy: 0.1001 - val_loss: 2.3026 - val_accuracy: 0.1000\n",
      "Epoch 26/50\n",
      "1875/1875 [==============================] - 2s 1ms/step - loss: 2.3028 - accuracy: 0.0992 - val_loss: 2.3026 - val_accuracy: 0.1000\n",
      "Epoch 27/50\n",
      "1875/1875 [==============================] - 2s 1ms/step - loss: 2.3028 - accuracy: 0.0984 - val_loss: 2.3026 - val_accuracy: 0.1000\n",
      "Epoch 28/50\n",
      "1875/1875 [==============================] - 2s 1ms/step - loss: 2.3028 - accuracy: 0.0976 - val_loss: 2.3026 - val_accuracy: 0.1000\n",
      "Epoch 29/50\n",
      "1875/1875 [==============================] - 2s 985us/step - loss: 2.3028 - accuracy: 0.0979 - val_loss: 2.3026 - val_accuracy: 0.1000\n",
      "Epoch 30/50\n",
      "1875/1875 [==============================] - 2s 1ms/step - loss: 2.3028 - accuracy: 0.0978 - val_loss: 2.3026 - val_accuracy: 0.1000\n",
      "Epoch 31/50\n",
      "1875/1875 [==============================] - 2s 990us/step - loss: 2.3028 - accuracy: 0.0996 - val_loss: 2.3026 - val_accuracy: 0.1000\n",
      "Epoch 32/50\n",
      "1875/1875 [==============================] - 2s 1ms/step - loss: 2.3027 - accuracy: 0.1006 - val_loss: 2.3027 - val_accuracy: 0.1000\n",
      "Epoch 33/50\n",
      "1875/1875 [==============================] - 2s 1ms/step - loss: 2.3027 - accuracy: 0.0985 - val_loss: 2.3026 - val_accuracy: 0.1000\n",
      "Epoch 34/50\n",
      "1875/1875 [==============================] - 2s 994us/step - loss: 2.3028 - accuracy: 0.0978 - val_loss: 2.3026 - val_accuracy: 0.1000\n",
      "Epoch 35/50\n",
      "1875/1875 [==============================] - 2s 980us/step - loss: 2.3028 - accuracy: 0.0999 - val_loss: 2.3027 - val_accuracy: 0.1000\n",
      "Epoch 36/50\n",
      "1875/1875 [==============================] - 4s 2ms/step - loss: 2.3028 - accuracy: 0.0987 - val_loss: 2.3026 - val_accuracy: 0.1000\n",
      "Epoch 37/50\n",
      "1875/1875 [==============================] - 4s 2ms/step - loss: 2.3028 - accuracy: 0.0983 - val_loss: 2.3026 - val_accuracy: 0.1000\n",
      "Epoch 38/50\n",
      "1875/1875 [==============================] - 4s 2ms/step - loss: 2.3028 - accuracy: 0.0975 - val_loss: 2.3026 - val_accuracy: 0.1000\n",
      "Epoch 39/50\n",
      "1875/1875 [==============================] - 3s 2ms/step - loss: 2.3027 - accuracy: 0.0999 - val_loss: 2.3027 - val_accuracy: 0.1000\n",
      "Epoch 40/50\n",
      "1875/1875 [==============================] - 2s 1ms/step - loss: 2.3028 - accuracy: 0.0981 - val_loss: 2.3027 - val_accuracy: 0.1000\n",
      "Epoch 41/50\n",
      "1875/1875 [==============================] - 3s 1ms/step - loss: 2.3028 - accuracy: 0.0992 - val_loss: 2.3026 - val_accuracy: 0.1000\n",
      "Epoch 42/50\n",
      "1875/1875 [==============================] - 2s 1ms/step - loss: 2.3027 - accuracy: 0.0993 - val_loss: 2.3027 - val_accuracy: 0.1000\n",
      "Epoch 43/50\n",
      "1875/1875 [==============================] - 2s 1ms/step - loss: 2.3028 - accuracy: 0.0971 - val_loss: 2.3026 - val_accuracy: 0.1000\n",
      "Epoch 44/50\n",
      "1875/1875 [==============================] - 2s 1ms/step - loss: 2.3028 - accuracy: 0.0983 - val_loss: 2.3027 - val_accuracy: 0.1000\n",
      "Epoch 45/50\n",
      "1875/1875 [==============================] - 2s 1ms/step - loss: 2.3028 - accuracy: 0.0977 - val_loss: 2.3026 - val_accuracy: 0.1000\n",
      "Epoch 46/50\n",
      "1875/1875 [==============================] - 2s 1ms/step - loss: 2.3027 - accuracy: 0.0993 - val_loss: 2.3027 - val_accuracy: 0.1000\n",
      "Epoch 47/50\n",
      "1875/1875 [==============================] - 2s 1ms/step - loss: 2.3028 - accuracy: 0.0975 - val_loss: 2.3026 - val_accuracy: 0.1000\n",
      "Epoch 48/50\n",
      "1875/1875 [==============================] - 3s 1ms/step - loss: 2.3028 - accuracy: 0.0980 - val_loss: 2.3026 - val_accuracy: 0.1000\n",
      "Epoch 49/50\n",
      "1875/1875 [==============================] - 2s 1ms/step - loss: 2.3027 - accuracy: 0.0984 - val_loss: 2.3027 - val_accuracy: 0.1000\n",
      "Epoch 50/50\n",
      "1875/1875 [==============================] - 2s 1ms/step - loss: 2.3028 - accuracy: 0.0999 - val_loss: 2.3026 - val_accuracy: 0.1000\n"
     ]
    }
   ],
   "source": [
    "#define\n",
    "mf3 = tf.keras.Sequential([\n",
    "    tf.keras.layers.Flatten(input_shape = (28,28)), # flattens the image \n",
    "    tf.keras.layers.Dense(4, tf.keras.activations.relu),\n",
    "    tf.keras.layers.Dense(4, tf.keras.activations.relu),\n",
    "    tf.keras.layers.Dense(10, tf.keras.activations.softmax)\n",
    "])\n",
    "\n",
    "#compile\n",
    "mf3.compile(\n",
    "    loss = tf.keras.losses.SparseCategoricalCrossentropy(),\n",
    "    optimizer = tf.keras.optimizers.Adam(lr = 0.001),\n",
    "    metrics = [\"accuracy\"]\n",
    ")\n",
    "\n",
    "#train\n",
    "mf3_hist = mf3.fit(x_train_fashion,\n",
    "                   y_train_fashion,\n",
    "                   epochs = 50,\n",
    "                   validation_data = (x_test_fashion, y_test_fashion))"
   ]
  },
  {
   "cell_type": "markdown",
   "id": "1ea7fe62",
   "metadata": {},
   "source": [
    "**NOTE** <font color = 'orange'> The model is learning but an extremly slow rate</font>\n",
    "- lets try normalising the data (nural nets love this)"
   ]
  },
  {
   "cell_type": "markdown",
   "id": "3ca5f3a7",
   "metadata": {},
   "source": [
    "### <font color = \"purple\"> model mf4 (training with normalised data) </font>"
   ]
  },
  {
   "cell_type": "markdown",
   "id": "8cf02c09",
   "metadata": {},
   "source": [
    "- Normalising the data"
   ]
  },
  {
   "cell_type": "code",
   "execution_count": 59,
   "id": "f39b17f5",
   "metadata": {},
   "outputs": [
    {
     "data": {
      "text/plain": [
       "255"
      ]
     },
     "execution_count": 59,
     "metadata": {},
     "output_type": "execute_result"
    }
   ],
   "source": [
    "x_test_fashion.max()"
   ]
  },
  {
   "cell_type": "code",
   "execution_count": 60,
   "id": "f3fb3708",
   "metadata": {},
   "outputs": [
    {
     "data": {
      "text/plain": [
       "0"
      ]
     },
     "execution_count": 60,
     "metadata": {},
     "output_type": "execute_result"
    }
   ],
   "source": [
    "x_test_fashion.min()"
   ]
  },
  {
   "cell_type": "code",
   "execution_count": 61,
   "id": "c317578b",
   "metadata": {},
   "outputs": [],
   "source": [
    "#generating the normalised data\n",
    "x_train_fashion_norm = x_train_fashion/255\n",
    "x_test_fashion_norm = x_test_fashion/255"
   ]
  },
  {
   "cell_type": "code",
   "execution_count": 62,
   "id": "f734a5d0",
   "metadata": {},
   "outputs": [
    {
     "name": "stdout",
     "output_type": "stream",
     "text": [
      "Epoch 1/70\n",
      "1875/1875 [==============================] - 4s 2ms/step - loss: 1.1215 - accuracy: 0.5834 - val_loss: 0.7733 - val_accuracy: 0.7117\n",
      "Epoch 2/70\n",
      "1875/1875 [==============================] - 2s 941us/step - loss: 0.7013 - accuracy: 0.7294 - val_loss: 0.6890 - val_accuracy: 0.7374\n",
      "Epoch 3/70\n",
      "1875/1875 [==============================] - 3s 1ms/step - loss: 0.6518 - accuracy: 0.7497 - val_loss: 0.6660 - val_accuracy: 0.7521\n",
      "Epoch 4/70\n",
      "1875/1875 [==============================] - 2s 970us/step - loss: 0.6295 - accuracy: 0.7612 - val_loss: 0.6499 - val_accuracy: 0.7671\n",
      "Epoch 5/70\n",
      "1875/1875 [==============================] - 2s 982us/step - loss: 0.6131 - accuracy: 0.7715 - val_loss: 0.6391 - val_accuracy: 0.7694\n",
      "Epoch 6/70\n",
      "1875/1875 [==============================] - 2s 971us/step - loss: 0.5990 - accuracy: 0.7821 - val_loss: 0.6347 - val_accuracy: 0.7726\n",
      "Epoch 7/70\n",
      "1875/1875 [==============================] - 2s 970us/step - loss: 0.5793 - accuracy: 0.7947 - val_loss: 0.5971 - val_accuracy: 0.7920\n",
      "Epoch 8/70\n",
      "1875/1875 [==============================] - 2s 1ms/step - loss: 0.5616 - accuracy: 0.8018 - val_loss: 0.5915 - val_accuracy: 0.7929\n",
      "Epoch 9/70\n",
      "1875/1875 [==============================] - 2s 978us/step - loss: 0.5513 - accuracy: 0.8052 - val_loss: 0.5850 - val_accuracy: 0.7961\n",
      "Epoch 10/70\n",
      "1875/1875 [==============================] - 2s 979us/step - loss: 0.5453 - accuracy: 0.8076 - val_loss: 0.5805 - val_accuracy: 0.7989\n",
      "Epoch 11/70\n",
      "1875/1875 [==============================] - 2s 1ms/step - loss: 0.5393 - accuracy: 0.8104 - val_loss: 0.5912 - val_accuracy: 0.7993\n",
      "Epoch 12/70\n",
      "1875/1875 [==============================] - 2s 1ms/step - loss: 0.5349 - accuracy: 0.8113 - val_loss: 0.5746 - val_accuracy: 0.8030\n",
      "Epoch 13/70\n",
      "1875/1875 [==============================] - 2s 1ms/step - loss: 0.5320 - accuracy: 0.8135 - val_loss: 0.5696 - val_accuracy: 0.8082\n",
      "Epoch 14/70\n",
      "1875/1875 [==============================] - 2s 976us/step - loss: 0.5273 - accuracy: 0.8148 - val_loss: 0.5768 - val_accuracy: 0.8010\n",
      "Epoch 15/70\n",
      "1875/1875 [==============================] - 2s 975us/step - loss: 0.5259 - accuracy: 0.8148 - val_loss: 0.5785 - val_accuracy: 0.8022\n",
      "Epoch 16/70\n",
      "1875/1875 [==============================] - 2s 1ms/step - loss: 0.5232 - accuracy: 0.8168 - val_loss: 0.5693 - val_accuracy: 0.8041\n",
      "Epoch 17/70\n",
      "1875/1875 [==============================] - 2s 1ms/step - loss: 0.5207 - accuracy: 0.8167 - val_loss: 0.5634 - val_accuracy: 0.8058\n",
      "Epoch 18/70\n",
      "1875/1875 [==============================] - 2s 956us/step - loss: 0.5195 - accuracy: 0.8167 - val_loss: 0.5671 - val_accuracy: 0.8051\n",
      "Epoch 19/70\n",
      "1875/1875 [==============================] - 3s 1ms/step - loss: 0.5178 - accuracy: 0.8185 - val_loss: 0.5644 - val_accuracy: 0.8046\n",
      "Epoch 20/70\n",
      "1875/1875 [==============================] - 2s 1ms/step - loss: 0.5161 - accuracy: 0.8182 - val_loss: 0.5680 - val_accuracy: 0.8054\n",
      "Epoch 21/70\n",
      "1875/1875 [==============================] - 2s 1ms/step - loss: 0.5144 - accuracy: 0.8185 - val_loss: 0.5631 - val_accuracy: 0.8058\n",
      "Epoch 22/70\n",
      "1875/1875 [==============================] - 2s 942us/step - loss: 0.5127 - accuracy: 0.8198 - val_loss: 0.5626 - val_accuracy: 0.8069\n",
      "Epoch 23/70\n",
      "1875/1875 [==============================] - 2s 1ms/step - loss: 0.5120 - accuracy: 0.8197 - val_loss: 0.5834 - val_accuracy: 0.7950\n",
      "Epoch 24/70\n",
      "1875/1875 [==============================] - 2s 1ms/step - loss: 0.5115 - accuracy: 0.8203 - val_loss: 0.5648 - val_accuracy: 0.8073\n",
      "Epoch 25/70\n",
      "1875/1875 [==============================] - 2s 1ms/step - loss: 0.5104 - accuracy: 0.8206 - val_loss: 0.5745 - val_accuracy: 0.8033\n",
      "Epoch 26/70\n",
      "1875/1875 [==============================] - 2s 978us/step - loss: 0.5108 - accuracy: 0.8201 - val_loss: 0.5612 - val_accuracy: 0.8075\n",
      "Epoch 27/70\n",
      "1875/1875 [==============================] - 2s 1ms/step - loss: 0.5093 - accuracy: 0.8207 - val_loss: 0.5688 - val_accuracy: 0.8071\n",
      "Epoch 28/70\n",
      "1875/1875 [==============================] - 2s 1ms/step - loss: 0.5076 - accuracy: 0.8224 - val_loss: 0.5674 - val_accuracy: 0.8034\n",
      "Epoch 29/70\n",
      "1875/1875 [==============================] - 2s 1ms/step - loss: 0.5072 - accuracy: 0.8220 - val_loss: 0.5689 - val_accuracy: 0.8061\n",
      "Epoch 30/70\n",
      "1875/1875 [==============================] - 2s 957us/step - loss: 0.5067 - accuracy: 0.8215 - val_loss: 0.5648 - val_accuracy: 0.8080\n",
      "Epoch 31/70\n",
      "1875/1875 [==============================] - 2s 1ms/step - loss: 0.5065 - accuracy: 0.8212 - val_loss: 0.5640 - val_accuracy: 0.8025\n",
      "Epoch 32/70\n",
      "1875/1875 [==============================] - 2s 983us/step - loss: 0.5060 - accuracy: 0.8227 - val_loss: 0.5735 - val_accuracy: 0.8051\n",
      "Epoch 33/70\n",
      "1875/1875 [==============================] - 2s 1ms/step - loss: 0.5053 - accuracy: 0.8221 - val_loss: 0.5594 - val_accuracy: 0.8054\n",
      "Epoch 34/70\n",
      "1875/1875 [==============================] - 2s 1ms/step - loss: 0.5040 - accuracy: 0.8227 - val_loss: 0.5614 - val_accuracy: 0.8062\n",
      "Epoch 35/70\n",
      "1875/1875 [==============================] - 2s 1ms/step - loss: 0.5033 - accuracy: 0.8241 - val_loss: 0.5735 - val_accuracy: 0.8030\n",
      "Epoch 36/70\n",
      "1875/1875 [==============================] - 2s 1ms/step - loss: 0.5031 - accuracy: 0.8218 - val_loss: 0.5564 - val_accuracy: 0.8080\n",
      "Epoch 37/70\n",
      "1875/1875 [==============================] - 2s 985us/step - loss: 0.5017 - accuracy: 0.8238 - val_loss: 0.5639 - val_accuracy: 0.8046\n",
      "Epoch 38/70\n",
      "1875/1875 [==============================] - 2s 1ms/step - loss: 0.5027 - accuracy: 0.8242 - val_loss: 0.5510 - val_accuracy: 0.8091\n",
      "Epoch 39/70\n",
      "1875/1875 [==============================] - 2s 979us/step - loss: 0.5012 - accuracy: 0.8241 - val_loss: 0.5601 - val_accuracy: 0.8044\n",
      "Epoch 40/70\n",
      "1875/1875 [==============================] - 2s 953us/step - loss: 0.5009 - accuracy: 0.8238 - val_loss: 0.5554 - val_accuracy: 0.8068\n",
      "Epoch 41/70\n",
      "1875/1875 [==============================] - 2s 969us/step - loss: 0.5006 - accuracy: 0.8247 - val_loss: 0.5596 - val_accuracy: 0.8029\n",
      "Epoch 42/70\n",
      "1875/1875 [==============================] - 2s 1ms/step - loss: 0.5011 - accuracy: 0.8241 - val_loss: 0.5543 - val_accuracy: 0.8099\n",
      "Epoch 43/70\n",
      "1875/1875 [==============================] - 2s 1ms/step - loss: 0.4998 - accuracy: 0.8228 - val_loss: 0.5546 - val_accuracy: 0.8090\n",
      "Epoch 44/70\n",
      "1875/1875 [==============================] - 2s 1ms/step - loss: 0.4997 - accuracy: 0.8239 - val_loss: 0.5700 - val_accuracy: 0.8032\n",
      "Epoch 45/70\n",
      "1875/1875 [==============================] - 2s 990us/step - loss: 0.5003 - accuracy: 0.8248 - val_loss: 0.5568 - val_accuracy: 0.8115\n",
      "Epoch 46/70\n",
      "1875/1875 [==============================] - 2s 1ms/step - loss: 0.4980 - accuracy: 0.8244 - val_loss: 0.5590 - val_accuracy: 0.8080\n",
      "Epoch 47/70\n",
      "1875/1875 [==============================] - 3s 1ms/step - loss: 0.4977 - accuracy: 0.8254 - val_loss: 0.5620 - val_accuracy: 0.8061\n",
      "Epoch 48/70\n",
      "1875/1875 [==============================] - 2s 1ms/step - loss: 0.4983 - accuracy: 0.8256 - val_loss: 0.5618 - val_accuracy: 0.8050\n",
      "Epoch 49/70\n",
      "1875/1875 [==============================] - 2s 1ms/step - loss: 0.4987 - accuracy: 0.8251 - val_loss: 0.5550 - val_accuracy: 0.8054999 - accuracy: \n",
      "Epoch 50/70\n",
      "1875/1875 [==============================] - 3s 1ms/step - loss: 0.4984 - accuracy: 0.8247 - val_loss: 0.5678 - val_accuracy: 0.8044\n",
      "Epoch 51/70\n",
      "1875/1875 [==============================] - 2s 1ms/step - loss: 0.4978 - accuracy: 0.8246 - val_loss: 0.5659 - val_accuracy: 0.8046\n",
      "Epoch 52/70\n",
      "1875/1875 [==============================] - 2s 1ms/step - loss: 0.4969 - accuracy: 0.8259 - val_loss: 0.5598 - val_accuracy: 0.8036\n",
      "Epoch 53/70\n",
      "1875/1875 [==============================] - 3s 2ms/step - loss: 0.4977 - accuracy: 0.8249 - val_loss: 0.5596 - val_accuracy: 0.8038\n",
      "Epoch 54/70\n",
      "1875/1875 [==============================] - 2s 1ms/step - loss: 0.4971 - accuracy: 0.8257 - val_loss: 0.5543 - val_accuracy: 0.8103\n",
      "Epoch 55/70\n",
      "1875/1875 [==============================] - 2s 1ms/step - loss: 0.4966 - accuracy: 0.8265 - val_loss: 0.5568 - val_accuracy: 0.8073\n",
      "Epoch 56/70\n",
      "1875/1875 [==============================] - 2s 1ms/step - loss: 0.4960 - accuracy: 0.8243 - val_loss: 0.5579 - val_accuracy: 0.8059\n",
      "Epoch 57/70\n"
     ]
    },
    {
     "name": "stdout",
     "output_type": "stream",
     "text": [
      "1875/1875 [==============================] - 2s 1ms/step - loss: 0.4958 - accuracy: 0.8265 - val_loss: 0.5687 - val_accuracy: 0.8055\n",
      "Epoch 58/70\n",
      "1875/1875 [==============================] - 2s 1ms/step - loss: 0.4971 - accuracy: 0.8257 - val_loss: 0.5550 - val_accuracy: 0.8073\n",
      "Epoch 59/70\n",
      "1875/1875 [==============================] - 2s 931us/step - loss: 0.4960 - accuracy: 0.8253 - val_loss: 0.5836 - val_accuracy: 0.8006\n",
      "Epoch 60/70\n",
      "1875/1875 [==============================] - 2s 1ms/step - loss: 0.4971 - accuracy: 0.8262 - val_loss: 0.5531 - val_accuracy: 0.8109\n",
      "Epoch 61/70\n",
      "1875/1875 [==============================] - 3s 1ms/step - loss: 0.4948 - accuracy: 0.8275 - val_loss: 0.5706 - val_accuracy: 0.8034\n",
      "Epoch 62/70\n",
      "1875/1875 [==============================] - 2s 1ms/step - loss: 0.4951 - accuracy: 0.8245 - val_loss: 0.5539 - val_accuracy: 0.8085\n",
      "Epoch 63/70\n",
      "1875/1875 [==============================] - 2s 987us/step - loss: 0.4958 - accuracy: 0.8259 - val_loss: 0.5527 - val_accuracy: 0.8072\n",
      "Epoch 64/70\n",
      "1875/1875 [==============================] - 2s 978us/step - loss: 0.4956 - accuracy: 0.8261 - val_loss: 0.5542 - val_accuracy: 0.8095\n",
      "Epoch 65/70\n",
      "1875/1875 [==============================] - 4s 2ms/step - loss: 0.4941 - accuracy: 0.8254 - val_loss: 0.5508 - val_accuracy: 0.8105\n",
      "Epoch 66/70\n",
      "1875/1875 [==============================] - 2s 1ms/step - loss: 0.4942 - accuracy: 0.8273 - val_loss: 0.5563 - val_accuracy: 0.8100\n",
      "Epoch 67/70\n",
      "1875/1875 [==============================] - 2s 1ms/step - loss: 0.4941 - accuracy: 0.8271 - val_loss: 0.5509 - val_accuracy: 0.8107\n",
      "Epoch 68/70\n",
      "1875/1875 [==============================] - 2s 1ms/step - loss: 0.4944 - accuracy: 0.8265 - val_loss: 0.5575 - val_accuracy: 0.8056\n",
      "Epoch 69/70\n",
      "1875/1875 [==============================] - 2s 1ms/step - loss: 0.4939 - accuracy: 0.8255 - val_loss: 0.5585 - val_accuracy: 0.8078\n",
      "Epoch 70/70\n",
      "1875/1875 [==============================] - 2s 1ms/step - loss: 0.4948 - accuracy: 0.8255 - val_loss: 0.5704 - val_accuracy: 0.8049\n"
     ]
    }
   ],
   "source": [
    "#define\n",
    "mf4 = tf.keras.Sequential([\n",
    "    tf.keras.layers.Flatten(input_shape = (28,28)), # flattens the image \n",
    "    tf.keras.layers.Dense(4, tf.keras.activations.relu),\n",
    "    tf.keras.layers.Dense(4, tf.keras.activations.relu),\n",
    "    tf.keras.layers.Dense(10, tf.keras.activations.softmax)\n",
    "])\n",
    "\n",
    "#compile\n",
    "mf4.compile(\n",
    "    loss = tf.keras.losses.SparseCategoricalCrossentropy(),\n",
    "    optimizer = tf.keras.optimizers.Adam(lr = 0.001),\n",
    "    metrics = [\"accuracy\"]\n",
    ")\n",
    "\n",
    "#train\n",
    "mf4_hist = mf4.fit(x_train_fashion_norm,\n",
    "                   y_train_fashion,\n",
    "                   epochs = 70,\n",
    "                   validation_data = (x_test_fashion_norm, y_test_fashion))"
   ]
  },
  {
   "cell_type": "markdown",
   "id": "8218f5ac",
   "metadata": {},
   "source": [
    "### <font color = \"purple\"> plotting the confution matrix </font>"
   ]
  },
  {
   "cell_type": "code",
   "execution_count": 64,
   "id": "acaddc7a",
   "metadata": {},
   "outputs": [
    {
     "data": {
      "text/plain": [
       "(10000, 10)"
      ]
     },
     "execution_count": 64,
     "metadata": {},
     "output_type": "execute_result"
    }
   ],
   "source": [
    "#pridict labels\n",
    "mf4_pred = mf4.predict(x_test_fashion_norm)\n",
    "mf4_pred.shape"
   ]
  },
  {
   "cell_type": "code",
   "execution_count": 66,
   "id": "d6f4acea",
   "metadata": {},
   "outputs": [
    {
     "data": {
      "text/plain": [
       "array([4.5650519e-12, 1.6823477e-16, 2.5169459e-14, 1.5099130e-07,\n",
       "       4.6889925e-10, 1.9638266e-01, 6.6279912e-11, 1.4811367e-01,\n",
       "       7.9254578e-06, 6.5549558e-01], dtype=float32)"
      ]
     },
     "execution_count": 66,
     "metadata": {},
     "output_type": "execute_result"
    }
   ],
   "source": [
    "mf4_pred[0] #check format"
   ]
  },
  {
   "cell_type": "code",
   "execution_count": 68,
   "id": "2609f327",
   "metadata": {},
   "outputs": [],
   "source": [
    "#convert the probabilities to classes\n",
    "mf4_pred = tf.argmax(mf4_pred, axis = 1)"
   ]
  },
  {
   "cell_type": "code",
   "execution_count": 69,
   "id": "8e04fa25",
   "metadata": {},
   "outputs": [
    {
     "data": {
      "text/plain": [
       "9"
      ]
     },
     "execution_count": 69,
     "metadata": {},
     "output_type": "execute_result"
    }
   ],
   "source": [
    "mf4_pred[0].numpy()"
   ]
  },
  {
   "cell_type": "code",
   "execution_count": 70,
   "id": "81ec017a",
   "metadata": {},
   "outputs": [
    {
     "data": {
      "image/png": "[encoded data removed]",
      "text/plain": [
       "<Figure size 1440x1440 with 2 Axes>"
      ]
     },
     "metadata": {
      "needs_background": "light"
     },
     "output_type": "display_data"
    }
   ],
   "source": [
    "plot_confusion_matrix(y_test_fashion,mf4_pred, classes=class_names, figsize=(20, 20) )"
   ]
  },
  {
   "cell_type": "markdown",
   "id": "ec245f6b",
   "metadata": {},
   "source": [
    "**Observation** <font color = 'orange'> The model is to some extent confused between shirt and t-shirt; shirt and coat; pullover and coat, etc </font>\n",
    "- think of ways to reduce on this confution e.g merge classes, get more data among others"
   ]
  },
  {
   "cell_type": "markdown",
   "id": "488b1d05",
   "metadata": {},
   "source": [
    "### <a name = \"a10\" ><font color = \"purple\"> visualisng the predications function </font></a>"
   ]
  },
  {
   "cell_type": "code",
   "execution_count": 71,
   "id": "2eca0057",
   "metadata": {},
   "outputs": [],
   "source": [
    "import random\n",
    "\n",
    "# Create a function for plotting a random image along with its prediction\n",
    "def plot_random_image(model, images, true_labels, classes):\n",
    "  \"\"\"Picks a random image, plots it and labels it with a predicted and truth label.\n",
    "\n",
    "  Args:\n",
    "    model: a trained model (trained on data similar to what's in images).\n",
    "    images: a set of random images (in tensor form).\n",
    "    true_labels: array of ground truth labels for images.\n",
    "    classes: array of class names for images.\n",
    "  \n",
    "  Returns:\n",
    "    A plot of a random image from `images` with a predicted class label from `model`\n",
    "    as well as the truth class label from `true_labels`.\n",
    "  \"\"\" \n",
    "  # Setup random integer\n",
    "  i = random.randint(0, len(images))\n",
    "  \n",
    "  # Create predictions and targets\n",
    "  target_image = images[i]\n",
    "  pred_probs = model.predict(target_image.reshape(1, 28, 28)) # have to reshape to get into right size for model\n",
    "  pred_label = classes[pred_probs.argmax()]\n",
    "  true_label = classes[true_labels[i]]\n",
    "\n",
    "  # Plot the target image\n",
    "  plt.imshow(target_image, cmap=plt.cm.binary)\n",
    "\n",
    "  # Change the color of the titles depending on if the prediction is right or wrong\n",
    "  if pred_label == true_label:\n",
    "    color = \"green\"\n",
    "  else:\n",
    "    color = \"red\"\n",
    "\n",
    "  # Add xlabel information (prediction/true label)\n",
    "  plt.xlabel(\"Pred: {} {:2.0f}% (True: {})\".format(pred_label,\n",
    "                                                   100*tf.reduce_max(pred_probs),\n",
    "                                                   true_label),\n",
    "             color=color) # set the color to green or red"
   ]
  },
  {
   "cell_type": "code",
   "execution_count": 73,
   "id": "901d0d5e",
   "metadata": {},
   "outputs": [
    {
     "data": {
      "image/png": "[encoded data removed]",
      "text/plain": [
       "<Figure size 432x288 with 1 Axes>"
      ]
     },
     "metadata": {
      "needs_background": "light"
     },
     "output_type": "display_data"
    }
   ],
   "source": [
    "# Check out a random image as well as its prediction\n",
    "plot_random_image(model = mf4, \n",
    "                  images = x_test_fashion, \n",
    "                  true_labels = y_test_fashion, \n",
    "                  classes = class_names)"
   ]
  },
  {
   "cell_type": "markdown",
   "id": "dd60eb99",
   "metadata": {},
   "source": [
    "## <a  name = \"a9\"><font color = \"green\"> Obtaining model properties </font></a>"
   ]
  },
  {
   "cell_type": "markdown",
   "id": "9803c3b1",
   "metadata": {},
   "source": [
    "#### <font color = \"purple\"> find model layers </font>"
   ]
  },
  {
   "cell_type": "code",
   "execution_count": 74,
   "id": "789f02cd",
   "metadata": {},
   "outputs": [
    {
     "data": {
      "text/plain": [
       "[<tensorflow.python.keras.layers.core.Flatten at 0x2d71401e670>,\n",
       " <tensorflow.python.keras.layers.core.Dense at 0x2d71401e8b0>,\n",
       " <tensorflow.python.keras.layers.core.Dense at 0x2d71401ec40>,\n",
       " <tensorflow.python.keras.layers.core.Dense at 0x2d71401ef70>]"
      ]
     },
     "execution_count": 74,
     "metadata": {},
     "output_type": "execute_result"
    }
   ],
   "source": [
    "mf4.layers"
   ]
  },
  {
   "cell_type": "markdown",
   "id": "e0c32bfc",
   "metadata": {},
   "source": [
    "#### <font color = \"purple\"> Extract a particular layer </font>"
   ]
  },
  {
   "cell_type": "code",
   "execution_count": 75,
   "id": "af8dd1f4",
   "metadata": {},
   "outputs": [
    {
     "data": {
      "text/plain": [
       "<tensorflow.python.keras.layers.core.Dense at 0x2d71401ef70>"
      ]
     },
     "execution_count": 75,
     "metadata": {},
     "output_type": "execute_result"
    }
   ],
   "source": [
    "mf4.layers[3]"
   ]
  },
  {
   "cell_type": "markdown",
   "id": "65749eed",
   "metadata": {},
   "source": [
    "#### <font color = \"purple\"> Extract model parameters </font>"
   ]
  },
  {
   "cell_type": "code",
   "execution_count": 77,
   "id": "155ba051",
   "metadata": {},
   "outputs": [
    {
     "data": {
      "text/plain": [
       "(array([[ 1.9663733e+00, -5.9205223e-02,  2.0687103e+00, -3.3143532e+00],\n",
       "        [ 4.2832384e+00, -4.6454512e-02,  2.4420073e+00, -3.6696935e-01],\n",
       "        [ 3.9607942e+00, -3.5598882e-02,  1.9196608e+00, -3.5664716e+00],\n",
       "        ...,\n",
       "        [-3.4491830e-03, -7.2613567e-02,  2.6014748e-01, -5.5577278e-01],\n",
       "        [ 5.3815770e-01, -5.3879891e-02, -7.8399646e-01,  1.2513384e+00],\n",
       "        [-1.0430456e-02,  1.7044567e-02,  9.2798397e-02, -7.2251308e-01]],\n",
       "       dtype=float32),\n",
       " (784, 4))"
      ]
     },
     "execution_count": 77,
     "metadata": {},
     "output_type": "execute_result"
    }
   ],
   "source": [
    "weights, biases = mf4.layers[1].get_weights()\n",
    "\n",
    "# Shape = 1 weight matrix the size of our input data (28x28) per neuron (4)\n",
    "weights, weights.shape"
   ]
  },
  {
   "cell_type": "code",
   "execution_count": 78,
   "id": "2dad6fc1",
   "metadata": {},
   "outputs": [
    {
     "data": {
      "text/plain": [
       "(array([ 3.4700468 , -0.01772749,  3.0179706 ,  1.7793356 ], dtype=float32),\n",
       " (4,))"
      ]
     },
     "execution_count": 78,
     "metadata": {},
     "output_type": "execute_result"
    }
   ],
   "source": [
    "# Shape = 1 bias per neuron (we use 4 neurons in the first layer)\n",
    "biases, biases.shape"
   ]
  },
  {
   "cell_type": "markdown",
   "id": "7c9a097e",
   "metadata": {},
   "source": [
    "#### <font color = \"purple\"> obtain the model's summery </font>"
   ]
  },
  {
   "cell_type": "code",
   "execution_count": 79,
   "id": "9bf55fbb",
   "metadata": {},
   "outputs": [
    {
     "name": "stdout",
     "output_type": "stream",
     "text": [
      "Model: \"sequential_9\"\n",
      "_________________________________________________________________\n",
      "Layer (type)                 Output Shape              Param #   \n",
      "=================================================================\n",
      "flatten_3 (Flatten)          (None, 784)               0         \n",
      "_________________________________________________________________\n",
      "dense_24 (Dense)             (None, 4)                 3140      \n",
      "_________________________________________________________________\n",
      "dense_25 (Dense)             (None, 4)                 20        \n",
      "_________________________________________________________________\n",
      "dense_26 (Dense)             (None, 10)                50        \n",
      "=================================================================\n",
      "Total params: 3,210\n",
      "Trainable params: 3,210\n",
      "Non-trainable params: 0\n",
      "_________________________________________________________________\n"
     ]
    }
   ],
   "source": [
    "mf4.summary()"
   ]
  },
  {
   "cell_type": "markdown",
   "id": "5106a0cf",
   "metadata": {},
   "source": [
    "#### <font color = \"purple\"> plot the model architecture </font>"
   ]
  },
  {
   "cell_type": "code",
   "execution_count": 83,
   "id": "edc97b0b",
   "metadata": {},
   "outputs": [
    {
     "name": "stdout",
     "output_type": "stream",
     "text": [
      "('Failed to import pydot. You must `pip install pydot` and install graphviz (https://graphviz.gitlab.io/download/), ', 'for `pydotprint` to work.')\n"
     ]
    }
   ],
   "source": [
    "from tensorflow.keras.utils import plot_model\n",
    "\n",
    "# See the inputs and outputs of each layer\n",
    "plot_model(mf4, show_shapes=True)"
   ]
  },
  {
   "cell_type": "code",
   "execution_count": 82,
   "id": "bb64643f",
   "metadata": {},
   "outputs": [
    {
     "name": "stdout",
     "output_type": "stream",
     "text": [
      "Requirement already satisfied: pydot in c:\\users\\emox\\anaconda3\\envs\\tf\\lib\\site-packages (1.4.2)\n",
      "Requirement already satisfied: pyparsing>=2.1.4 in c:\\users\\emox\\anaconda3\\envs\\tf\\lib\\site-packages (from pydot) (2.4.7)\n"
     ]
    }
   ],
   "source": [
    "!pip install pydot"
   ]
  },
  {
   "cell_type": "markdown",
   "id": "84102f5b",
   "metadata": {},
   "source": [
    "<a href = #top  style = \"text-decoration:none\" > go to top</a></br>\n",
    "<a name = \"bottom\"></a>"
   ]
  }
 ],
 "metadata": {
  "kernelspec": {
   "display_name": "Python 3 (ipykernel)",
   "language": "python",
   "name": "python3"
  },
  "language_info": {
   "codemirror_mode": {
    "name": "ipython",
    "version": 3
   },
   "file_extension": ".py",
   "mimetype": "text/x-python",
   "name": "python",
   "nbconvert_exporter": "python",
   "pygments_lexer": "ipython3",
   "version": "3.8.11"
  }
 },
 "nbformat": 4,
 "nbformat_minor": 5
}
