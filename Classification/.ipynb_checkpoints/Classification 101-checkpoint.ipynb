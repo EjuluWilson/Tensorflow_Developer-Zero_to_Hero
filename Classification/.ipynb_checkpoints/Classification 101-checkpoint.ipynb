{
 "cells": [
  {
   "cell_type": "markdown",
   "id": "cff3ec2e",
   "metadata": {},
   "source": [
    "# <a  name = \"\"><font color = \"brown\"> Title 1</font></a>"
   ]
  },
  {
   "cell_type": "markdown",
   "id": "dd9a31bf",
   "metadata": {},
   "source": [
    "## <a  name = \"\"><font color = \"green\"> Title 3 </font></a>"
   ]
  },
  {
   "cell_type": "markdown",
   "id": "b17a4a0a",
   "metadata": {},
   "source": [
    "### <font color = \"purple\"> Title 2 </font>"
   ]
  },
  {
   "cell_type": "markdown",
   "id": "fe78c1e9",
   "metadata": {},
   "source": [
    "#### <font color = \"orange\"> Title 4 </font>"
   ]
  },
  {
   "cell_type": "markdown",
   "id": "8d4814d1",
   "metadata": {},
   "source": [
    "##### <font color = \"darkcyan\"> Titltle 5 </font>"
   ]
  },
  {
   "cell_type": "markdown",
   "id": "3ecb1624",
   "metadata": {},
   "source": [
    "> **NOTE:** This is how we do it"
   ]
  },
  {
   "cell_type": "markdown",
   "id": "e39635e9",
   "metadata": {},
   "source": [
    "<a href = #bottom  style = \"text-decoration:none\"> go to bottom</a></br>\n",
    "<a name = \"top\"></a>"
   ]
  },
  {
   "cell_type": "markdown",
   "id": "171d7f1a",
   "metadata": {},
   "source": [
    "# <font color = \"brown\"> Content </font>"
   ]
  },
  {
   "cell_type": "markdown",
   "id": "97674920",
   "metadata": {},
   "source": [
    "<a href = #a0  style = \"text-decoration:none\"> Modelling steps</a></br>"
   ]
  },
  {
   "cell_type": "markdown",
   "id": "45f497e3",
   "metadata": {},
   "source": [
    "<a href = #m1  style = \"text-decoration:none\">  Modelling</a>"
   ]
  },
  {
   "cell_type": "markdown",
   "id": "a955a7e5",
   "metadata": {},
   "source": [
    "<a href = #a1  style = \"text-decoration:none\">  Generate classification dataset from sklearn</a>"
   ]
  },
  {
   "cell_type": "markdown",
   "id": "baafada0",
   "metadata": {},
   "source": [
    "<a href = #a2  style = \"text-decoration:none\">  data visialisation function</a>"
   ]
  },
  {
   "cell_type": "markdown",
   "id": "b8ce434c",
   "metadata": {},
   "source": [
    "<a href = #a3  style = \"text-decoration:none\"> visualising loss curves</a>"
   ]
  },
  {
   "cell_type": "markdown",
   "id": "bbc7058e",
   "metadata": {},
   "source": [
    "<a href = #a4  style = \"text-decoration:none\"> Findiing the best learning rate</a>"
   ]
  },
  {
   "cell_type": "markdown",
   "id": "c1aca4b0",
   "metadata": {},
   "source": [
    "# <a  name = \"a0\"><font color = \"brown\"> Modelling steps </font></a>"
   ]
  },
  {
   "cell_type": "markdown",
   "id": "f3413f16",
   "metadata": {},
   "source": [
    "### <font color = \"green\"> 1. Create or import a model </font>"
   ]
  },
  {
   "cell_type": "markdown",
   "id": "f928a1d3",
   "metadata": {},
   "source": [
    "### <font color = \"green\"> 2. Compile the model  </font>"
   ]
  },
  {
   "cell_type": "markdown",
   "id": "1f922d0b",
   "metadata": {},
   "source": [
    "### <font color = \"green\"> 3. Compile the model  </font>"
   ]
  },
  {
   "cell_type": "markdown",
   "id": "3a524316",
   "metadata": {},
   "source": [
    "### <font color = \"green\"> 4. Tweak the model  </font>"
   ]
  },
  {
   "cell_type": "markdown",
   "id": "9b25e59e",
   "metadata": {},
   "source": [
    "### <font color = \"green\"> 5. Evaluate the model  </font>"
   ]
  },
  {
   "cell_type": "markdown",
   "id": "c62bc99b",
   "metadata": {},
   "source": [
    "### <font color = \"green\"> 6. Alternate between step 5 and 6 to get the best results  </font>"
   ]
  },
  {
   "cell_type": "markdown",
   "id": "b5dbe1ac",
   "metadata": {},
   "source": [
    "# <a  name = \"a1\"><font color = \"brown\"> Generate classification dataset from sklearn</font></a>"
   ]
  },
  {
   "cell_type": "code",
   "execution_count": 88,
   "id": "33f04198",
   "metadata": {},
   "outputs": [],
   "source": [
    "from sklearn.datasets import make_circles\n",
    "n_samples = 1000 #number of samples \n",
    "#creating the circles \n",
    "x, y = make_circles(\n",
    "    n_samples=n_samples,\n",
    "    shuffle=True,\n",
    "    noise=0.03,\n",
    "    random_state=42\n",
    ")"
   ]
  },
  {
   "cell_type": "code",
   "execution_count": 89,
   "id": "77d01fb9",
   "metadata": {},
   "outputs": [
    {
     "data": {
      "text/plain": [
       "array([[ 0.75424625,  0.23148074],\n",
       "       [-0.75615888,  0.15325888],\n",
       "       [-0.81539193,  0.17328203],\n",
       "       ...,\n",
       "       [-0.13690036, -0.81001183],\n",
       "       [ 0.67036156, -0.76750154],\n",
       "       [ 0.28105665,  0.96382443]])"
      ]
     },
     "execution_count": 89,
     "metadata": {},
     "output_type": "execute_result"
    }
   ],
   "source": [
    "x"
   ]
  },
  {
   "cell_type": "code",
   "execution_count": 90,
   "id": "ab8914cd",
   "metadata": {},
   "outputs": [
    {
     "data": {
      "text/plain": [
       "array([1, 1, 1, 1, 0, 1, 1, 1, 1, 0, 1, 0, 1, 1, 1, 1, 0, 1, 1, 0, 1, 0,\n",
       "       0, 1, 0, 0, 0, 1, 1, 1, 0, 0, 1, 0, 0, 0, 1, 1, 1, 0, 0, 0, 0, 1,\n",
       "       0, 0, 1, 1, 0, 1], dtype=int64)"
      ]
     },
     "execution_count": 90,
     "metadata": {},
     "output_type": "execute_result"
    }
   ],
   "source": [
    "y[:50]"
   ]
  },
  {
   "cell_type": "markdown",
   "id": "152387a2",
   "metadata": {},
   "source": [
    "### <font color = \"green\"> Visualize the dataset </font>"
   ]
  },
  {
   "cell_type": "code",
   "execution_count": 91,
   "id": "6b279446",
   "metadata": {},
   "outputs": [],
   "source": [
    "import pandas as pd"
   ]
  },
  {
   "cell_type": "code",
   "execution_count": 92,
   "id": "605a5a9b",
   "metadata": {},
   "outputs": [
    {
     "data": {
      "text/html": [
       "<div>\n",
       "<style scoped>\n",
       "    .dataframe tbody tr th:only-of-type {\n",
       "        vertical-align: middle;\n",
       "    }\n",
       "\n",
       "    .dataframe tbody tr th {\n",
       "        vertical-align: top;\n",
       "    }\n",
       "\n",
       "    .dataframe thead th {\n",
       "        text-align: right;\n",
       "    }\n",
       "</style>\n",
       "<table border=\"1\" class=\"dataframe\">\n",
       "  <thead>\n",
       "    <tr style=\"text-align: right;\">\n",
       "      <th></th>\n",
       "      <th>x0</th>\n",
       "      <th>x1</th>\n",
       "      <th>y</th>\n",
       "    </tr>\n",
       "  </thead>\n",
       "  <tbody>\n",
       "    <tr>\n",
       "      <th>0</th>\n",
       "      <td>0.754246</td>\n",
       "      <td>0.231481</td>\n",
       "      <td>1</td>\n",
       "    </tr>\n",
       "    <tr>\n",
       "      <th>1</th>\n",
       "      <td>-0.756159</td>\n",
       "      <td>0.153259</td>\n",
       "      <td>1</td>\n",
       "    </tr>\n",
       "    <tr>\n",
       "      <th>2</th>\n",
       "      <td>-0.815392</td>\n",
       "      <td>0.173282</td>\n",
       "      <td>1</td>\n",
       "    </tr>\n",
       "    <tr>\n",
       "      <th>3</th>\n",
       "      <td>-0.393731</td>\n",
       "      <td>0.692883</td>\n",
       "      <td>1</td>\n",
       "    </tr>\n",
       "    <tr>\n",
       "      <th>4</th>\n",
       "      <td>0.442208</td>\n",
       "      <td>-0.896723</td>\n",
       "      <td>0</td>\n",
       "    </tr>\n",
       "    <tr>\n",
       "      <th>...</th>\n",
       "      <td>...</td>\n",
       "      <td>...</td>\n",
       "      <td>...</td>\n",
       "    </tr>\n",
       "    <tr>\n",
       "      <th>995</th>\n",
       "      <td>0.244054</td>\n",
       "      <td>0.944125</td>\n",
       "      <td>0</td>\n",
       "    </tr>\n",
       "    <tr>\n",
       "      <th>996</th>\n",
       "      <td>-0.978655</td>\n",
       "      <td>-0.272373</td>\n",
       "      <td>0</td>\n",
       "    </tr>\n",
       "    <tr>\n",
       "      <th>997</th>\n",
       "      <td>-0.136900</td>\n",
       "      <td>-0.810012</td>\n",
       "      <td>1</td>\n",
       "    </tr>\n",
       "    <tr>\n",
       "      <th>998</th>\n",
       "      <td>0.670362</td>\n",
       "      <td>-0.767502</td>\n",
       "      <td>0</td>\n",
       "    </tr>\n",
       "    <tr>\n",
       "      <th>999</th>\n",
       "      <td>0.281057</td>\n",
       "      <td>0.963824</td>\n",
       "      <td>0</td>\n",
       "    </tr>\n",
       "  </tbody>\n",
       "</table>\n",
       "<p>1000 rows × 3 columns</p>\n",
       "</div>"
      ],
      "text/plain": [
       "           x0        x1  y\n",
       "0    0.754246  0.231481  1\n",
       "1   -0.756159  0.153259  1\n",
       "2   -0.815392  0.173282  1\n",
       "3   -0.393731  0.692883  1\n",
       "4    0.442208 -0.896723  0\n",
       "..        ...       ... ..\n",
       "995  0.244054  0.944125  0\n",
       "996 -0.978655 -0.272373  0\n",
       "997 -0.136900 -0.810012  1\n",
       "998  0.670362 -0.767502  0\n",
       "999  0.281057  0.963824  0\n",
       "\n",
       "[1000 rows x 3 columns]"
      ]
     },
     "execution_count": 92,
     "metadata": {},
     "output_type": "execute_result"
    }
   ],
   "source": [
    "circles_df = pd.DataFrame(data = {'x0': x[:,0], 'x1': x[:,1], 'y':y})\n",
    "circles_df"
   ]
  },
  {
   "cell_type": "code",
   "execution_count": 93,
   "id": "b90f95f3",
   "metadata": {},
   "outputs": [
    {
     "data": {
      "text/plain": [
       "<matplotlib.collections.PathCollection at 0x1886c6d1ac0>"
      ]
     },
     "execution_count": 93,
     "metadata": {},
     "output_type": "execute_result"
    },
    {
     "data": {
      "image/png": "[encoded data removed]",
      "text/plain": [
       "<Figure size 432x288 with 1 Axes>"
      ]
     },
     "metadata": {
      "needs_background": "light"
     },
     "output_type": "display_data"
    }
   ],
   "source": [
    "import matplotlib.pyplot as plt\n",
    "plt.scatter(x[:,0], x[:,1], c =y , cmap = plt.cm.RdYlBu)"
   ]
  },
  {
   "cell_type": "markdown",
   "id": "aade7c57",
   "metadata": {},
   "source": [
    "# <a  name = \"m1\"><font color = \"brown\"> Modelling</font></a>"
   ]
  },
  {
   "cell_type": "code",
   "execution_count": 94,
   "id": "d0baca1f",
   "metadata": {},
   "outputs": [
    {
     "data": {
      "text/plain": [
       "'2.3.0'"
      ]
     },
     "execution_count": 94,
     "metadata": {},
     "output_type": "execute_result"
    }
   ],
   "source": [
    "import tensorflow as tf\n",
    "tf.__version__"
   ]
  },
  {
   "cell_type": "markdown",
   "id": "832b7a23",
   "metadata": {},
   "source": [
    "## <font color = \"purple\"> model_1a </font>"
   ]
  },
  {
   "cell_type": "code",
   "execution_count": 95,
   "id": "99bec4f7",
   "metadata": {},
   "outputs": [
    {
     "name": "stdout",
     "output_type": "stream",
     "text": [
      "Epoch 1/5\n",
      "32/32 [==============================] - 0s 1ms/step - loss: 2.8544 - accuracy: 0.4600\n",
      "Epoch 2/5\n",
      "32/32 [==============================] - 0s 919us/step - loss: 0.7131 - accuracy: 0.5430\n",
      "Epoch 3/5\n",
      "32/32 [==============================] - 0s 1ms/step - loss: 0.6973 - accuracy: 0.5090\n",
      "Epoch 4/5\n",
      "32/32 [==============================] - 0s 1ms/step - loss: 0.6950 - accuracy: 0.5010\n",
      "Epoch 5/5\n",
      "32/32 [==============================] - 0s 968us/step - loss: 0.6942 - accuracy: 0.4820\n"
     ]
    },
    {
     "data": {
      "text/plain": [
       "<tensorflow.python.keras.callbacks.History at 0x1886c9bf8b0>"
      ]
     },
     "execution_count": 95,
     "metadata": {},
     "output_type": "execute_result"
    }
   ],
   "source": [
    "tf.random.set_seed(42)\n",
    "# create a one layer model with the sequencial API\n",
    "model_1 = tf.keras.Sequential([\n",
    "        tf.keras.layers.Dense(1)\n",
    "    ]) \n",
    "# compile the model \n",
    "model_1.compile(loss = tf.keras.losses.BinaryCrossentropy(),\n",
    "               optimizer = tf.keras.optimizers.SGD(),\n",
    "               metrics = [\"accuracy\"])\n",
    "# fitting the model\n",
    "model_1.fit(x,y, epochs = 5)"
   ]
  },
  {
   "cell_type": "markdown",
   "id": "6348b008",
   "metadata": {},
   "source": [
    "### <font color = \"green\"> try more epochs</font>"
   ]
  },
  {
   "cell_type": "code",
   "execution_count": 96,
   "id": "044f8b87",
   "metadata": {},
   "outputs": [
    {
     "name": "stdout",
     "output_type": "stream",
     "text": [
      "32/32 [==============================] - 0s 1ms/step - loss: 0.6935 - accuracy: 0.5000\n"
     ]
    },
    {
     "data": {
      "text/plain": [
       "[0.6934829950332642, 0.5]"
      ]
     },
     "execution_count": 96,
     "metadata": {},
     "output_type": "execute_result"
    }
   ],
   "source": [
    "model_1.fit(x,y, epochs = 200, verbose = 0) #verbose determines how the training will be shown(0,1 0r 2)\n",
    "model_1.evaluate(x,y) # train set accuracy "
   ]
  },
  {
   "cell_type": "markdown",
   "id": "d8f47942",
   "metadata": {},
   "source": [
    "## <font color = \"purple\"> model_1b </font>"
   ]
  },
  {
   "cell_type": "markdown",
   "id": "ae82f9eb",
   "metadata": {},
   "source": [
    "### <font color = \"green\"> try more layers</font>"
   ]
  },
  {
   "cell_type": "code",
   "execution_count": 108,
   "id": "46eefc81",
   "metadata": {},
   "outputs": [
    {
     "data": {
      "text/plain": [
       "<tensorflow.python.keras.callbacks.History at 0x1886c7b7d30>"
      ]
     },
     "execution_count": 108,
     "metadata": {},
     "output_type": "execute_result"
    }
   ],
   "source": [
    "#Creat/define\n",
    "model_2 = tf.keras.Sequential([\n",
    "    tf.keras.layers.Dense(1),\n",
    "    tf.keras.layers.Dense(1)\n",
    "])\n",
    "#compile\n",
    "\n",
    "model_2.compile(\n",
    "    loss = tf.keras.losses.BinaryCrossentropy(),\n",
    "    optimizer = tf.keras.optimizers.SGD(),\n",
    "    metrics = [\"accuracy\"])\n",
    "#fit\n",
    "model_2.fit(x,y, epochs = 200, verbose = 0)"
   ]
  },
  {
   "cell_type": "code",
   "execution_count": 109,
   "id": "59da8d7c",
   "metadata": {},
   "outputs": [
    {
     "name": "stdout",
     "output_type": "stream",
     "text": [
      "32/32 [==============================] - 0s 864us/step - loss: 0.6938 - accuracy: 0.5000\n"
     ]
    },
    {
     "data": {
      "text/plain": [
       "[0.6938000917434692, 0.5]"
      ]
     },
     "execution_count": 109,
     "metadata": {},
     "output_type": "execute_result"
    }
   ],
   "source": [
    "model_2.evaluate(x,y) # train set accuracy "
   ]
  },
  {
   "cell_type": "markdown",
   "id": "0aa090a6",
   "metadata": {},
   "source": [
    "> **Observe:** The model seems to be doing a 50% guess work"
   ]
  },
  {
   "cell_type": "markdown",
   "id": "d305fce1",
   "metadata": {},
   "source": [
    "### <a  name = \"a2\"> <font color = \"green\"> Visualistion function</font> </a>"
   ]
  },
  {
   "cell_type": "code",
   "execution_count": 110,
   "id": "9c4749fb",
   "metadata": {},
   "outputs": [],
   "source": [
    "import numpy as np"
   ]
  },
  {
   "cell_type": "code",
   "execution_count": 111,
   "id": "7e235a7a",
   "metadata": {},
   "outputs": [],
   "source": [
    "def plot_decision_boundary(model, X, y):\n",
    "  \"\"\"\n",
    "  Plots the decision boundary created by a model predicting on X.\n",
    "  This function has been adapted from two phenomenal resources:\n",
    "   1. CS231n - https://cs231n.github.io/neural-networks-case-study/\n",
    "   2. Made with ML basics - https://github.com/GokuMohandas/MadeWithML/blob/main/notebooks/08_Neural_Networks.ipynb\n",
    "  \"\"\"\n",
    "  # Define the axis boundaries of the plot and create a meshgrid\n",
    "  x_min, x_max = X[:, 0].min() - 0.1, X[:, 0].max() + 0.1\n",
    "  y_min, y_max = X[:, 1].min() - 0.1, X[:, 1].max() + 0.1\n",
    "  xx, yy = np.meshgrid(np.linspace(x_min, x_max, 100),\n",
    "                       np.linspace(y_min, y_max, 100))\n",
    "  \n",
    "  # Create X values (we're going to predict on all of these)\n",
    "  x_in = np.c_[xx.ravel(), yy.ravel()] # stack 2D arrays together: https://numpy.org/devdocs/reference/generated/numpy.c_.html\n",
    "  \n",
    "  # Make predictions using the trained model\n",
    "  y_pred = model.predict(x_in)\n",
    "\n",
    "  # Check for multi-class\n",
    "  if len(y_pred[0]) > 1:\n",
    "    print(\"doing multiclass classification...\")\n",
    "    # We have to reshape our predictions to get them ready for plotting\n",
    "    y_pred = np.argmax(y_pred, axis=1).reshape(xx.shape)\n",
    "  else:\n",
    "    print(\"doing binary classifcation...\")\n",
    "    y_pred = np.round(y_pred).reshape(xx.shape)\n",
    "  \n",
    "  # Plot decision boundary\n",
    "  plt.contourf(xx, yy, y_pred, cmap=plt.cm.RdYlBu, alpha=0.7)\n",
    "  plt.scatter(X[:, 0], X[:, 1], c=y, s=40, cmap=plt.cm.RdYlBu)\n",
    "  plt.xlim(xx.min(), xx.max())\n",
    "  plt.ylim(yy.min(), yy.max())"
   ]
  },
  {
   "cell_type": "code",
   "execution_count": 112,
   "id": "91147ed7",
   "metadata": {},
   "outputs": [
    {
     "data": {
      "text/plain": [
       "array([[1, 2, 3, 4],\n",
       "       [1, 2, 3, 4],\n",
       "       [1, 2, 3, 4],\n",
       "       [1, 2, 3, 4]])"
      ]
     },
     "execution_count": 112,
     "metadata": {},
     "output_type": "execute_result"
    }
   ],
   "source": [
    "a,b = np.meshgrid([1,2,3,4], [5,6,7,8])\n",
    "a"
   ]
  },
  {
   "cell_type": "code",
   "execution_count": 113,
   "id": "e1577659",
   "metadata": {},
   "outputs": [
    {
     "data": {
      "text/plain": [
       "array([[5, 5, 5, 5],\n",
       "       [6, 6, 6, 6],\n",
       "       [7, 7, 7, 7],\n",
       "       [8, 8, 8, 8]])"
      ]
     },
     "execution_count": 113,
     "metadata": {},
     "output_type": "execute_result"
    }
   ],
   "source": [
    "b"
   ]
  },
  {
   "cell_type": "code",
   "execution_count": 114,
   "id": "2ef6e33e",
   "metadata": {},
   "outputs": [
    {
     "data": {
      "text/plain": [
       "array([1, 2, 3, 4, 1, 2, 3, 4, 1, 2, 3, 4, 1, 2, 3, 4])"
      ]
     },
     "execution_count": 114,
     "metadata": {},
     "output_type": "execute_result"
    }
   ],
   "source": [
    "a.ravel()"
   ]
  },
  {
   "cell_type": "code",
   "execution_count": 117,
   "id": "ce763b61",
   "metadata": {},
   "outputs": [
    {
     "data": {
      "text/plain": [
       "array([5, 5, 5, 5, 6, 6, 6, 6, 7, 7, 7, 7, 8, 8, 8, 8])"
      ]
     },
     "execution_count": 117,
     "metadata": {},
     "output_type": "execute_result"
    }
   ],
   "source": [
    "b.ravel()"
   ]
  },
  {
   "cell_type": "code",
   "execution_count": 118,
   "id": "be1059a3",
   "metadata": {},
   "outputs": [
    {
     "data": {
      "text/plain": [
       "array([[1, 5],\n",
       "       [2, 5],\n",
       "       [3, 5],\n",
       "       [4, 5],\n",
       "       [1, 6],\n",
       "       [2, 6],\n",
       "       [3, 6],\n",
       "       [4, 6],\n",
       "       [1, 7],\n",
       "       [2, 7],\n",
       "       [3, 7],\n",
       "       [4, 7],\n",
       "       [1, 8],\n",
       "       [2, 8],\n",
       "       [3, 8],\n",
       "       [4, 8]])"
      ]
     },
     "execution_count": 118,
     "metadata": {},
     "output_type": "execute_result"
    }
   ],
   "source": [
    "cc = np.c_[a.ravel(),b.ravel()]\n",
    "cc"
   ]
  },
  {
   "cell_type": "markdown",
   "id": "83ac39ea",
   "metadata": {},
   "source": [
    "## <font color = \"purple\"> model_1c(worked best) </font>"
   ]
  },
  {
   "cell_type": "code",
   "execution_count": 119,
   "id": "39aafa72",
   "metadata": {},
   "outputs": [],
   "source": [
    "tf.random.set_seed(42)\n",
    "#define\n",
    "model_3 = tf.keras.Sequential([\n",
    "    tf.keras.layers.Dense(4, activation = tf.keras.activations.relu),\n",
    "    tf.keras.layers.Dense(4, activation = tf.keras.activations.relu),\n",
    "    tf.keras.layers.Dense(1, activation = tf.keras.activations.sigmoid)\n",
    "])\n",
    "\n",
    "#compile\n",
    "model_3.compile(\n",
    "    loss = tf.keras.losses.BinaryCrossentropy(),\n",
    "    optimizer = tf.keras.optimizers.Adam(lr =0.001),\n",
    "    metrics = [\"accuracy\"])\n",
    "\n",
    "history = model_3.fit(x,y,epochs=100, verbose =0)"
   ]
  },
  {
   "cell_type": "code",
   "execution_count": 120,
   "id": "b3317e6b",
   "metadata": {},
   "outputs": [
    {
     "name": "stdout",
     "output_type": "stream",
     "text": [
      "32/32 [==============================] - 0s 971us/step - loss: 0.2948 - accuracy: 0.9910\n"
     ]
    },
    {
     "data": {
      "text/plain": [
       "[0.29480040073394775, 0.9909999966621399]"
      ]
     },
     "execution_count": 120,
     "metadata": {},
     "output_type": "execute_result"
    }
   ],
   "source": [
    "model_3.evaluate(x,y) # train set accuracy "
   ]
  },
  {
   "cell_type": "code",
   "execution_count": 121,
   "id": "533d96df",
   "metadata": {},
   "outputs": [
    {
     "name": "stdout",
     "output_type": "stream",
     "text": [
      "doing binary classifcation...\n"
     ]
    },
    {
     "data": {
      "image/png": "[encoded data removed]",
      "text/plain": [
       "<Figure size 432x288 with 1 Axes>"
      ]
     },
     "metadata": {
      "needs_background": "light"
     },
     "output_type": "display_data"
    }
   ],
   "source": [
    "plot_decision_boundary(model_3,x,y)"
   ]
  },
  {
   "cell_type": "markdown",
   "id": "1ea46718",
   "metadata": {},
   "source": [
    "> **NOTE: <font color = 'orange'>Introduction of none linearity though none linear actinvations drastically improve the model accuracy </font>**"
   ]
  },
  {
   "cell_type": "markdown",
   "id": "09628ce4",
   "metadata": {},
   "source": [
    "## <font color = \"purple\"> model_1d(proper approach) </font>\n",
    "- splitting the data into test and train set"
   ]
  },
  {
   "cell_type": "code",
   "execution_count": 122,
   "id": "ca8e45bd",
   "metadata": {},
   "outputs": [
    {
     "data": {
      "text/plain": [
       "(1000,)"
      ]
     },
     "execution_count": 122,
     "metadata": {},
     "output_type": "execute_result"
    }
   ],
   "source": [
    "y.shape"
   ]
  },
  {
   "cell_type": "code",
   "execution_count": 123,
   "id": "27aa202d",
   "metadata": {},
   "outputs": [],
   "source": [
    "x_train, y_train = x[:800], y[:800] #80%\n",
    "x_test, y_test = x[800:], y[800:]#20%"
   ]
  },
  {
   "cell_type": "code",
   "execution_count": 124,
   "id": "8c97fd25",
   "metadata": {},
   "outputs": [
    {
     "name": "stdout",
     "output_type": "stream",
     "text": [
      "Epoch 1/100\n",
      "25/25 [==============================] - 0s 1ms/step - loss: 0.6847 - accuracy: 0.5425\n",
      "Epoch 2/100\n",
      "25/25 [==============================] - 0s 1ms/step - loss: 0.6777 - accuracy: 0.5525\n",
      "Epoch 3/100\n",
      "25/25 [==============================] - 0s 1ms/step - loss: 0.6736 - accuracy: 0.5512\n",
      "Epoch 4/100\n",
      "25/25 [==============================] - 0s 1ms/step - loss: 0.6681 - accuracy: 0.5775\n",
      "Epoch 5/100\n",
      "25/25 [==============================] - 0s 1ms/step - loss: 0.6633 - accuracy: 0.5850\n",
      "Epoch 6/100\n",
      "25/25 [==============================] - 0s 2ms/step - loss: 0.6546 - accuracy: 0.5838\n",
      "Epoch 7/100\n",
      "25/25 [==============================] - 0s 1ms/step - loss: 0.6413 - accuracy: 0.6750\n",
      "Epoch 8/100\n",
      "25/25 [==============================] - 0s 1ms/step - loss: 0.6264 - accuracy: 0.7013\n",
      "Epoch 9/100\n",
      "25/25 [==============================] - 0s 1ms/step - loss: 0.6038 - accuracy: 0.7487\n",
      "Epoch 10/100\n",
      "25/25 [==============================] - 0s 1ms/step - loss: 0.5714 - accuracy: 0.7738\n",
      "Epoch 11/100\n",
      "25/25 [==============================] - 0s 919us/step - loss: 0.5404 - accuracy: 0.7650\n",
      "Epoch 12/100\n",
      "25/25 [==============================] - 0s 959us/step - loss: 0.5015 - accuracy: 0.7837\n",
      "Epoch 13/100\n",
      "25/25 [==============================] - 0s 2ms/step - loss: 0.4683 - accuracy: 0.7975\n",
      "Epoch 14/100\n",
      "25/25 [==============================] - 0s 1ms/step - loss: 0.4113 - accuracy: 0.8450\n",
      "Epoch 15/100\n",
      "25/25 [==============================] - 0s 1ms/step - loss: 0.3625 - accuracy: 0.9125\n",
      "Epoch 16/100\n",
      "25/25 [==============================] - 0s 1ms/step - loss: 0.3209 - accuracy: 0.9312\n",
      "Epoch 17/100\n",
      "25/25 [==============================] - 0s 1ms/step - loss: 0.2847 - accuracy: 0.9488\n",
      "Epoch 18/100\n",
      "25/25 [==============================] - 0s 1ms/step - loss: 0.2597 - accuracy: 0.9525\n",
      "Epoch 19/100\n",
      "25/25 [==============================] - 0s 1ms/step - loss: 0.2375 - accuracy: 0.9563\n",
      "Epoch 20/100\n",
      "25/25 [==============================] - 0s 1ms/step - loss: 0.2135 - accuracy: 0.9663\n",
      "Epoch 21/100\n",
      "25/25 [==============================] - 0s 1ms/step - loss: 0.1938 - accuracy: 0.9775\n",
      "Epoch 22/100\n",
      "25/25 [==============================] - 0s 1ms/step - loss: 0.1752 - accuracy: 0.9737\n",
      "Epoch 23/100\n",
      "25/25 [==============================] - 0s 1ms/step - loss: 0.1619 - accuracy: 0.9787\n",
      "Epoch 24/100\n",
      "25/25 [==============================] - 0s 1ms/step - loss: 0.1550 - accuracy: 0.9775\n",
      "Epoch 25/100\n",
      "25/25 [==============================] - 0s 1ms/step - loss: 0.1490 - accuracy: 0.9762\n",
      "Epoch 26/100\n",
      "25/25 [==============================] - 0s 1ms/step - loss: 0.1339 - accuracy: 0.9775\n",
      "Epoch 27/100\n",
      "25/25 [==============================] - 0s 1ms/step - loss: 0.1214 - accuracy: 0.9887\n",
      "Epoch 28/100\n",
      "25/25 [==============================] - 0s 1ms/step - loss: 0.1206 - accuracy: 0.9800\n",
      "Epoch 29/100\n",
      "25/25 [==============================] - 0s 1ms/step - loss: 0.1101 - accuracy: 0.9837\n",
      "Epoch 30/100\n",
      "25/25 [==============================] - 0s 1ms/step - loss: 0.1093 - accuracy: 0.9825\n",
      "Epoch 31/100\n",
      "25/25 [==============================] - 0s 794us/step - loss: 0.1088 - accuracy: 0.9850\n",
      "Epoch 32/100\n",
      "25/25 [==============================] - 0s 1ms/step - loss: 0.0993 - accuracy: 0.9850\n",
      "Epoch 33/100\n",
      "25/25 [==============================] - 0s 1ms/step - loss: 0.0957 - accuracy: 0.9837\n",
      "Epoch 34/100\n",
      "25/25 [==============================] - 0s 1ms/step - loss: 0.0863 - accuracy: 0.9850\n",
      "Epoch 35/100\n",
      "25/25 [==============================] - 0s 1ms/step - loss: 0.0821 - accuracy: 0.9925\n",
      "Epoch 36/100\n",
      "25/25 [==============================] - 0s 1ms/step - loss: 0.0824 - accuracy: 0.9850\n",
      "Epoch 37/100\n",
      "25/25 [==============================] - 0s 1ms/step - loss: 0.0791 - accuracy: 0.9862\n",
      "Epoch 38/100\n",
      "25/25 [==============================] - 0s 1ms/step - loss: 0.0747 - accuracy: 0.9887\n",
      "Epoch 39/100\n",
      "25/25 [==============================] - 0s 1ms/step - loss: 0.0789 - accuracy: 0.9800\n",
      "Epoch 40/100\n",
      "25/25 [==============================] - 0s 1ms/step - loss: 0.0749 - accuracy: 0.9875\n",
      "Epoch 41/100\n",
      "25/25 [==============================] - 0s 1ms/step - loss: 0.0745 - accuracy: 0.9875\n",
      "Epoch 42/100\n",
      "25/25 [==============================] - 0s 1ms/step - loss: 0.0717 - accuracy: 0.9887\n",
      "Epoch 43/100\n",
      "25/25 [==============================] - 0s 1ms/step - loss: 0.0650 - accuracy: 0.9900\n",
      "Epoch 44/100\n",
      "25/25 [==============================] - 0s 1ms/step - loss: 0.0805 - accuracy: 0.9825\n",
      "Epoch 45/100\n",
      "25/25 [==============================] - 0s 1ms/step - loss: 0.0632 - accuracy: 0.9887\n",
      "Epoch 46/100\n",
      "25/25 [==============================] - 0s 1ms/step - loss: 0.0636 - accuracy: 0.9850\n",
      "Epoch 47/100\n",
      "25/25 [==============================] - 0s 880us/step - loss: 0.0589 - accuracy: 0.9900\n",
      "Epoch 48/100\n",
      "25/25 [==============================] - 0s 2ms/step - loss: 0.0652 - accuracy: 0.9812\n",
      "Epoch 49/100\n",
      "25/25 [==============================] - 0s 2ms/step - loss: 0.0593 - accuracy: 0.9900\n",
      "Epoch 50/100\n",
      "25/25 [==============================] - 0s 2ms/step - loss: 0.0566 - accuracy: 0.9875\n",
      "Epoch 51/100\n",
      "25/25 [==============================] - 0s 2ms/step - loss: 0.0567 - accuracy: 0.9912\n",
      "Epoch 52/100\n",
      "25/25 [==============================] - 0s 2ms/step - loss: 0.0586 - accuracy: 0.9887\n",
      "Epoch 53/100\n",
      "25/25 [==============================] - 0s 2ms/step - loss: 0.0544 - accuracy: 0.9875\n",
      "Epoch 54/100\n",
      "25/25 [==============================] - 0s 2ms/step - loss: 0.0539 - accuracy: 0.9862\n",
      "Epoch 55/100\n",
      "25/25 [==============================] - 0s 2ms/step - loss: 0.0593 - accuracy: 0.9875\n",
      "Epoch 56/100\n",
      "25/25 [==============================] - 0s 1ms/step - loss: 0.0564 - accuracy: 0.9850\n",
      "Epoch 57/100\n",
      "25/25 [==============================] - 0s 822us/step - loss: 0.0513 - accuracy: 0.9862\n",
      "Epoch 58/100\n",
      "25/25 [==============================] - 0s 833us/step - loss: 0.0488 - accuracy: 0.9875\n",
      "Epoch 59/100\n",
      "25/25 [==============================] - 0s 799us/step - loss: 0.0567 - accuracy: 0.9875\n",
      "Epoch 60/100\n",
      "25/25 [==============================] - 0s 798us/step - loss: 0.0577 - accuracy: 0.9862\n",
      "Epoch 61/100\n",
      "25/25 [==============================] - 0s 793us/step - loss: 0.0568 - accuracy: 0.9850\n",
      "Epoch 62/100\n",
      "25/25 [==============================] - 0s 922us/step - loss: 0.0495 - accuracy: 0.9912\n",
      "Epoch 63/100\n",
      "25/25 [==============================] - 0s 841us/step - loss: 0.0491 - accuracy: 0.9887\n",
      "Epoch 64/100\n",
      "25/25 [==============================] - 0s 848us/step - loss: 0.0534 - accuracy: 0.9900\n",
      "Epoch 65/100\n",
      "25/25 [==============================] - 0s 1ms/step - loss: 0.0535 - accuracy: 0.9850\n",
      "Epoch 66/100\n",
      "25/25 [==============================] - 0s 2ms/step - loss: 0.0500 - accuracy: 0.9850\n",
      "Epoch 67/100\n",
      "25/25 [==============================] - 0s 2ms/step - loss: 0.0489 - accuracy: 0.9837\n",
      "Epoch 68/100\n",
      "25/25 [==============================] - 0s 2ms/step - loss: 0.0477 - accuracy: 0.9887\n",
      "Epoch 69/100\n",
      "25/25 [==============================] - 0s 1ms/step - loss: 0.0482 - accuracy: 0.9837\n",
      "Epoch 70/100\n",
      "25/25 [==============================] - 0s 2ms/step - loss: 0.0616 - accuracy: 0.9800\n",
      "Epoch 71/100\n",
      "25/25 [==============================] - 0s 919us/step - loss: 0.0483 - accuracy: 0.9837\n",
      "Epoch 72/100\n",
      "25/25 [==============================] - 0s 853us/step - loss: 0.0449 - accuracy: 0.9825\n",
      "Epoch 73/100\n",
      "25/25 [==============================] - 0s 785us/step - loss: 0.0418 - accuracy: 0.9912\n",
      "Epoch 74/100\n",
      "25/25 [==============================] - 0s 796us/step - loss: 0.0695 - accuracy: 0.9688\n",
      "Epoch 75/100\n",
      "25/25 [==============================] - 0s 766us/step - loss: 0.0611 - accuracy: 0.9837\n",
      "Epoch 76/100\n",
      "25/25 [==============================] - 0s 846us/step - loss: 0.0408 - accuracy: 0.9925\n",
      "Epoch 77/100\n",
      "25/25 [==============================] - 0s 1ms/step - loss: 0.0413 - accuracy: 0.9875\n",
      "Epoch 78/100\n",
      "25/25 [==============================] - 0s 1ms/step - loss: 0.0395 - accuracy: 0.9950\n",
      "Epoch 79/100\n",
      "25/25 [==============================] - 0s 1ms/step - loss: 0.0412 - accuracy: 0.9887\n",
      "Epoch 80/100\n",
      "25/25 [==============================] - 0s 1ms/step - loss: 0.0403 - accuracy: 0.9887\n",
      "Epoch 81/100\n",
      "25/25 [==============================] - 0s 1ms/step - loss: 0.0388 - accuracy: 0.9937\n",
      "Epoch 82/100\n"
     ]
    },
    {
     "name": "stdout",
     "output_type": "stream",
     "text": [
      "25/25 [==============================] - 0s 2ms/step - loss: 0.0371 - accuracy: 0.9937\n",
      "Epoch 83/100\n",
      "25/25 [==============================] - 0s 1ms/step - loss: 0.0450 - accuracy: 0.9850\n",
      "Epoch 84/100\n",
      "25/25 [==============================] - 0s 1ms/step - loss: 0.0461 - accuracy: 0.9850\n",
      "Epoch 85/100\n",
      "25/25 [==============================] - 0s 840us/step - loss: 0.0442 - accuracy: 0.9862\n",
      "Epoch 86/100\n",
      "25/25 [==============================] - 0s 840us/step - loss: 0.0356 - accuracy: 0.9950\n",
      "Epoch 87/100\n",
      "25/25 [==============================] - 0s 800us/step - loss: 0.0390 - accuracy: 0.9887\n",
      "Epoch 88/100\n",
      "25/25 [==============================] - 0s 760us/step - loss: 0.0392 - accuracy: 0.9875\n",
      "Epoch 89/100\n",
      "25/25 [==============================] - 0s 736us/step - loss: 0.0431 - accuracy: 0.9900\n",
      "Epoch 90/100\n",
      "25/25 [==============================] - 0s 760us/step - loss: 0.0395 - accuracy: 0.9875\n",
      "Epoch 91/100\n",
      "25/25 [==============================] - 0s 720us/step - loss: 0.0404 - accuracy: 0.9862\n",
      "Epoch 92/100\n",
      "25/25 [==============================] - 0s 760us/step - loss: 0.0365 - accuracy: 0.9912\n",
      "Epoch 93/100\n",
      "25/25 [==============================] - 0s 760us/step - loss: 0.0361 - accuracy: 0.9912\n",
      "Epoch 94/100\n",
      "25/25 [==============================] - 0s 760us/step - loss: 0.0341 - accuracy: 0.9937\n",
      "Epoch 95/100\n",
      "25/25 [==============================] - 0s 680us/step - loss: 0.0350 - accuracy: 0.9937\n",
      "Epoch 96/100\n",
      "25/25 [==============================] - 0s 800us/step - loss: 0.0384 - accuracy: 0.9887\n",
      "Epoch 97/100\n",
      "25/25 [==============================] - 0s 800us/step - loss: 0.0375 - accuracy: 0.9900\n",
      "Epoch 98/100\n",
      "25/25 [==============================] - 0s 760us/step - loss: 0.0361 - accuracy: 0.9925\n",
      "Epoch 99/100\n",
      "25/25 [==============================] - 0s 759us/step - loss: 0.0351 - accuracy: 0.9925\n",
      "Epoch 100/100\n",
      "25/25 [==============================] - 0s 959us/step - loss: 0.0357 - accuracy: 0.9862\n"
     ]
    }
   ],
   "source": [
    "tf.random.set_seed(42)\n",
    "#define\n",
    "model_1d = tf.keras.Sequential([\n",
    "    tf.keras.layers.Dense(4, activation = \"relu\"),\n",
    "    tf.keras.layers.Dense(4, activation = \"relu\"),\n",
    "    tf.keras.layers.Dense(1, activation = 'sigmoid')\n",
    "])\n",
    "#compile\n",
    "model_1d.compile(\n",
    "    loss = tf.keras.losses.binary_crossentropy,\n",
    "    optimizer = tf.keras.optimizers.Adam(lr = 0.01),\n",
    "    metrics = ['accuracy']\n",
    ")\n",
    "\n",
    "#fit\n",
    "m1d_history = model_1d.fit(x_train, y_train, epochs=100, verbose=1)#keep history to plot training loss"
   ]
  },
  {
   "cell_type": "code",
   "execution_count": 125,
   "id": "85b5025d",
   "metadata": {},
   "outputs": [
    {
     "name": "stdout",
     "output_type": "stream",
     "text": [
      "7/7 [==============================] - 0s 3ms/step - loss: 0.0278 - accuracy: 0.9950\n"
     ]
    },
    {
     "data": {
      "text/plain": [
       "<tensorflow.python.keras.callbacks.History at 0x1886f85fc40>"
      ]
     },
     "execution_count": 125,
     "metadata": {},
     "output_type": "execute_result"
    }
   ],
   "source": [
    "#predict on test set\n",
    "model_1d.fit(x_test,y_test)"
   ]
  },
  {
   "cell_type": "markdown",
   "id": "7add1ba9",
   "metadata": {},
   "source": [
    "> **NOTE:** <font color = 'orange'>The learning rate was increased such that the model can learn faster with less epochs. This decision was made based on the history of the earlier models which showed learing but significant improvent after several epochs</font>"
   ]
  },
  {
   "cell_type": "markdown",
   "id": "c86210d0",
   "metadata": {},
   "source": [
    "## <a  name = \"a3\"><font color = \"green\"> Visualising loss/training curves</font></a>\n",
    "- use model history"
   ]
  },
  {
   "cell_type": "code",
   "execution_count": 126,
   "id": "d9636929",
   "metadata": {},
   "outputs": [
    {
     "data": {
      "text/plain": [
       "Text(0.5, 1.0, 'model_1d training curves')"
      ]
     },
     "execution_count": 126,
     "metadata": {},
     "output_type": "execute_result"
    },
    {
     "data": {
      "image/png": "[encoded data removed]",
      "text/plain": [
       "<Figure size 432x288 with 1 Axes>"
      ]
     },
     "metadata": {
      "needs_background": "light"
     },
     "output_type": "display_data"
    }
   ],
   "source": [
    "#dataframe the history\n",
    "hdf = pd.DataFrame(m1d_history.history).plot()\n",
    "plt.title(\"model_1d training curves\")"
   ]
  },
  {
   "cell_type": "markdown",
   "id": "43590670",
   "metadata": {},
   "source": [
    "> **Observation:** <font color = 'orange'> The loss is going down and the accuracy up. Great!!</font>"
   ]
  },
  {
   "cell_type": "markdown",
   "id": "3f996f47",
   "metadata": {},
   "source": [
    "## <a  name = \"a4\"><font color = \"green\"> Finding the best learing rate </font></a>\n",
    "- <font color = \"purple\"> Train the model with an exponetially increasing rate(use the callback argument if .fit) </font>\n",
    "- <font color = \"purple\"> Use the history to plot a graph of the loss vs learning rate </font>\n",
    "- <font color = \"purple\"> pick the learning rate where the loss decreses the most but not yet flattened </font>\n"
   ]
  },
  {
   "cell_type": "markdown",
   "id": "adcbf1bf",
   "metadata": {},
   "source": [
    "## <font color = \"purple\"> model_m1e(trained to determine an appropriate learning rate) </font>"
   ]
  },
  {
   "cell_type": "code",
   "execution_count": 155,
   "id": "a20374fa",
   "metadata": {},
   "outputs": [
    {
     "name": "stdout",
     "output_type": "stream",
     "text": [
      "Epoch 1/100\n",
      "25/25 - 0s - loss: 0.6876 - accuracy: 0.4988\n",
      "Epoch 2/100\n",
      "25/25 - 0s - loss: 0.6875 - accuracy: 0.5000\n",
      "Epoch 3/100\n",
      "25/25 - 0s - loss: 0.6874 - accuracy: 0.4975\n",
      "Epoch 4/100\n",
      "25/25 - 0s - loss: 0.6873 - accuracy: 0.4975\n",
      "Epoch 5/100\n",
      "25/25 - 0s - loss: 0.6872 - accuracy: 0.5013\n",
      "Epoch 6/100\n",
      "25/25 - 0s - loss: 0.6871 - accuracy: 0.5000\n",
      "Epoch 7/100\n",
      "25/25 - 0s - loss: 0.6870 - accuracy: 0.5038\n",
      "Epoch 8/100\n",
      "25/25 - 0s - loss: 0.6869 - accuracy: 0.5013\n",
      "Epoch 9/100\n",
      "25/25 - 0s - loss: 0.6867 - accuracy: 0.5000\n",
      "Epoch 10/100\n",
      "25/25 - 0s - loss: 0.6866 - accuracy: 0.5025\n",
      "Epoch 11/100\n",
      "25/25 - 0s - loss: 0.6864 - accuracy: 0.5050\n",
      "Epoch 12/100\n",
      "25/25 - 0s - loss: 0.6863 - accuracy: 0.5088\n",
      "Epoch 13/100\n",
      "25/25 - 0s - loss: 0.6860 - accuracy: 0.5138\n",
      "Epoch 14/100\n",
      "25/25 - 0s - loss: 0.6857 - accuracy: 0.5188\n",
      "Epoch 15/100\n",
      "25/25 - 0s - loss: 0.6855 - accuracy: 0.5250\n",
      "Epoch 16/100\n",
      "25/25 - 0s - loss: 0.6852 - accuracy: 0.5225\n",
      "Epoch 17/100\n",
      "25/25 - 0s - loss: 0.6849 - accuracy: 0.5263\n",
      "Epoch 18/100\n",
      "25/25 - 0s - loss: 0.6845 - accuracy: 0.5238\n",
      "Epoch 19/100\n",
      "25/25 - 0s - loss: 0.6841 - accuracy: 0.5275\n",
      "Epoch 20/100\n",
      "25/25 - 0s - loss: 0.6836 - accuracy: 0.5263\n",
      "Epoch 21/100\n",
      "25/25 - 0s - loss: 0.6831 - accuracy: 0.5275\n",
      "Epoch 22/100\n",
      "25/25 - 0s - loss: 0.6824 - accuracy: 0.5350\n",
      "Epoch 23/100\n",
      "25/25 - 0s - loss: 0.6818 - accuracy: 0.5362\n",
      "Epoch 24/100\n",
      "25/25 - 0s - loss: 0.6809 - accuracy: 0.5337\n",
      "Epoch 25/100\n",
      "25/25 - 0s - loss: 0.6800 - accuracy: 0.5375\n",
      "Epoch 26/100\n",
      "25/25 - 0s - loss: 0.6790 - accuracy: 0.5350\n",
      "Epoch 27/100\n",
      "25/25 - 0s - loss: 0.6777 - accuracy: 0.5400\n",
      "Epoch 28/100\n",
      "25/25 - 0s - loss: 0.6759 - accuracy: 0.5387\n",
      "Epoch 29/100\n",
      "25/25 - 0s - loss: 0.6742 - accuracy: 0.5487\n",
      "Epoch 30/100\n",
      "25/25 - 0s - loss: 0.6718 - accuracy: 0.5700\n",
      "Epoch 31/100\n",
      "25/25 - 0s - loss: 0.6688 - accuracy: 0.5763\n",
      "Epoch 32/100\n",
      "25/25 - 0s - loss: 0.6648 - accuracy: 0.5825\n",
      "Epoch 33/100\n",
      "25/25 - 0s - loss: 0.6597 - accuracy: 0.6025\n",
      "Epoch 34/100\n",
      "25/25 - 0s - loss: 0.6522 - accuracy: 0.6650\n",
      "Epoch 35/100\n",
      "25/25 - 0s - loss: 0.6392 - accuracy: 0.7250\n",
      "Epoch 36/100\n",
      "25/25 - 0s - loss: 0.6212 - accuracy: 0.6787\n",
      "Epoch 37/100\n",
      "25/25 - 0s - loss: 0.5868 - accuracy: 0.7513\n",
      "Epoch 38/100\n",
      "25/25 - 0s - loss: 0.5359 - accuracy: 0.7887\n",
      "Epoch 39/100\n",
      "25/25 - 0s - loss: 0.4824 - accuracy: 0.8500\n",
      "Epoch 40/100\n",
      "25/25 - 0s - loss: 0.3944 - accuracy: 0.9312\n",
      "Epoch 41/100\n",
      "25/25 - 0s - loss: 0.2987 - accuracy: 0.9663\n",
      "Epoch 42/100\n",
      "25/25 - 0s - loss: 0.2166 - accuracy: 0.9762\n",
      "Epoch 43/100\n",
      "25/25 - 0s - loss: 0.1434 - accuracy: 0.9900\n",
      "Epoch 44/100\n",
      "25/25 - 0s - loss: 0.1094 - accuracy: 0.9937\n",
      "Epoch 45/100\n",
      "25/25 - 0s - loss: 0.0798 - accuracy: 0.9950\n",
      "Epoch 46/100\n",
      "25/25 - 0s - loss: 0.0626 - accuracy: 0.9950\n",
      "Epoch 47/100\n",
      "25/25 - 0s - loss: 0.0586 - accuracy: 0.9900\n",
      "Epoch 48/100\n",
      "25/25 - 0s - loss: 0.0573 - accuracy: 0.9825\n",
      "Epoch 49/100\n",
      "25/25 - 0s - loss: 0.0712 - accuracy: 0.9737\n",
      "Epoch 50/100\n",
      "25/25 - 0s - loss: 0.0665 - accuracy: 0.9762\n",
      "Epoch 51/100\n",
      "25/25 - 0s - loss: 0.1148 - accuracy: 0.9600\n",
      "Epoch 52/100\n",
      "25/25 - 0s - loss: 0.0742 - accuracy: 0.9762\n",
      "Epoch 53/100\n",
      "25/25 - 0s - loss: 0.0451 - accuracy: 0.9825\n",
      "Epoch 54/100\n",
      "25/25 - 0s - loss: 0.0312 - accuracy: 0.9962\n",
      "Epoch 55/100\n",
      "25/25 - 0s - loss: 0.0552 - accuracy: 0.9787\n",
      "Epoch 56/100\n",
      "25/25 - 0s - loss: 0.0694 - accuracy: 0.9775\n",
      "Epoch 57/100\n",
      "25/25 - 0s - loss: 0.2530 - accuracy: 0.9050\n",
      "Epoch 58/100\n",
      "25/25 - 0s - loss: 0.1907 - accuracy: 0.9275\n",
      "Epoch 59/100\n",
      "25/25 - 0s - loss: 0.1023 - accuracy: 0.9625\n",
      "Epoch 60/100\n",
      "25/25 - 0s - loss: 0.0835 - accuracy: 0.9650\n",
      "Epoch 61/100\n",
      "25/25 - 0s - loss: 0.0620 - accuracy: 0.9762\n",
      "Epoch 62/100\n",
      "25/25 - 0s - loss: 0.3011 - accuracy: 0.9075\n",
      "Epoch 63/100\n",
      "25/25 - 0s - loss: 0.0847 - accuracy: 0.9737\n",
      "Epoch 64/100\n",
      "25/25 - 0s - loss: 0.2020 - accuracy: 0.9287\n",
      "Epoch 65/100\n",
      "25/25 - 0s - loss: 0.2117 - accuracy: 0.8975\n",
      "Epoch 66/100\n",
      "25/25 - 0s - loss: 0.1325 - accuracy: 0.9500\n",
      "Epoch 67/100\n",
      "25/25 - 0s - loss: 0.2029 - accuracy: 0.9150\n",
      "Epoch 68/100\n",
      "25/25 - 0s - loss: 0.1004 - accuracy: 0.9688\n",
      "Epoch 69/100\n",
      "25/25 - 0s - loss: 0.1368 - accuracy: 0.9475\n",
      "Epoch 70/100\n",
      "25/25 - 0s - loss: 0.2852 - accuracy: 0.8850\n",
      "Epoch 71/100\n",
      "25/25 - 0s - loss: 0.0972 - accuracy: 0.9663\n",
      "Epoch 72/100\n",
      "25/25 - 0s - loss: 0.1607 - accuracy: 0.9425\n",
      "Epoch 73/100\n",
      "25/25 - 0s - loss: 0.3790 - accuracy: 0.8462\n",
      "Epoch 74/100\n",
      "25/25 - 0s - loss: 0.2055 - accuracy: 0.9325\n",
      "Epoch 75/100\n",
      "25/25 - 0s - loss: 0.2428 - accuracy: 0.9125\n",
      "Epoch 76/100\n",
      "25/25 - 0s - loss: 0.1678 - accuracy: 0.9337\n",
      "Epoch 77/100\n",
      "25/25 - 0s - loss: 0.2021 - accuracy: 0.9287\n",
      "Epoch 78/100\n",
      "25/25 - 0s - loss: 0.5350 - accuracy: 0.7800\n",
      "Epoch 79/100\n",
      "25/25 - 0s - loss: 0.6272 - accuracy: 0.6450\n",
      "Epoch 80/100\n",
      "25/25 - 0s - loss: 0.6272 - accuracy: 0.6975\n",
      "Epoch 81/100\n",
      "25/25 - 0s - loss: 0.9717 - accuracy: 0.5387\n",
      "Epoch 82/100\n",
      "25/25 - 0s - loss: 0.7143 - accuracy: 0.5100\n",
      "Epoch 83/100\n",
      "25/25 - 0s - loss: 0.8949 - accuracy: 0.4850\n",
      "Epoch 84/100\n",
      "25/25 - 0s - loss: 0.7370 - accuracy: 0.4938\n",
      "Epoch 85/100\n",
      "25/25 - 0s - loss: 0.7382 - accuracy: 0.4963\n",
      "Epoch 86/100\n",
      "25/25 - 0s - loss: 0.7630 - accuracy: 0.5038\n",
      "Epoch 87/100\n",
      "25/25 - 0s - loss: 0.7657 - accuracy: 0.5013\n",
      "Epoch 88/100\n",
      "25/25 - 0s - loss: 0.7587 - accuracy: 0.5263\n",
      "Epoch 89/100\n",
      "25/25 - 0s - loss: 0.7659 - accuracy: 0.5312\n",
      "Epoch 90/100\n",
      "25/25 - 0s - loss: 0.7855 - accuracy: 0.4938\n",
      "Epoch 91/100\n",
      "25/25 - 0s - loss: 0.8000 - accuracy: 0.5163\n",
      "Epoch 92/100\n",
      "25/25 - 0s - loss: 0.7395 - accuracy: 0.4963\n",
      "Epoch 93/100\n",
      "25/25 - 0s - loss: 0.7393 - accuracy: 0.5088\n",
      "Epoch 94/100\n",
      "25/25 - 0s - loss: 0.7575 - accuracy: 0.4938\n",
      "Epoch 95/100\n",
      "25/25 - 0s - loss: 0.8173 - accuracy: 0.4837\n",
      "Epoch 96/100\n",
      "25/25 - 0s - loss: 0.7797 - accuracy: 0.4638\n",
      "Epoch 97/100\n",
      "25/25 - 0s - loss: 0.8049 - accuracy: 0.5013\n",
      "Epoch 98/100\n",
      "25/25 - 0s - loss: 0.9619 - accuracy: 0.4963\n",
      "Epoch 99/100\n",
      "25/25 - 0s - loss: 0.9525 - accuracy: 0.4913\n",
      "Epoch 100/100\n",
      "25/25 - 0s - loss: 0.8581 - accuracy: 0.4613\n"
     ]
    }
   ],
   "source": [
    "#training the model with an exponetially increasing rate\n",
    "#Define\n",
    "m1e = tf.keras.Sequential([\n",
    "    tf.keras.layers.Dense(4, activation = 'relu'),\n",
    "    tf.keras.layers.Dense(4, activation = 'relu'),\n",
    "    tf.keras.layers.Dense(1, activation= 'sigmoid')\n",
    "])\n",
    "#Compile\n",
    "m1e.compile(\n",
    "    loss = tf.keras.losses.binary_crossentropy,\n",
    "    optimizer= tf.keras.optimizers.Adam(),\n",
    "    metrics = ['accuracy']\n",
    ")\n",
    "\n",
    "#creating the learning rate schedular\n",
    "lr_shd = tf.keras.callbacks.LearningRateScheduler(lambda epoch: 1e-4*10**(epoch/20))\n",
    "\n",
    "#fitting the model with the lr_shd\n",
    "m1e_hist = m1e.fit(x_train,y_train, \n",
    "                   epochs= 100, \n",
    "                   verbose= 2,\n",
    "                   callbacks=[lr_shd])"
   ]
  },
  {
   "cell_type": "code",
   "execution_count": 164,
   "id": "4753f5db",
   "metadata": {
    "scrolled": true
   },
   "outputs": [
    {
     "data": {
      "text/plain": [
       "Text(0.5, 1.0, 'Loss vs learning_rate graph')"
      ]
     },
     "execution_count": 164,
     "metadata": {},
     "output_type": "execute_result"
    },
    {
     "data": {
      "image/png": "[encoded data removed]",
      "text/plain": [
       "<Figure size 432x288 with 1 Axes>"
      ]
     },
     "metadata": {
      "needs_background": "light"
     },
     "output_type": "display_data"
    }
   ],
   "source": [
    "# plotting the loss vs learing rate\n",
    "# define the x-axis values to be in the range of the used exponetial learing rate\n",
    "x_lr_rate = 1e-4 * (10 ** (np.arange(100)/20))\n",
    "y_loss = m1e_hist.history['loss']\n",
    "\n",
    "#plt.figure(figsize=(12, 6))\n",
    "plt.semilogx(x_lr_rate, y_loss) #semilogx puts the a-axis on a lograthminc scale(proper spread)\n",
    "plt.xlabel(\"learnilng rate\")\n",
    "plt.ylabel(\"loss\")\n",
    "plt.title(\"Loss vs learning_rate graph\")\n"
   ]
  },
  {
   "cell_type": "markdown",
   "id": "a8460ddf",
   "metadata": {},
   "source": [
    "> **NOTE:** <font color = 'orange'> To figure out the ideal value of the learning rate (at least the ideal value to begin training our model), the rule of thumb is to take the learning rate value where the loss is still decreasing but not quite flattened out (usually about 10x smaller than the bottom of the curve)</font>"
   ]
  },
  {
   "cell_type": "markdown",
   "id": "ab4ca8b0",
   "metadata": {},
   "source": [
    "> **Observation:** <font color = 'orange'> From the above graph 1e-2 is a good start</font>"
   ]
  },
  {
   "cell_type": "code",
   "execution_count": 165,
   "id": "c25c0ec4",
   "metadata": {},
   "outputs": [
    {
     "data": {
      "text/plain": [
       "(1, 0.1, 0.01, 0.001, 0.0001)"
      ]
     },
     "execution_count": 165,
     "metadata": {},
     "output_type": "execute_result"
    }
   ],
   "source": [
    "# Example of other typical learning rate values\n",
    "10**0, 10**-1, 10**-2, 10**-3, 1e-4"
   ]
  },
  {
   "cell_type": "code",
   "execution_count": null,
   "id": "2498fa06",
   "metadata": {},
   "outputs": [],
   "source": []
  },
  {
   "cell_type": "markdown",
   "id": "bd342b55",
   "metadata": {},
   "source": [
    "## <font color = \"purple\"> model_m1e </font>\n",
    "- training with the observed learing rate"
   ]
  },
  {
   "cell_type": "code",
   "execution_count": 168,
   "id": "ee8314e8",
   "metadata": {},
   "outputs": [
    {
     "name": "stdout",
     "output_type": "stream",
     "text": [
      "Epoch 1/20\n",
      "25/25 - 0s - loss: 0.6804 - accuracy: 0.5700\n",
      "Epoch 2/20\n",
      "25/25 - 0s - loss: 0.6604 - accuracy: 0.6250\n",
      "Epoch 3/20\n",
      "25/25 - 0s - loss: 0.6260 - accuracy: 0.6712\n",
      "Epoch 4/20\n",
      "25/25 - 0s - loss: 0.5768 - accuracy: 0.7575\n",
      "Epoch 5/20\n",
      "25/25 - 0s - loss: 0.5253 - accuracy: 0.7850\n",
      "Epoch 6/20\n",
      "25/25 - 0s - loss: 0.4723 - accuracy: 0.7975\n",
      "Epoch 7/20\n",
      "25/25 - 0s - loss: 0.4373 - accuracy: 0.8150\n",
      "Epoch 8/20\n",
      "25/25 - 0s - loss: 0.4107 - accuracy: 0.8400\n",
      "Epoch 9/20\n",
      "25/25 - 0s - loss: 0.3635 - accuracy: 0.8850\n",
      "Epoch 10/20\n",
      "25/25 - 0s - loss: 0.3124 - accuracy: 0.9312\n",
      "Epoch 11/20\n",
      "25/25 - 0s - loss: 0.2779 - accuracy: 0.9450\n",
      "Epoch 12/20\n",
      "25/25 - 0s - loss: 0.2480 - accuracy: 0.9450\n",
      "Epoch 13/20\n",
      "25/25 - 0s - loss: 0.2089 - accuracy: 0.9850\n",
      "Epoch 14/20\n",
      "25/25 - 0s - loss: 0.1797 - accuracy: 0.9912\n",
      "Epoch 15/20\n",
      "25/25 - 0s - loss: 0.1500 - accuracy: 0.9925\n",
      "Epoch 16/20\n",
      "25/25 - 0s - loss: 0.1291 - accuracy: 0.9975\n",
      "Epoch 17/20\n",
      "25/25 - 0s - loss: 0.1092 - accuracy: 0.9975\n",
      "Epoch 18/20\n",
      "25/25 - 0s - loss: 0.0960 - accuracy: 0.9962\n",
      "Epoch 19/20\n",
      "25/25 - 0s - loss: 0.0832 - accuracy: 0.9950\n",
      "Epoch 20/20\n",
      "25/25 - 0s - loss: 0.0672 - accuracy: 0.9950\n"
     ]
    }
   ],
   "source": [
    "#training the model with an exponetially increasing rate\n",
    "#Define\n",
    "m1e = tf.keras.Sequential([\n",
    "    tf.keras.layers.Dense(4, activation = 'relu'),\n",
    "    tf.keras.layers.Dense(4, activation = 'relu'),\n",
    "    tf.keras.layers.Dense(1, activation= 'sigmoid')\n",
    "])\n",
    "#Compile\n",
    "m1e.compile(\n",
    "    loss = tf.keras.losses.binary_crossentropy,\n",
    "    optimizer= tf.keras.optimizers.Adam(lr = 0.02),\n",
    "    metrics = ['accuracy']\n",
    ")\n",
    "\n",
    "#fitting the model with the lr_shd\n",
    "m1e_hist = m1e.fit(x_train,y_train, \n",
    "                   epochs= 20, \n",
    "                   verbose= 2)"
   ]
  },
  {
   "cell_type": "markdown",
   "id": "35320a46",
   "metadata": {},
   "source": [
    "> **Observation:** <font color = 'orange'> With the deduced learning rate, the model is able to reach high accuracies with as low as 20 epochs</font>"
   ]
  },
  {
   "cell_type": "code",
   "execution_count": null,
   "id": "2a31a1ee",
   "metadata": {},
   "outputs": [],
   "source": []
  },
  {
   "cell_type": "code",
   "execution_count": null,
   "id": "de98b77f",
   "metadata": {},
   "outputs": [],
   "source": []
  },
  {
   "cell_type": "code",
   "execution_count": null,
   "id": "6f761824",
   "metadata": {},
   "outputs": [],
   "source": []
  },
  {
   "cell_type": "code",
   "execution_count": null,
   "id": "dd450ee0",
   "metadata": {},
   "outputs": [],
   "source": []
  },
  {
   "cell_type": "markdown",
   "id": "84102f5b",
   "metadata": {},
   "source": [
    "<a href = #top  style = \"text-decoration:none\" > go to top</a></br>\n",
    "<a name = \"bottom\"></a>"
   ]
  }
 ],
 "metadata": {
  "kernelspec": {
   "display_name": "Python 3 (ipykernel)",
   "language": "python",
   "name": "python3"
  },
  "language_info": {
   "codemirror_mode": {
    "name": "ipython",
    "version": 3
   },
   "file_extension": ".py",
   "mimetype": "text/x-python",
   "name": "python",
   "nbconvert_exporter": "python",
   "pygments_lexer": "ipython3",
   "version": "3.8.11"
  }
 },
 "nbformat": 4,
 "nbformat_minor": 5
}
