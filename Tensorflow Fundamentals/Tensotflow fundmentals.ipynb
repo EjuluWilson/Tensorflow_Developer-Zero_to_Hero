{
 "cells": [
  {
   "cell_type": "markdown",
   "id": "14027f14",
   "metadata": {},
   "source": [
    "# This notebook covers the most fundamental concepts of tensors using Tensorflow"
   ]
  },
  {
   "cell_type": "code",
   "execution_count": 209,
   "id": "ab51a8c6",
   "metadata": {},
   "outputs": [],
   "source": [
    "import tensorflow as tf"
   ]
  },
  {
   "cell_type": "code",
   "execution_count": 210,
   "id": "b108f18a",
   "metadata": {},
   "outputs": [
    {
     "name": "stdout",
     "output_type": "stream",
     "text": [
      "2.3.0\n"
     ]
    }
   ],
   "source": [
    "print(tf.__version__)"
   ]
  },
  {
   "cell_type": "markdown",
   "id": "eccba75d",
   "metadata": {},
   "source": [
    "## >> create a tensor from tf.constant\n",
    "- for creating tensors whose values cannot be edited"
   ]
  },
  {
   "cell_type": "code",
   "execution_count": 211,
   "id": "76ab1f39",
   "metadata": {},
   "outputs": [
    {
     "data": {
      "text/plain": [
       "<tf.Tensor: shape=(), dtype=int32, numpy=7>"
      ]
     },
     "execution_count": 211,
     "metadata": {},
     "output_type": "execute_result"
    }
   ],
   "source": [
    "# creatr a tensor from tf.constant\n",
    "scalar = tf.constant(7)\n",
    "scalar"
   ]
  },
  {
   "cell_type": "code",
   "execution_count": 212,
   "id": "2906373b",
   "metadata": {},
   "outputs": [
    {
     "data": {
      "text/plain": [
       "0"
      ]
     },
     "execution_count": 212,
     "metadata": {},
     "output_type": "execute_result"
    }
   ],
   "source": [
    "#check for number of dimentions\n",
    "scalar.ndim"
   ]
  },
  {
   "cell_type": "code",
   "execution_count": 213,
   "id": "46a7dcb8",
   "metadata": {},
   "outputs": [
    {
     "name": "stdout",
     "output_type": "stream",
     "text": [
      "tf.Tensor([10 10], shape=(2,), dtype=int32)\n"
     ]
    }
   ],
   "source": [
    "#create a vector\n",
    "vector = tf.constant([10,10])\n",
    "print(vector)"
   ]
  },
  {
   "cell_type": "code",
   "execution_count": 214,
   "id": "5de2e1a3",
   "metadata": {},
   "outputs": [
    {
     "data": {
      "text/plain": [
       "1"
      ]
     },
     "execution_count": 214,
     "metadata": {},
     "output_type": "execute_result"
    }
   ],
   "source": [
    "#check for number of dimentions\n",
    "vector.ndim"
   ]
  },
  {
   "cell_type": "code",
   "execution_count": 215,
   "id": "3b16e6db",
   "metadata": {},
   "outputs": [
    {
     "data": {
      "text/plain": [
       "<tf.Tensor: shape=(3, 2), dtype=int32, numpy=\n",
       "array([[1, 3],\n",
       "       [4, 5],\n",
       "       [6, 9]])>"
      ]
     },
     "execution_count": 215,
     "metadata": {},
     "output_type": "execute_result"
    }
   ],
   "source": [
    "#create a matrix\n",
    "matrix = tf.constant([[1,3],\n",
    "                      [4,5],\n",
    "                      [6,9]])\n",
    "matrix"
   ]
  },
  {
   "cell_type": "code",
   "execution_count": 216,
   "id": "bb64948a",
   "metadata": {},
   "outputs": [
    {
     "data": {
      "text/plain": [
       "2"
      ]
     },
     "execution_count": 216,
     "metadata": {},
     "output_type": "execute_result"
    }
   ],
   "source": [
    "#check for the number of dimentions\n",
    "matrix.ndim"
   ]
  },
  {
   "cell_type": "code",
   "execution_count": 217,
   "id": "af62c295",
   "metadata": {},
   "outputs": [
    {
     "data": {
      "text/plain": [
       "<tf.Tensor: shape=(3, 2, 3), dtype=int32, numpy=\n",
       "array([[[ 1,  2,  3],\n",
       "        [ 4,  5,  6]],\n",
       "\n",
       "       [[ 7,  8,  9],\n",
       "        [10, 11, 12]],\n",
       "\n",
       "       [[16, 17, 18],\n",
       "        [19, 20, 21]]])>"
      ]
     },
     "execution_count": 217,
     "metadata": {},
     "output_type": "execute_result"
    }
   ],
   "source": [
    "#create a tensor\n",
    "tensor = tf.constant([[[1,2,3],\n",
    "                      [4,5,6]],\n",
    "                     [[7,8,9],\n",
    "                      [10,11,12]],\n",
    "                     [[16,17,18],\n",
    "                      [19,20,21]]])\n",
    "tensor"
   ]
  },
  {
   "cell_type": "code",
   "execution_count": 218,
   "id": "81bfded6",
   "metadata": {
    "scrolled": true
   },
   "outputs": [
    {
     "data": {
      "text/plain": [
       "3"
      ]
     },
     "execution_count": 218,
     "metadata": {},
     "output_type": "execute_result"
    }
   ],
   "source": [
    "tensor.ndim"
   ]
  },
  {
   "cell_type": "markdown",
   "id": "307afad2",
   "metadata": {},
   "source": [
    "##### A constant is a single number, a vector is a 1D tensor, a matrix is a 2D tensor while a tensor is an n-dimrntional array"
   ]
  },
  {
   "cell_type": "code",
   "execution_count": 219,
   "id": "89c5fcc7",
   "metadata": {},
   "outputs": [
    {
     "data": {
      "text/plain": [
       "<tf.Tensor: shape=(3, 2), dtype=float16, numpy=\n",
       "array([[1., 3.],\n",
       "       [4., 5.],\n",
       "       [6., 9.]], dtype=float16)>"
      ]
     },
     "execution_count": 219,
     "metadata": {},
     "output_type": "execute_result"
    }
   ],
   "source": [
    "#chaging the tensor datatype\n",
    "#useful for reducing storage requirenmrent  \n",
    "a = tf.constant([[1,3],\n",
    "                [4,5],\n",
    "                [6,9]], dtype = tf.float16)\n",
    "a"
   ]
  },
  {
   "cell_type": "markdown",
   "id": "8508e1a8",
   "metadata": {},
   "source": [
    "## >> create a tensor from tf.Variable()\n",
    "- creates tensors whose values can be edited (like lists in python)"
   ]
  },
  {
   "cell_type": "code",
   "execution_count": 220,
   "id": "ec697282",
   "metadata": {},
   "outputs": [
    {
     "data": {
      "text/plain": [
       "<tf.Variable 'Variable:0' shape=(2,) dtype=int32, numpy=array([1, 3])>"
      ]
     },
     "execution_count": 220,
     "metadata": {},
     "output_type": "execute_result"
    }
   ],
   "source": [
    "a = tf.Variable([1,3])\n",
    "a"
   ]
  },
  {
   "cell_type": "code",
   "execution_count": 221,
   "id": "94d45444",
   "metadata": {},
   "outputs": [
    {
     "name": "stdout",
     "output_type": "stream",
     "text": [
      "tf.Tensor(1, shape=(), dtype=int32)\n"
     ]
    }
   ],
   "source": [
    "print(a[0])"
   ]
  },
  {
   "cell_type": "code",
   "execution_count": 222,
   "id": "db26a74f",
   "metadata": {},
   "outputs": [
    {
     "data": {
      "text/plain": [
       "<tf.Variable 'Variable:0' shape=(2,) dtype=int32, numpy=array([7, 3])>"
      ]
     },
     "execution_count": 222,
     "metadata": {},
     "output_type": "execute_result"
    }
   ],
   "source": [
    "#changing the tensor value(use assign)\n",
    "a[0].assign(7)\n",
    "a"
   ]
  },
  {
   "cell_type": "markdown",
   "id": "1d7f3795",
   "metadata": {},
   "source": [
    "**Note** Rarely will you need to decide between using tf.constant and tf.variable as tf does that for you"
   ]
  },
  {
   "cell_type": "markdown",
   "id": "a21df05b",
   "metadata": {},
   "source": [
    "## >> creating random tesors"
   ]
  },
  {
   "cell_type": "code",
   "execution_count": 223,
   "id": "ec983a1e",
   "metadata": {},
   "outputs": [
    {
     "data": {
      "text/plain": [
       "<tf.Tensor: shape=(3, 2), dtype=float32, numpy=\n",
       "array([[0.6645621 , 0.44100678],\n",
       "       [0.3528825 , 0.46448255],\n",
       "       [0.03366041, 0.68467236]], dtype=float32)>"
      ]
     },
     "execution_count": 223,
     "metadata": {},
     "output_type": "execute_result"
    }
   ],
   "source": [
    "rt1 = tf.random.Generator.from_seed(42)\n",
    "rt1 = tf.random.uniform(shape=(3,2)) #from random distribution\n",
    "rt1"
   ]
  },
  {
   "cell_type": "markdown",
   "id": "cc4a2118",
   "metadata": {},
   "source": [
    "## >> shuffling tesors"
   ]
  },
  {
   "cell_type": "code",
   "execution_count": 224,
   "id": "43e7a194",
   "metadata": {},
   "outputs": [
    {
     "data": {
      "text/plain": [
       "<tf.Tensor: shape=(3, 2), dtype=float32, numpy=\n",
       "array([[0.6645621 , 0.44100678],\n",
       "       [0.3528825 , 0.46448255],\n",
       "       [0.03366041, 0.68467236]], dtype=float32)>"
      ]
     },
     "execution_count": 224,
     "metadata": {},
     "output_type": "execute_result"
    }
   ],
   "source": [
    "tf.random.set_seed(42) #global level seed \n",
    "tf.random.shuffle(rt1, seed = 42 ) #operation level  random seed"
   ]
  },
  {
   "cell_type": "markdown",
   "id": "97dec8fe",
   "metadata": {},
   "source": [
    "> **Rule 4:**  both seeds are required for no change. Seeding is important to ensure a consistent/reproducable experiments"
   ]
  },
  {
   "cell_type": "markdown",
   "id": "150854e0",
   "metadata": {},
   "source": [
    "## >> other ways to create tensors"
   ]
  },
  {
   "cell_type": "code",
   "execution_count": 225,
   "id": "60ac2ce8",
   "metadata": {},
   "outputs": [
    {
     "data": {
      "text/plain": [
       "<tf.Tensor: shape=(3, 4), dtype=int16, numpy=\n",
       "array([[1, 1, 1, 1],\n",
       "       [1, 1, 1, 1],\n",
       "       [1, 1, 1, 1]], dtype=int16)>"
      ]
     },
     "execution_count": 225,
     "metadata": {},
     "output_type": "execute_result"
    }
   ],
   "source": [
    "# a tesor of ones\n",
    "tf.ones(shape=[3, 4], dtype=tf.int16)"
   ]
  },
  {
   "cell_type": "code",
   "execution_count": 226,
   "id": "2e399f12",
   "metadata": {},
   "outputs": [
    {
     "data": {
      "text/plain": [
       "<tf.Tensor: shape=(3, 4), dtype=int16, numpy=\n",
       "array([[0, 0, 0, 0],\n",
       "       [0, 0, 0, 0],\n",
       "       [0, 0, 0, 0]], dtype=int16)>"
      ]
     },
     "execution_count": 226,
     "metadata": {},
     "output_type": "execute_result"
    }
   ],
   "source": [
    "# a tesor of ones\n",
    "tf.zeros(shape=[3, 4], dtype=tf.int16)"
   ]
  },
  {
   "cell_type": "code",
   "execution_count": 227,
   "id": "3fd6b14f",
   "metadata": {},
   "outputs": [
    {
     "name": "stdout",
     "output_type": "stream",
     "text": [
      "[ 1  2  3  4  5  6  7  8  9 10 11 12 13 14 15 16 17 18 19 20 21 22 23 24] \n",
      "\n",
      "tf.Tensor(\n",
      "[[[ 1  2  3  4]\n",
      "  [ 5  6  7  8]\n",
      "  [ 9 10 11 12]]\n",
      "\n",
      " [[13 14 15 16]\n",
      "  [17 18 19 20]\n",
      "  [21 22 23 24]]], shape=(2, 3, 4), dtype=int32)\n"
     ]
    }
   ],
   "source": [
    "# from numpy array\n",
    "import numpy as np \n",
    "np_array = np.arange(1,25)\n",
    "print(np_array,\"\\n\")\n",
    "\n",
    "tf_array = tf.constant(np_array,shape=(2,3,4)) # shape should relate to the number of elements in the numpy array\n",
    "print(tf_array)"
   ]
  },
  {
   "cell_type": "markdown",
   "id": "d5c99925",
   "metadata": {},
   "source": [
    "> **Difference between np arrays and tf tensors** tf tensors can run much faster on a GPU for numerical computing"
   ]
  },
  {
   "cell_type": "markdown",
   "id": "c14f6dcf",
   "metadata": {},
   "source": [
    "### >> useful tensor attributes"
   ]
  },
  {
   "cell_type": "code",
   "execution_count": 228,
   "id": "23b80f45",
   "metadata": {},
   "outputs": [
    {
     "name": "stdout",
     "output_type": "stream",
     "text": [
      "(3, 2, 3)\n",
      "tf.Tensor(18, shape=(), dtype=int32)\n",
      "3\n"
     ]
    }
   ],
   "source": [
    "tx = tf.constant([[[1,2,3],\n",
    "                      [4,5,6]],\n",
    "                     [[7,8,9],\n",
    "                      [10,11,12]],\n",
    "                     [[16,17,18],\n",
    "                      [19,20,21]]])\n",
    "\n",
    "#shape\n",
    "print(tx.shape)\n",
    "\n",
    "#size/number of elements\n",
    "print(tf.size(tx))\n",
    "\n",
    "#number of dimentions\n",
    "print(tx.ndim)"
   ]
  },
  {
   "cell_type": "code",
   "execution_count": 229,
   "id": "ba387db7",
   "metadata": {},
   "outputs": [
    {
     "name": "stdout",
     "output_type": "stream",
     "text": [
      "(3, 2, 4)\n",
      "24\n",
      "3\n"
     ]
    }
   ],
   "source": [
    "#prettier\n",
    "tx = tf.constant([[[1,2,3,1],\n",
    "                      [4,5,6,2]],\n",
    "                  \n",
    "                     [[7,8,9,3],\n",
    "                      [10,11,12,4]],\n",
    "                  \n",
    "                     [[16,17,18,5],\n",
    "                      [19,20,21,6]]])\n",
    "\n",
    "#shape\n",
    "print(tx.shape)\n",
    "\n",
    "#size/number of elements\n",
    "print(tf.size(tx).numpy())\n",
    "\n",
    "#number of dimentions\n",
    "print(tx.ndim)"
   ]
  },
  {
   "cell_type": "markdown",
   "id": "f2220e02",
   "metadata": {},
   "source": [
    "### >> indexing tensors\n",
    "- works like python lists"
   ]
  },
  {
   "cell_type": "code",
   "execution_count": 230,
   "id": "e4066d7c",
   "metadata": {},
   "outputs": [
    {
     "name": "stdout",
     "output_type": "stream",
     "text": [
      "(3, 2, 4)\n",
      "24\n",
      "3\n"
     ]
    }
   ],
   "source": [
    "#prettier\n",
    "tx1 = tf.constant([[[1,2,3,1],\n",
    "                      [4,5,6,2]],\n",
    "                  \n",
    "                     [[7,8,9,3],\n",
    "                      [10,11,12,4]],\n",
    "                  \n",
    "                     [[16,17,18,5],\n",
    "                      [19,20,21,6]]])\n",
    "\n",
    "#shape\n",
    "print(tx.shape)\n",
    "\n",
    "#size/number of elements\n",
    "print(tf.size(tx).numpy())\n",
    "\n",
    "#number of dimentions\n",
    "print(tx.ndim)"
   ]
  },
  {
   "cell_type": "code",
   "execution_count": 231,
   "id": "292d6db0",
   "metadata": {},
   "outputs": [
    {
     "data": {
      "text/plain": [
       "<tf.Tensor: shape=(2, 2, 2), dtype=int32, numpy=\n",
       "array([[[ 1,  2],\n",
       "        [ 4,  5]],\n",
       "\n",
       "       [[ 7,  8],\n",
       "        [10, 11]]])>"
      ]
     },
     "execution_count": 231,
     "metadata": {},
     "output_type": "execute_result"
    }
   ],
   "source": [
    "#first element of each dimention\n",
    "tx1[:2,:2,:2]"
   ]
  },
  {
   "cell_type": "code",
   "execution_count": 232,
   "id": "9b9de5ae",
   "metadata": {},
   "outputs": [
    {
     "data": {
      "text/plain": [
       "<tf.Tensor: shape=(3, 4), dtype=int32, numpy=\n",
       "array([[ 4,  5,  6,  2],\n",
       "       [10, 11, 12,  4],\n",
       "       [19, 20, 21,  6]])>"
      ]
     },
     "execution_count": 232,
     "metadata": {},
     "output_type": "execute_result"
    }
   ],
   "source": [
    "# last element of each of the 3 dimentions (should be a list)\n",
    "tx1[:,-1]"
   ]
  },
  {
   "cell_type": "code",
   "execution_count": 233,
   "id": "d8cc9747",
   "metadata": {},
   "outputs": [
    {
     "data": {
      "text/plain": [
       "<tf.Tensor: shape=(2, 2, 2), dtype=int32, numpy=\n",
       "array([[[ 1,  2],\n",
       "        [ 4,  5]],\n",
       "\n",
       "       [[ 7,  8],\n",
       "        [10, 11]]])>"
      ]
     },
     "execution_count": 233,
     "metadata": {},
     "output_type": "execute_result"
    }
   ],
   "source": [
    "tx1[:2,:,:2]"
   ]
  },
  {
   "cell_type": "code",
   "execution_count": 234,
   "id": "8a4e4ec4",
   "metadata": {},
   "outputs": [
    {
     "data": {
      "text/plain": [
       "<tf.Tensor: shape=(3, 2, 4, 1), dtype=int32, numpy=\n",
       "array([[[[ 1],\n",
       "         [ 2],\n",
       "         [ 3],\n",
       "         [ 1]],\n",
       "\n",
       "        [[ 4],\n",
       "         [ 5],\n",
       "         [ 6],\n",
       "         [ 2]]],\n",
       "\n",
       "\n",
       "       [[[ 7],\n",
       "         [ 8],\n",
       "         [ 9],\n",
       "         [ 3]],\n",
       "\n",
       "        [[10],\n",
       "         [11],\n",
       "         [12],\n",
       "         [ 4]]],\n",
       "\n",
       "\n",
       "       [[[16],\n",
       "         [17],\n",
       "         [18],\n",
       "         [ 5]],\n",
       "\n",
       "        [[19],\n",
       "         [20],\n",
       "         [21],\n",
       "         [ 6]]]])>"
      ]
     },
     "execution_count": 234,
     "metadata": {},
     "output_type": "execute_result"
    }
   ],
   "source": [
    "#expanding axis\n",
    "tx2 = tx1[..., tf.newaxis]\n",
    "tx2"
   ]
  },
  {
   "cell_type": "code",
   "execution_count": 235,
   "id": "6c2d0a49",
   "metadata": {},
   "outputs": [
    {
     "data": {
      "text/plain": [
       "<tf.Tensor: shape=(3, 2, 4, 1), dtype=int32, numpy=\n",
       "array([[[[ 1],\n",
       "         [ 2],\n",
       "         [ 3],\n",
       "         [ 1]],\n",
       "\n",
       "        [[ 4],\n",
       "         [ 5],\n",
       "         [ 6],\n",
       "         [ 2]]],\n",
       "\n",
       "\n",
       "       [[[ 7],\n",
       "         [ 8],\n",
       "         [ 9],\n",
       "         [ 3]],\n",
       "\n",
       "        [[10],\n",
       "         [11],\n",
       "         [12],\n",
       "         [ 4]]],\n",
       "\n",
       "\n",
       "       [[[16],\n",
       "         [17],\n",
       "         [18],\n",
       "         [ 5]],\n",
       "\n",
       "        [[19],\n",
       "         [20],\n",
       "         [21],\n",
       "         [ 6]]]])>"
      ]
     },
     "execution_count": 235,
     "metadata": {},
     "output_type": "execute_result"
    }
   ],
   "source": [
    "#expanding axis alternative\n",
    "tf.expand_dims(tx1,axis = -1) # new axis will be added at the end of the existiing one"
   ]
  },
  {
   "cell_type": "code",
   "execution_count": 236,
   "id": "34ec95e0",
   "metadata": {},
   "outputs": [
    {
     "data": {
      "text/plain": [
       "<tf.Tensor: shape=(3, 2, 1, 4), dtype=int32, numpy=\n",
       "array([[[[ 1,  2,  3,  1]],\n",
       "\n",
       "        [[ 4,  5,  6,  2]]],\n",
       "\n",
       "\n",
       "       [[[ 7,  8,  9,  3]],\n",
       "\n",
       "        [[10, 11, 12,  4]]],\n",
       "\n",
       "\n",
       "       [[[16, 17, 18,  5]],\n",
       "\n",
       "        [[19, 20, 21,  6]]]])>"
      ]
     },
     "execution_count": 236,
     "metadata": {},
     "output_type": "execute_result"
    }
   ],
   "source": [
    "tf.expand_dims(tx1,axis = 2) # new axis will be the  third"
   ]
  },
  {
   "cell_type": "markdown",
   "id": "3f1900c7",
   "metadata": {},
   "source": [
    "### >> tensor operations"
   ]
  },
  {
   "cell_type": "code",
   "execution_count": 237,
   "id": "2dfe0e2e",
   "metadata": {},
   "outputs": [
    {
     "data": {
      "text/plain": [
       "array([[1., 1., 1.],\n",
       "       [1., 1., 1.]], dtype=float32)"
      ]
     },
     "execution_count": 237,
     "metadata": {},
     "output_type": "execute_result"
    }
   ],
   "source": [
    "tx3 = tf.ones([2,3])\n",
    "tx3.numpy()"
   ]
  },
  {
   "cell_type": "code",
   "execution_count": 238,
   "id": "6a7f69a1",
   "metadata": {},
   "outputs": [
    {
     "name": "stdout",
     "output_type": "stream",
     "text": [
      "tf.Tensor(\n",
      "[[3. 3. 3.]\n",
      " [3. 3. 3.]], shape=(2, 3), dtype=float32)\n",
      "tf.Tensor(\n",
      "[[5. 5. 5.]\n",
      " [5. 5. 5.]], shape=(2, 3), dtype=float32)\n"
     ]
    }
   ],
   "source": [
    "#elementwise operations\n",
    "print(tx3+2)\n",
    "print(tf.multiply(tx3,5))#better for faster gpu numerical operations\n",
    "# the above applies to all the basic math operations and elementwise matrix multiplication"
   ]
  },
  {
   "cell_type": "code",
   "execution_count": 255,
   "id": "9a601932",
   "metadata": {},
   "outputs": [
    {
     "data": {
      "text/plain": [
       "<tf.Tensor: shape=(3, 2), dtype=int32, numpy=\n",
       "array([[13, 18],\n",
       "       [24, 37],\n",
       "       [42, 63]])>"
      ]
     },
     "execution_count": 255,
     "metadata": {},
     "output_type": "execute_result"
    }
   ],
   "source": [
    "#matix multipliction\n",
    "a = tf.constant([[1,3],\n",
    "                      [4,5],\n",
    "                      [6,9]])\n",
    "b = tf.constant([[1,3],\n",
    "                [4,5]])\n",
    "c = tf.matmul(a,b) # short for tf.linalg.matmul(a,b)\n",
    "c"
   ]
  },
  {
   "cell_type": "code",
   "execution_count": 256,
   "id": "27c217ba",
   "metadata": {},
   "outputs": [
    {
     "data": {
      "text/plain": [
       "<tf.Tensor: shape=(3, 2), dtype=int32, numpy=\n",
       "array([[13, 18],\n",
       "       [24, 37],\n",
       "       [42, 63]])>"
      ]
     },
     "execution_count": 256,
     "metadata": {},
     "output_type": "execute_result"
    }
   ],
   "source": [
    "#using python for matrix multiplication\n",
    "a@b"
   ]
  },
  {
   "cell_type": "code",
   "execution_count": 257,
   "id": "b4d5a3bf",
   "metadata": {},
   "outputs": [
    {
     "data": {
      "text/plain": [
       "<tf.Tensor: shape=(3, 2), dtype=int32, numpy=\n",
       "array([[13, 18],\n",
       "       [24, 37],\n",
       "       [42, 63]])>"
      ]
     },
     "execution_count": 257,
     "metadata": {},
     "output_type": "execute_result"
    }
   ],
   "source": [
    "#multiplication with tf.tensordot()\n",
    "tf.tensordot(a,b, axes =1)"
   ]
  },
  {
   "cell_type": "code",
   "execution_count": 258,
   "id": "6a41cede",
   "metadata": {},
   "outputs": [
    {
     "name": "stdout",
     "output_type": "stream",
     "text": [
      "tf.Tensor(\n",
      "[[1 4 6]\n",
      " [3 5 9]], shape=(2, 3), dtype=int32)\n"
     ]
    }
   ],
   "source": [
    "#matrix transpose\n",
    "print(tf.transpose(a))"
   ]
  },
  {
   "cell_type": "code",
   "execution_count": 259,
   "id": "efbe2ad2",
   "metadata": {},
   "outputs": [
    {
     "data": {
      "text/plain": [
       "<tf.Tensor: shape=(3, 8), dtype=int32, numpy=\n",
       "array([[ 1,  2,  3,  1,  4,  5,  6,  2],\n",
       "       [ 7,  8,  9,  3, 10, 11, 12,  4],\n",
       "       [16, 17, 18,  5, 19, 20, 21,  6]])>"
      ]
     },
     "execution_count": 259,
     "metadata": {},
     "output_type": "execute_result"
    }
   ],
   "source": [
    "#reshing matrices\n",
    "#prettier\n",
    "t3 = tf.constant([[[1,2,3,1],\n",
    "                      [4,5,6,2]],\n",
    "                  \n",
    "                     [[7,8,9,3],\n",
    "                      [10,11,12,4]],\n",
    "                  \n",
    "                     [[16,17,18,5],\n",
    "                      [19,20,21,6]]])\n",
    "#tf.size(t3)\n",
    "t4 = tf.reshape(t3,shape = (3,8))\n",
    "t4"
   ]
  },
  {
   "cell_type": "markdown",
   "id": "73d886ab",
   "metadata": {},
   "source": [
    "### >> changing tensor datatype\n",
    "- use tf.cast()\n",
    "- save space\n",
    "- train faster\n",
    "- mixed precision, keep certain parts of the model 32-bit for stability and others 16-bit, the model will have a lower step    time and train equally as well in terms of the evaluation matrices such as accuracy "
   ]
  },
  {
   "cell_type": "code",
   "execution_count": 264,
   "id": "32cc49b2",
   "metadata": {},
   "outputs": [
    {
     "data": {
      "text/plain": [
       "<tf.Tensor: shape=(2, 4), dtype=float16, numpy=\n",
       "array([[1., 2., 3., 1.],\n",
       "       [4., 5., 6., 2.]], dtype=float16)>"
      ]
     },
     "execution_count": 264,
     "metadata": {},
     "output_type": "execute_result"
    }
   ],
   "source": [
    "t3 = tf.constant([[1,2,3,1],\n",
    "                      [4,5,6,2]], tf.float16)\n",
    "t3"
   ]
  },
  {
   "cell_type": "code",
   "execution_count": 266,
   "id": "d75486b0",
   "metadata": {},
   "outputs": [
    {
     "data": {
      "text/plain": [
       "<tf.Tensor: shape=(2, 4), dtype=int16, numpy=\n",
       "array([[1, 2, 3, 1],\n",
       "       [4, 5, 6, 2]], dtype=int16)>"
      ]
     },
     "execution_count": 266,
     "metadata": {},
     "output_type": "execute_result"
    }
   ],
   "source": [
    "# cast to int16\n",
    "t4 = tf.cast(t3, dtype = tf.int16)\n",
    "t4"
   ]
  },
  {
   "cell_type": "markdown",
   "id": "db3f2953",
   "metadata": {},
   "source": [
    "### >> Aggregating tensors\n",
    "- condensing/reducing a tensor down to a single value\n",
    "- find min, max, std, variance, absolute value etc"
   ]
  },
  {
   "cell_type": "code",
   "execution_count": 281,
   "id": "05e3468f",
   "metadata": {},
   "outputs": [
    {
     "data": {
      "text/plain": [
       "<tf.Tensor: shape=(3, 3), dtype=int32, numpy=\n",
       "array([[-2,  4, -1],\n",
       "       [ 6,  0, 11],\n",
       "       [ 7,  3,  9]])>"
      ]
     },
     "execution_count": 281,
     "metadata": {},
     "output_type": "execute_result"
    }
   ],
   "source": [
    "t5 = tf.constant([[-2,4,-1],\n",
    "                  [6,0,11],\n",
    "                  [7,3,9]])\n",
    "t5"
   ]
  },
  {
   "cell_type": "code",
   "execution_count": 282,
   "id": "6b53d1b8",
   "metadata": {},
   "outputs": [
    {
     "name": "stdout",
     "output_type": "stream",
     "text": [
      "-2\n",
      "11\n",
      "37\n",
      "4\n",
      "0\n"
     ]
    }
   ],
   "source": [
    "#min\n",
    "print(tf.reduce_min(t5).numpy())\n",
    "print(tf.reduce_max(t5).numpy())\n",
    "print(tf.reduce_sum(t5).numpy())\n",
    "print(tf.reduce_mean(t5).numpy())\n",
    "print(tf.reduce_prod(t5).numpy())"
   ]
  },
  {
   "cell_type": "code",
   "execution_count": 286,
   "id": "e0721453",
   "metadata": {},
   "outputs": [],
   "source": [
    "#variance \n",
    "#need to access tensorflow probability \n",
    "# import tensorflow_probability as tfp\n",
    "# tfp.stats.Variance(E)"
   ]
  },
  {
   "cell_type": "code",
   "execution_count": 291,
   "id": "971773a4",
   "metadata": {},
   "outputs": [
    {
     "data": {
      "text/plain": [
       "4.2803025"
      ]
     },
     "execution_count": 291,
     "metadata": {},
     "output_type": "execute_result"
    }
   ],
   "source": [
    "#standard devaition\n",
    "#frist convert to real or complex datatype\n",
    "tf.math.reduce_std(tf.cast(t5, tf.float32)).numpy()"
   ]
  }
 ],
 "metadata": {
  "kernelspec": {
   "display_name": "Python 3 (ipykernel)",
   "language": "python",
   "name": "python3"
  },
  "language_info": {
   "codemirror_mode": {
    "name": "ipython",
    "version": 3
   },
   "file_extension": ".py",
   "mimetype": "text/x-python",
   "name": "python",
   "nbconvert_exporter": "python",
   "pygments_lexer": "ipython3",
   "version": "3.8.11"
  }
 },
 "nbformat": 4,
 "nbformat_minor": 5
}
